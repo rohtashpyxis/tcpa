{
 "cells": [
  {
   "cell_type": "code",
   "execution_count": 2,
   "id": "3ace7765",
   "metadata": {
    "id": "3ace7765"
   },
   "outputs": [
    {
     "name": "stderr",
     "output_type": "stream",
     "text": [
      "/Library/Frameworks/Python.framework/Versions/3.8/lib/python3.8/site-packages/scipy/__init__.py:146: UserWarning: A NumPy version >=1.16.5 and <1.23.0 is required for this version of SciPy (detected version 1.23.1\n",
      "  warnings.warn(f\"A NumPy version >={np_minversion} and <{np_maxversion}\"\n"
     ]
    }
   ],
   "source": [
    "import pandas as pd\n",
    "from statsmodels.tsa.seasonal import seasonal_decompose\n",
    "import matplotlib.pyplot as plt\n",
    "import seaborn as sns"
   ]
  },
  {
   "cell_type": "code",
   "execution_count": 3,
   "id": "2a2d1ad2",
   "metadata": {},
   "outputs": [],
   "source": [
    "def get_tcpa_range(data):\n",
    "\n",
    "  initial = []\n",
    "  final = []\n",
    "  dates = []\n",
    "  campaigns = []\n",
    "  ad_group = []\n",
    "  # data[\"Changes\"]\n",
    "  level = []\n",
    "  # data[\"Date & time\"]\n",
    "  # print(type(data[\"Changes\"]))\n",
    "  for i in range(len(data[\"Changes\"])):\n",
    "    if \"Target CPA\" in data[\"Changes\"][i]:\n",
    "      # print(i)\n",
    "      # print(data[\"Changes\"][i])\n",
    "      # print(data[\"Date & time\"][i])\n",
    "      dates.append(data[\"date\"][i])\n",
    "      campaigns.append(data[\"Campaign\"][i])\n",
    "      ad_group.append(data[\"Ad group\"][i])\n",
    "      \n",
    "\n",
    "    \n",
    "      if \"Campaign\" in data[\"Changes\"][i]:\n",
    "        level.append(\"campaign\")\n",
    "\n",
    "      else:\n",
    "        level.append(\"ad group\")\n",
    "    \n",
    "      # print((i))\n",
    "      k = data[\"Changes\"][i].split(\" \")\n",
    "      # print(i)\n",
    "    \n",
    "      for j in k:\n",
    "        if \"to\" == j:\n",
    "          initial.append(float(k[k.index(j)-1].replace(\"$\",\"\")))\n",
    "          final.append(float(k[k.index(j)+1].replace(\"$\",\"\")))\n",
    "        \n",
    "    \n",
    "  df= pd.DataFrame()\n",
    "  df[\"date\"]= dates\n",
    "  df[\"initial\"] = initial\n",
    "  df[\"final\"] = final\n",
    "  df[\"level\"] = level\n",
    "  df[\"Campaign name\"]= campaigns\n",
    "  df[\"Ad group name\"] = ad_group\n",
    "  \n",
    "  return df "
   ]
  },
  {
   "cell_type": "code",
   "execution_count": 4,
   "id": "esmRbVTUsNJF",
   "metadata": {
    "id": "esmRbVTUsNJF"
   },
   "outputs": [],
   "source": [
    "# tpca chnages\n",
    "datas = pd.read_csv('hello_fresh - Sheetmeal.csv')\n",
    "datas = datas.rename({'Date & time':'date'}, axis = 1)\n",
    "datas['date'] = pd.to_datetime(datas['date']).dt.strftime(\"%y-%m-%d\")\n",
    "\n",
    "#metric\n",
    "data = pd.read_csv('TCPA strategy - Hellofresh-metric.csv')\n",
    "data.rename(columns={'Date':'date','Ad group ID':'ad_group_id','Campaign ID':'campaign_id','Cost':'cost','Keyword ID':'keyword_id','Cost per conversion':'cost_per_conversion','Conversions':'conversions','Clicks':'clicks','Impressions':'impressions','Impression share':'impression_share','Keyword':'keyword'},inplace=True)\n",
    "\n",
    "\n",
    "data_meals = data[data[\"Campaign name\"]== \"US-S[01]: Prospecting | Brand | Meals - Exact\"].copy()\n",
    "data_meals['weekday'] = pd.to_datetime(data_meals['date']).dt.day_name()\n",
    "cats = ['Monday', 'Tuesday', 'Wednesday', 'Thursday', 'Friday', 'Saturday', 'Sunday']\n",
    "data_meals['weekday'] = pd.Categorical(data_meals['weekday'], categories=cats, ordered=True)\n",
    "data_meals['date'] = pd.to_datetime(data_meals['date']).dt.strftime(\"%y-%m-%d\")"
   ]
  },
  {
   "cell_type": "code",
   "execution_count": 5,
   "id": "epX4tryksV_F",
   "metadata": {
    "colab": {
     "base_uri": "https://localhost:8080/",
     "height": 802
    },
    "id": "epX4tryksV_F",
    "outputId": "c515e1d6-6100-446e-d0ef-3cdfb9a7dc61"
   },
   "outputs": [],
   "source": [
    "tcpa = get_tcpa_range(datas)\n",
    "df= tcpa "
   ]
  },
  {
   "cell_type": "code",
   "execution_count": 6,
   "id": "ea2f565f",
   "metadata": {},
   "outputs": [
    {
     "data": {
      "text/html": [
       "<div>\n",
       "<style scoped>\n",
       "    .dataframe tbody tr th:only-of-type {\n",
       "        vertical-align: middle;\n",
       "    }\n",
       "\n",
       "    .dataframe tbody tr th {\n",
       "        vertical-align: top;\n",
       "    }\n",
       "\n",
       "    .dataframe thead th {\n",
       "        text-align: right;\n",
       "    }\n",
       "</style>\n",
       "<table border=\"1\" class=\"dataframe\">\n",
       "  <thead>\n",
       "    <tr style=\"text-align: right;\">\n",
       "      <th></th>\n",
       "      <th>date</th>\n",
       "      <th>initial</th>\n",
       "      <th>final</th>\n",
       "      <th>level</th>\n",
       "      <th>Campaign name</th>\n",
       "      <th>Ad group name</th>\n",
       "    </tr>\n",
       "  </thead>\n",
       "  <tbody>\n",
       "    <tr>\n",
       "      <th>0</th>\n",
       "      <td>22-07-05</td>\n",
       "      <td>120.0</td>\n",
       "      <td>126.0</td>\n",
       "      <td>ad group</td>\n",
       "      <td>US-S[01]: Prospecting | Brand | Meals - Exact</td>\n",
       "      <td>Meals</td>\n",
       "    </tr>\n",
       "    <tr>\n",
       "      <th>1</th>\n",
       "      <td>22-07-04</td>\n",
       "      <td>111.0</td>\n",
       "      <td>120.0</td>\n",
       "      <td>ad group</td>\n",
       "      <td>US-S[01]: Prospecting | Brand | Meals - Exact</td>\n",
       "      <td>Meals</td>\n",
       "    </tr>\n",
       "    <tr>\n",
       "      <th>2</th>\n",
       "      <td>22-06-28</td>\n",
       "      <td>99.0</td>\n",
       "      <td>105.0</td>\n",
       "      <td>campaign</td>\n",
       "      <td>US-S[01]: Prospecting | Brand | Meals - Exact</td>\n",
       "      <td>NaN</td>\n",
       "    </tr>\n",
       "    <tr>\n",
       "      <th>3</th>\n",
       "      <td>22-06-03</td>\n",
       "      <td>107.0</td>\n",
       "      <td>111.0</td>\n",
       "      <td>ad group</td>\n",
       "      <td>US-S[01]: Prospecting | Brand | Meals - Exact</td>\n",
       "      <td>Meals</td>\n",
       "    </tr>\n",
       "    <tr>\n",
       "      <th>4</th>\n",
       "      <td>22-06-03</td>\n",
       "      <td>99.0</td>\n",
       "      <td>107.0</td>\n",
       "      <td>ad group</td>\n",
       "      <td>US-S[01]: Prospecting | Brand | Meals - Exact</td>\n",
       "      <td>Meals</td>\n",
       "    </tr>\n",
       "    <tr>\n",
       "      <th>5</th>\n",
       "      <td>22-05-31</td>\n",
       "      <td>95.0</td>\n",
       "      <td>99.0</td>\n",
       "      <td>campaign</td>\n",
       "      <td>US-S[01]: Prospecting | Brand | Meals - Exact</td>\n",
       "      <td>NaN</td>\n",
       "    </tr>\n",
       "    <tr>\n",
       "      <th>6</th>\n",
       "      <td>22-05-17</td>\n",
       "      <td>105.0</td>\n",
       "      <td>95.0</td>\n",
       "      <td>campaign</td>\n",
       "      <td>US-S[01]: Prospecting | Brand | Meals - Exact</td>\n",
       "      <td>NaN</td>\n",
       "    </tr>\n",
       "    <tr>\n",
       "      <th>7</th>\n",
       "      <td>22-05-17</td>\n",
       "      <td>95.0</td>\n",
       "      <td>105.0</td>\n",
       "      <td>campaign</td>\n",
       "      <td>US-S[01]: Prospecting | Brand | Meals - Exact</td>\n",
       "      <td>NaN</td>\n",
       "    </tr>\n",
       "    <tr>\n",
       "      <th>8</th>\n",
       "      <td>22-05-17</td>\n",
       "      <td>93.0</td>\n",
       "      <td>95.0</td>\n",
       "      <td>campaign</td>\n",
       "      <td>US-S[01]: Prospecting | Brand | Meals - Exact</td>\n",
       "      <td>NaN</td>\n",
       "    </tr>\n",
       "    <tr>\n",
       "      <th>9</th>\n",
       "      <td>22-05-14</td>\n",
       "      <td>80.0</td>\n",
       "      <td>93.0</td>\n",
       "      <td>campaign</td>\n",
       "      <td>US-S[01]: Prospecting | Brand | Meals - Exact</td>\n",
       "      <td>NaN</td>\n",
       "    </tr>\n",
       "    <tr>\n",
       "      <th>10</th>\n",
       "      <td>22-05-10</td>\n",
       "      <td>85.0</td>\n",
       "      <td>80.0</td>\n",
       "      <td>campaign</td>\n",
       "      <td>US-S[01]: Prospecting | Brand | Meals - Exact</td>\n",
       "      <td>NaN</td>\n",
       "    </tr>\n",
       "    <tr>\n",
       "      <th>11</th>\n",
       "      <td>22-04-30</td>\n",
       "      <td>93.0</td>\n",
       "      <td>99.0</td>\n",
       "      <td>ad group</td>\n",
       "      <td>US-S[01]: Prospecting | Brand | Meals - Exact</td>\n",
       "      <td>Meals</td>\n",
       "    </tr>\n",
       "    <tr>\n",
       "      <th>12</th>\n",
       "      <td>22-04-27</td>\n",
       "      <td>90.0</td>\n",
       "      <td>85.0</td>\n",
       "      <td>campaign</td>\n",
       "      <td>US-S[01]: Prospecting | Brand | Meals - Exact</td>\n",
       "      <td>NaN</td>\n",
       "    </tr>\n",
       "    <tr>\n",
       "      <th>13</th>\n",
       "      <td>22-04-23</td>\n",
       "      <td>85.0</td>\n",
       "      <td>90.0</td>\n",
       "      <td>campaign</td>\n",
       "      <td>US-S[01]: Prospecting | Brand | Meals - Exact</td>\n",
       "      <td>NaN</td>\n",
       "    </tr>\n",
       "    <tr>\n",
       "      <th>14</th>\n",
       "      <td>22-04-21</td>\n",
       "      <td>80.0</td>\n",
       "      <td>85.0</td>\n",
       "      <td>campaign</td>\n",
       "      <td>US-S[01]: Prospecting | Brand | Meals - Exact</td>\n",
       "      <td>NaN</td>\n",
       "    </tr>\n",
       "    <tr>\n",
       "      <th>15</th>\n",
       "      <td>22-04-20</td>\n",
       "      <td>85.0</td>\n",
       "      <td>93.0</td>\n",
       "      <td>ad group</td>\n",
       "      <td>US-S[01]: Prospecting | Brand | Meals - Exact</td>\n",
       "      <td>Meals</td>\n",
       "    </tr>\n",
       "    <tr>\n",
       "      <th>16</th>\n",
       "      <td>22-04-18</td>\n",
       "      <td>83.0</td>\n",
       "      <td>85.0</td>\n",
       "      <td>ad group</td>\n",
       "      <td>US-S[01]: Prospecting | Brand | Meals - Exact</td>\n",
       "      <td>Meals</td>\n",
       "    </tr>\n",
       "    <tr>\n",
       "      <th>17</th>\n",
       "      <td>22-04-17</td>\n",
       "      <td>75.0</td>\n",
       "      <td>83.0</td>\n",
       "      <td>ad group</td>\n",
       "      <td>US-S[01]: Prospecting | Brand | Meals - Exact</td>\n",
       "      <td>Meals</td>\n",
       "    </tr>\n",
       "    <tr>\n",
       "      <th>18</th>\n",
       "      <td>22-04-17</td>\n",
       "      <td>55.0</td>\n",
       "      <td>75.0</td>\n",
       "      <td>ad group</td>\n",
       "      <td>US-S[01]: Prospecting | Brand | Meals - Exact</td>\n",
       "      <td>Meals</td>\n",
       "    </tr>\n",
       "    <tr>\n",
       "      <th>19</th>\n",
       "      <td>22-04-16</td>\n",
       "      <td>51.0</td>\n",
       "      <td>55.0</td>\n",
       "      <td>ad group</td>\n",
       "      <td>US-S[01]: Prospecting | Brand | Meals - Exact</td>\n",
       "      <td>Meals</td>\n",
       "    </tr>\n",
       "    <tr>\n",
       "      <th>20</th>\n",
       "      <td>22-04-12</td>\n",
       "      <td>36.0</td>\n",
       "      <td>51.0</td>\n",
       "      <td>ad group</td>\n",
       "      <td>US-S[01]: Prospecting | Brand | Meals - Exact</td>\n",
       "      <td>Meals</td>\n",
       "    </tr>\n",
       "    <tr>\n",
       "      <th>21</th>\n",
       "      <td>22-03-31</td>\n",
       "      <td>70.0</td>\n",
       "      <td>80.0</td>\n",
       "      <td>campaign</td>\n",
       "      <td>US-S[01]: Prospecting | Brand | Meals - Exact</td>\n",
       "      <td>NaN</td>\n",
       "    </tr>\n",
       "    <tr>\n",
       "      <th>22</th>\n",
       "      <td>22-02-15</td>\n",
       "      <td>50.0</td>\n",
       "      <td>70.0</td>\n",
       "      <td>campaign</td>\n",
       "      <td>US-S[01]: Prospecting | Brand | Meals - Exact</td>\n",
       "      <td>NaN</td>\n",
       "    </tr>\n",
       "    <tr>\n",
       "      <th>23</th>\n",
       "      <td>22-01-10</td>\n",
       "      <td>75.0</td>\n",
       "      <td>50.0</td>\n",
       "      <td>campaign</td>\n",
       "      <td>US-S[01]: Prospecting | Brand | Meals - Exact</td>\n",
       "      <td>NaN</td>\n",
       "    </tr>\n",
       "  </tbody>\n",
       "</table>\n",
       "</div>"
      ],
      "text/plain": [
       "        date  initial  final     level  \\\n",
       "0   22-07-05    120.0  126.0  ad group   \n",
       "1   22-07-04    111.0  120.0  ad group   \n",
       "2   22-06-28     99.0  105.0  campaign   \n",
       "3   22-06-03    107.0  111.0  ad group   \n",
       "4   22-06-03     99.0  107.0  ad group   \n",
       "5   22-05-31     95.0   99.0  campaign   \n",
       "6   22-05-17    105.0   95.0  campaign   \n",
       "7   22-05-17     95.0  105.0  campaign   \n",
       "8   22-05-17     93.0   95.0  campaign   \n",
       "9   22-05-14     80.0   93.0  campaign   \n",
       "10  22-05-10     85.0   80.0  campaign   \n",
       "11  22-04-30     93.0   99.0  ad group   \n",
       "12  22-04-27     90.0   85.0  campaign   \n",
       "13  22-04-23     85.0   90.0  campaign   \n",
       "14  22-04-21     80.0   85.0  campaign   \n",
       "15  22-04-20     85.0   93.0  ad group   \n",
       "16  22-04-18     83.0   85.0  ad group   \n",
       "17  22-04-17     75.0   83.0  ad group   \n",
       "18  22-04-17     55.0   75.0  ad group   \n",
       "19  22-04-16     51.0   55.0  ad group   \n",
       "20  22-04-12     36.0   51.0  ad group   \n",
       "21  22-03-31     70.0   80.0  campaign   \n",
       "22  22-02-15     50.0   70.0  campaign   \n",
       "23  22-01-10     75.0   50.0  campaign   \n",
       "\n",
       "                                    Campaign name Ad group name  \n",
       "0   US-S[01]: Prospecting | Brand | Meals - Exact         Meals  \n",
       "1   US-S[01]: Prospecting | Brand | Meals - Exact         Meals  \n",
       "2   US-S[01]: Prospecting | Brand | Meals - Exact           NaN  \n",
       "3   US-S[01]: Prospecting | Brand | Meals - Exact         Meals  \n",
       "4   US-S[01]: Prospecting | Brand | Meals - Exact         Meals  \n",
       "5   US-S[01]: Prospecting | Brand | Meals - Exact           NaN  \n",
       "6   US-S[01]: Prospecting | Brand | Meals - Exact           NaN  \n",
       "7   US-S[01]: Prospecting | Brand | Meals - Exact           NaN  \n",
       "8   US-S[01]: Prospecting | Brand | Meals - Exact           NaN  \n",
       "9   US-S[01]: Prospecting | Brand | Meals - Exact           NaN  \n",
       "10  US-S[01]: Prospecting | Brand | Meals - Exact           NaN  \n",
       "11  US-S[01]: Prospecting | Brand | Meals - Exact         Meals  \n",
       "12  US-S[01]: Prospecting | Brand | Meals - Exact           NaN  \n",
       "13  US-S[01]: Prospecting | Brand | Meals - Exact           NaN  \n",
       "14  US-S[01]: Prospecting | Brand | Meals - Exact           NaN  \n",
       "15  US-S[01]: Prospecting | Brand | Meals - Exact         Meals  \n",
       "16  US-S[01]: Prospecting | Brand | Meals - Exact         Meals  \n",
       "17  US-S[01]: Prospecting | Brand | Meals - Exact         Meals  \n",
       "18  US-S[01]: Prospecting | Brand | Meals - Exact         Meals  \n",
       "19  US-S[01]: Prospecting | Brand | Meals - Exact         Meals  \n",
       "20  US-S[01]: Prospecting | Brand | Meals - Exact         Meals  \n",
       "21  US-S[01]: Prospecting | Brand | Meals - Exact           NaN  \n",
       "22  US-S[01]: Prospecting | Brand | Meals - Exact           NaN  \n",
       "23  US-S[01]: Prospecting | Brand | Meals - Exact           NaN  "
      ]
     },
     "execution_count": 6,
     "metadata": {},
     "output_type": "execute_result"
    }
   ],
   "source": [
    "df"
   ]
  },
  {
   "cell_type": "code",
   "execution_count": 7,
   "id": "edc78b40",
   "metadata": {
    "colab": {
     "base_uri": "https://localhost:8080/",
     "height": 457
    },
    "id": "edc78b40",
    "outputId": "02f6a1c6-0f46-466f-e747-c799c04b6fd2"
   },
   "outputs": [
    {
     "data": {
      "text/html": [
       "<div>\n",
       "<style scoped>\n",
       "    .dataframe tbody tr th:only-of-type {\n",
       "        vertical-align: middle;\n",
       "    }\n",
       "\n",
       "    .dataframe tbody tr th {\n",
       "        vertical-align: top;\n",
       "    }\n",
       "\n",
       "    .dataframe thead th {\n",
       "        text-align: right;\n",
       "    }\n",
       "</style>\n",
       "<table border=\"1\" class=\"dataframe\">\n",
       "  <thead>\n",
       "    <tr style=\"text-align: right;\">\n",
       "      <th></th>\n",
       "      <th>date</th>\n",
       "      <th>initial</th>\n",
       "      <th>final</th>\n",
       "      <th>level</th>\n",
       "      <th>Campaign name</th>\n",
       "      <th>Ad group name</th>\n",
       "    </tr>\n",
       "  </thead>\n",
       "  <tbody>\n",
       "    <tr>\n",
       "      <th>0</th>\n",
       "      <td>22-07-05</td>\n",
       "      <td>120.0</td>\n",
       "      <td>126.0</td>\n",
       "      <td>ad group</td>\n",
       "      <td>US-S[01]: Prospecting | Brand | Meals - Exact</td>\n",
       "      <td>Meals</td>\n",
       "    </tr>\n",
       "    <tr>\n",
       "      <th>1</th>\n",
       "      <td>22-07-04</td>\n",
       "      <td>111.0</td>\n",
       "      <td>120.0</td>\n",
       "      <td>ad group</td>\n",
       "      <td>US-S[01]: Prospecting | Brand | Meals - Exact</td>\n",
       "      <td>Meals</td>\n",
       "    </tr>\n",
       "    <tr>\n",
       "      <th>3</th>\n",
       "      <td>22-06-03</td>\n",
       "      <td>107.0</td>\n",
       "      <td>111.0</td>\n",
       "      <td>ad group</td>\n",
       "      <td>US-S[01]: Prospecting | Brand | Meals - Exact</td>\n",
       "      <td>Meals</td>\n",
       "    </tr>\n",
       "    <tr>\n",
       "      <th>4</th>\n",
       "      <td>22-06-03</td>\n",
       "      <td>99.0</td>\n",
       "      <td>107.0</td>\n",
       "      <td>ad group</td>\n",
       "      <td>US-S[01]: Prospecting | Brand | Meals - Exact</td>\n",
       "      <td>Meals</td>\n",
       "    </tr>\n",
       "    <tr>\n",
       "      <th>11</th>\n",
       "      <td>22-04-30</td>\n",
       "      <td>93.0</td>\n",
       "      <td>99.0</td>\n",
       "      <td>ad group</td>\n",
       "      <td>US-S[01]: Prospecting | Brand | Meals - Exact</td>\n",
       "      <td>Meals</td>\n",
       "    </tr>\n",
       "    <tr>\n",
       "      <th>15</th>\n",
       "      <td>22-04-20</td>\n",
       "      <td>85.0</td>\n",
       "      <td>93.0</td>\n",
       "      <td>ad group</td>\n",
       "      <td>US-S[01]: Prospecting | Brand | Meals - Exact</td>\n",
       "      <td>Meals</td>\n",
       "    </tr>\n",
       "    <tr>\n",
       "      <th>16</th>\n",
       "      <td>22-04-18</td>\n",
       "      <td>83.0</td>\n",
       "      <td>85.0</td>\n",
       "      <td>ad group</td>\n",
       "      <td>US-S[01]: Prospecting | Brand | Meals - Exact</td>\n",
       "      <td>Meals</td>\n",
       "    </tr>\n",
       "    <tr>\n",
       "      <th>17</th>\n",
       "      <td>22-04-17</td>\n",
       "      <td>75.0</td>\n",
       "      <td>83.0</td>\n",
       "      <td>ad group</td>\n",
       "      <td>US-S[01]: Prospecting | Brand | Meals - Exact</td>\n",
       "      <td>Meals</td>\n",
       "    </tr>\n",
       "    <tr>\n",
       "      <th>18</th>\n",
       "      <td>22-04-17</td>\n",
       "      <td>55.0</td>\n",
       "      <td>75.0</td>\n",
       "      <td>ad group</td>\n",
       "      <td>US-S[01]: Prospecting | Brand | Meals - Exact</td>\n",
       "      <td>Meals</td>\n",
       "    </tr>\n",
       "    <tr>\n",
       "      <th>19</th>\n",
       "      <td>22-04-16</td>\n",
       "      <td>51.0</td>\n",
       "      <td>55.0</td>\n",
       "      <td>ad group</td>\n",
       "      <td>US-S[01]: Prospecting | Brand | Meals - Exact</td>\n",
       "      <td>Meals</td>\n",
       "    </tr>\n",
       "    <tr>\n",
       "      <th>20</th>\n",
       "      <td>22-04-12</td>\n",
       "      <td>36.0</td>\n",
       "      <td>51.0</td>\n",
       "      <td>ad group</td>\n",
       "      <td>US-S[01]: Prospecting | Brand | Meals - Exact</td>\n",
       "      <td>Meals</td>\n",
       "    </tr>\n",
       "  </tbody>\n",
       "</table>\n",
       "</div>"
      ],
      "text/plain": [
       "        date  initial  final     level  \\\n",
       "0   22-07-05    120.0  126.0  ad group   \n",
       "1   22-07-04    111.0  120.0  ad group   \n",
       "3   22-06-03    107.0  111.0  ad group   \n",
       "4   22-06-03     99.0  107.0  ad group   \n",
       "11  22-04-30     93.0   99.0  ad group   \n",
       "15  22-04-20     85.0   93.0  ad group   \n",
       "16  22-04-18     83.0   85.0  ad group   \n",
       "17  22-04-17     75.0   83.0  ad group   \n",
       "18  22-04-17     55.0   75.0  ad group   \n",
       "19  22-04-16     51.0   55.0  ad group   \n",
       "20  22-04-12     36.0   51.0  ad group   \n",
       "\n",
       "                                    Campaign name Ad group name  \n",
       "0   US-S[01]: Prospecting | Brand | Meals - Exact         Meals  \n",
       "1   US-S[01]: Prospecting | Brand | Meals - Exact         Meals  \n",
       "3   US-S[01]: Prospecting | Brand | Meals - Exact         Meals  \n",
       "4   US-S[01]: Prospecting | Brand | Meals - Exact         Meals  \n",
       "11  US-S[01]: Prospecting | Brand | Meals - Exact         Meals  \n",
       "15  US-S[01]: Prospecting | Brand | Meals - Exact         Meals  \n",
       "16  US-S[01]: Prospecting | Brand | Meals - Exact         Meals  \n",
       "17  US-S[01]: Prospecting | Brand | Meals - Exact         Meals  \n",
       "18  US-S[01]: Prospecting | Brand | Meals - Exact         Meals  \n",
       "19  US-S[01]: Prospecting | Brand | Meals - Exact         Meals  \n",
       "20  US-S[01]: Prospecting | Brand | Meals - Exact         Meals  "
      ]
     },
     "execution_count": 7,
     "metadata": {},
     "output_type": "execute_result"
    }
   ],
   "source": [
    "# tcpa\n",
    "tcpa = tcpa[tcpa[\"level\"]== 'ad group']\n",
    "tcpa"
   ]
  },
  {
   "cell_type": "code",
   "execution_count": 8,
   "id": "fcffb24f",
   "metadata": {
    "id": "fcffb24f"
   },
   "outputs": [],
   "source": [
    "data1 = pd.merge(data_meals,tcpa,on=['date'], how = \"left\")\n",
    "data1[\"final\"].fillna(method =\"ffill\", inplace = True)\n",
    "data1.rename(columns={'final':'tcpa'},inplace=True)"
   ]
  },
  {
   "cell_type": "code",
   "execution_count": 9,
   "id": "823b12a7",
   "metadata": {},
   "outputs": [],
   "source": [
    "data1 = data1[(data1['date']>='22-04-12')&(data1['date']<'22-07-06')]"
   ]
  },
  {
   "cell_type": "code",
   "execution_count": 9,
   "id": "gXVZGo-pCgfE",
   "metadata": {
    "colab": {
     "base_uri": "https://localhost:8080/"
    },
    "id": "gXVZGo-pCgfE",
    "outputId": "caaa3efc-79c2-42d2-d9bf-328ce8bfa25a"
   },
   "outputs": [],
   "source": [
    "# count = 0\n",
    "# for i in tcpa['final']:\n",
    "#   count = count+1\n",
    "#   # print(i)\n",
    "#   data = data1[data1[\"final\"] == i]\n",
    "#   # print(data)\n",
    "#   #find top ad_groups basis spends\n",
    "#   analysis = data.groupby(['ad_group_id'])['cost'].sum().reset_index().sort_values('cost',ascending=False,ignore_index = True)\n",
    "#   analysis[\"Cost_cumsum\"] = analysis[\"cost\"].cumsum()\n",
    "#   analysis[\"cost_share\"] = analysis[\"cost\"].cumsum()/analysis['cost'].sum()\n",
    "\n",
    "\n",
    "#   #take top 10 adgroups\n",
    "#   top_adgroups = analysis[:10]['ad_group_id'].values\n",
    "#   # print(top_adgroups)\n",
    "\n",
    "\n",
    "#   df = data[data['ad_group_id'].isin(top_adgroups)].copy()\n",
    "\n",
    "#   analysis = df.groupby('ad_group_id')[['final','cost','conversions','impression_share',\"clicks\"]].agg({'final':'mean','cost':'sum','conversions':'sum','impression_share':'mean',\"clicks\":\"sum\",})\n",
    "#   analysis['cost_per_conv'] = analysis['cost']/analysis['conversions']\n",
    "#   if count == 1:\n",
    "#     new = analysis\n",
    "#   new = pd.concat([new, analysis])\n",
    "# new = new.iloc[1:,:]\n",
    "# print(new)\n"
   ]
  },
  {
   "cell_type": "code",
   "execution_count": 10,
   "id": "CEaJZ6hKRWb9",
   "metadata": {
    "colab": {
     "base_uri": "https://localhost:8080/",
     "height": 488
    },
    "id": "CEaJZ6hKRWb9",
    "outputId": "948f7f7b-bc67-4e16-c6ab-957bf6b9b211"
   },
   "outputs": [],
   "source": [
    "#  new[\"cost_per_conv_delta\"] = new[\"cost_per_conv\"].diff() \n",
    "#  new[\"clicks_delta\"] = new[\"clicks\"].diff()\n",
    "#  new[\"impression_share_delta\"] = new[\"impression_share\"].diff()\n",
    "# new[\"conversions_delta\"] = new[\"conversions\"].diff()\n",
    "# new"
   ]
  },
  {
   "cell_type": "code",
   "execution_count": 11,
   "id": "aa1bfd20",
   "metadata": {},
   "outputs": [],
   "source": [
    "import seaborn as sns"
   ]
  },
  {
   "cell_type": "markdown",
   "id": "e439ffc1",
   "metadata": {},
   "source": [
    "# average level graphs\n",
    "### cost ka graph ad krana h \n",
    "##  average cost_per_conv vs tcpa (reg plot from sns) (remove outlier)\n",
    "## average cost_per_conv vs clicks \n",
    "## average cost_per_conv vs  impression  share \n",
    "## average cost_per_conv vs  conversion\n",
    "## clicks vs conversion \n",
    "## delta graphs average wise \n",
    "## cpa vs conversions\n",
    "### cpa vs cliks \n",
    "### \n",
    "## delta at date level "
   ]
  },
  {
   "cell_type": "code",
   "execution_count": 12,
   "id": "Rnt-MnLnZ9dd",
   "metadata": {
    "colab": {
     "base_uri": "https://localhost:8080/",
     "height": 867
    },
    "id": "Rnt-MnLnZ9dd",
    "outputId": "57495b25-92eb-475b-876d-28ab68218167"
   },
   "outputs": [],
   "source": [
    "# #grpah plot for this \n",
    "\n",
    "# # sns.regplot(x= \"cost_per_conv\", y= \"impression_share\", data= analysis, order = 2)\n",
    "# sns.regplot(x='final',y='cost_per_conv', data = new , order = 2)\n",
    "\n"
   ]
  },
  {
   "cell_type": "code",
   "execution_count": 13,
   "id": "d37edbea",
   "metadata": {},
   "outputs": [],
   "source": [
    "# sns.regplot(x='final',y='conversions',  data = new , order = 2)\n"
   ]
  },
  {
   "cell_type": "code",
   "execution_count": 14,
   "id": "1e632f8c",
   "metadata": {},
   "outputs": [],
   "source": [
    "# sns.regplot(x='final',y='cost', data = new , order = 2)\n"
   ]
  },
  {
   "cell_type": "code",
   "execution_count": 15,
   "id": "7fecacf6",
   "metadata": {},
   "outputs": [],
   "source": [
    "\n",
    "# sns.regplot(x='final',y='impression_share',  data = new , order = 2)"
   ]
  },
  {
   "cell_type": "markdown",
   "id": "7d33a745",
   "metadata": {},
   "source": [
    "# cost_per_conv vs"
   ]
  },
  {
   "cell_type": "code",
   "execution_count": 16,
   "id": "75e513b4",
   "metadata": {},
   "outputs": [],
   "source": [
    "\n",
    "# print(sns.regplot(x='cost_per_conv',y='impression_share',  data = new , order = 2))\n"
   ]
  },
  {
   "cell_type": "code",
   "execution_count": 17,
   "id": "886ff163",
   "metadata": {},
   "outputs": [],
   "source": [
    "# print(sns.regplot(x='cost_per_conv',y='clicks',  data = new , order = 2))"
   ]
  },
  {
   "cell_type": "code",
   "execution_count": 18,
   "id": "767ba1cb",
   "metadata": {},
   "outputs": [],
   "source": [
    "# sns.regplot(x='cost_per_conv',y='conversions',  data = new , order = 2)"
   ]
  },
  {
   "cell_type": "code",
   "execution_count": null,
   "id": "677eee0d",
   "metadata": {},
   "outputs": [],
   "source": []
  },
  {
   "cell_type": "code",
   "execution_count": 19,
   "id": "4852a69b",
   "metadata": {
    "scrolled": true
   },
   "outputs": [],
   "source": [
    "# sns.regplot(x='cost_per_conv',y='clicks',  data = new , order = 2)"
   ]
  },
  {
   "cell_type": "code",
   "execution_count": 20,
   "id": "29986c20",
   "metadata": {
    "scrolled": true
   },
   "outputs": [],
   "source": [
    "# sns.regplot(x='impression_share',y='clicks',  data = new , order = 2)"
   ]
  },
  {
   "cell_type": "code",
   "execution_count": 21,
   "id": "d31b2235",
   "metadata": {},
   "outputs": [],
   "source": [
    "# sns.regplot(x='clicks',y='conversions',  data = new , order = 2)"
   ]
  },
  {
   "cell_type": "code",
   "execution_count": null,
   "id": "7c40102d",
   "metadata": {},
   "outputs": [],
   "source": []
  },
  {
   "cell_type": "markdown",
   "id": "09791441",
   "metadata": {},
   "source": [
    "# delta average graphs"
   ]
  },
  {
   "cell_type": "code",
   "execution_count": 22,
   "id": "bdcf9ddb",
   "metadata": {},
   "outputs": [],
   "source": [
    "# sns.regplot(x='cost_per_conv_delta',y='impression_share_delta',  data = new , order = 2)"
   ]
  },
  {
   "cell_type": "code",
   "execution_count": null,
   "id": "7fa8e498",
   "metadata": {},
   "outputs": [],
   "source": []
  },
  {
   "cell_type": "code",
   "execution_count": 23,
   "id": "081cdc4d",
   "metadata": {},
   "outputs": [],
   "source": [
    "# sns.regplot(x='cost_per_conv_delta',y='clicks_delta',  data = new , order = 2)"
   ]
  },
  {
   "cell_type": "code",
   "execution_count": 24,
   "id": "dcca671c",
   "metadata": {},
   "outputs": [],
   "source": [
    "# sns.regplot(x='cost_per_conv_delta',y='conversions_delta',  data = new , order = 2)"
   ]
  },
  {
   "cell_type": "markdown",
   "id": "533229ff",
   "metadata": {},
   "source": [
    "# sensitivity Analysis"
   ]
  },
  {
   "cell_type": "code",
   "execution_count": 11,
   "id": "cf2b79fa",
   "metadata": {},
   "outputs": [],
   "source": [
    "analysis = data1.groupby(['date','ad_group_id'])[['cost','conversions','tcpa','clicks','impressions','impression_share',\"Absolute top impression percentage\",\"Conversion rate\"]].agg({'cost':'sum','conversions':'sum','tcpa':'mean','clicks':'sum','impressions':'sum','impression_share':'mean', \"Absolute top impression percentage\":\"mean\", \"Conversion rate\":\"mean\"}).reset_index()\n",
    "analysis['cost_per_conv'] = analysis['cost']/analysis['conversions']\n",
    "analysis['cost_per_click'] = analysis['cost']/analysis['clicks']\n",
    "analysis['diff'] = analysis['cost_per_conv'] - analysis['tcpa']"
   ]
  },
  {
   "cell_type": "code",
   "execution_count": 12,
   "id": "27b1a2c7",
   "metadata": {},
   "outputs": [
    {
     "data": {
      "text/plain": [
       "<AxesSubplot:xlabel='cost_per_conv', ylabel='impression_share'>"
      ]
     },
     "execution_count": 12,
     "metadata": {},
     "output_type": "execute_result"
    },
    {
     "data": {
      "image/png": "[encoded data removed]",
      "text/plain": [
       "<Figure size 432x288 with 1 Axes>"
      ]
     },
     "metadata": {
      "needs_background": "light"
     },
     "output_type": "display_data"
    }
   ],
   "source": [
    "sns.regplot(x= \"cost_per_conv\", y= \"impression_share\", data= analysis[analysis[\"cost_per_conv\"]<300] , order = 2)"
   ]
  },
  {
   "cell_type": "code",
   "execution_count": 13,
   "id": "e1d65463",
   "metadata": {},
   "outputs": [
    {
     "data": {
      "text/plain": [
       "<AxesSubplot:xlabel='cost_per_conv', ylabel='Absolute top impression percentage'>"
      ]
     },
     "execution_count": 13,
     "metadata": {},
     "output_type": "execute_result"
    },
    {
     "data": {
      "image/png": "[encoded data removed]",
      "text/plain": [
       "<Figure size 432x288 with 1 Axes>"
      ]
     },
     "metadata": {
      "needs_background": "light"
     },
     "output_type": "display_data"
    }
   ],
   "source": [
    "sns.regplot(x= \"cost_per_conv\", y= \"Absolute top impression percentage\", data= analysis[analysis[\"cost_per_conv\"]<300], order = 1)\n"
   ]
  },
  {
   "cell_type": "code",
   "execution_count": 14,
   "id": "3ff6f029",
   "metadata": {},
   "outputs": [
    {
     "data": {
      "text/plain": [
       "<AxesSubplot:xlabel='cost_per_conv', ylabel='conversions'>"
      ]
     },
     "execution_count": 14,
     "metadata": {},
     "output_type": "execute_result"
    },
    {
     "data": {
      "image/png": "[encoded data removed]",
      "text/plain": [
       "<Figure size 432x288 with 1 Axes>"
      ]
     },
     "metadata": {
      "needs_background": "light"
     },
     "output_type": "display_data"
    }
   ],
   "source": [
    "sns.regplot(x= \"cost_per_conv\", y= \"conversions\", data= analysis[(analysis[\"cost_per_conv\"]<300) & (analysis[\"conversions\"]<150)], order = 2)"
   ]
  },
  {
   "cell_type": "code",
   "execution_count": 29,
   "id": "dbab6b7e",
   "metadata": {},
   "outputs": [],
   "source": [
    "# sns.regplot(y= \"impression_share\", x = \"cost_per_click\", data= analysis[(analysis[\"cost_per_conv\"]<300)] , order = 2)\n",
    "# sns.regplot(y= \"impression_share\", x = \"cost_per_click\", data= analysis[(analysis[\"cost_per_conv\"]<300)] , order = 2)"
   ]
  },
  {
   "cell_type": "code",
   "execution_count": 30,
   "id": "16132f9c",
   "metadata": {},
   "outputs": [],
   "source": [
    "# sns.regplot(y= \"impression_share\", x = \"cost_per_click\", data= analysis[(analysis[\"cost_per_conv\"]<300)] , order = 2)"
   ]
  },
  {
   "cell_type": "code",
   "execution_count": 31,
   "id": "fc812cc4",
   "metadata": {},
   "outputs": [],
   "source": [
    "# sns.regplot(y= \"Absolute top impression percentage\", x = \"cost_per_click\", data= analysis[(analysis[\"cost_per_conv\"]<300)] , order = 2)"
   ]
  },
  {
   "cell_type": "code",
   "execution_count": 32,
   "id": "500ff143",
   "metadata": {},
   "outputs": [],
   "source": [
    "# Conversion rate\n",
    "# sns.regplot(y= \"Conversion rate\", x = \"cost_per_conv\", data= analysis[(analysis[\"cost_per_conv\"]<300) & (analysis[\"Conversion rate\"]<12)  ] , order = 4)\n",
    "# analysi"
   ]
  },
  {
   "cell_type": "code",
   "execution_count": 33,
   "id": "408a252a",
   "metadata": {},
   "outputs": [],
   "source": [
    "# sns.regplot(y= \"cost_per_click\", x = \"cost_per_conv\", data= analysis[(analysis[\"cost_per_conv\"]<300)] , order = 2)"
   ]
  },
  {
   "cell_type": "code",
   "execution_count": 34,
   "id": "fa67a9f7",
   "metadata": {},
   "outputs": [],
   "source": [
    "\n",
    "# sns.regplot(y= \"impression_share\", x = \"cost_per_click\", data= analysis[(analysis[\"cost_per_conv\"]<300)] , order = 2)"
   ]
  },
  {
   "cell_type": "code",
   "execution_count": 35,
   "id": "23229021",
   "metadata": {},
   "outputs": [],
   "source": [
    "# sns.regplot(x= \"cost_per_conv\", y= \"conversions\", data= analysis[(analysis[\"cost_per_conv\"]<200) ], order = 2)"
   ]
  },
  {
   "cell_type": "code",
   "execution_count": 36,
   "id": "12b45b07",
   "metadata": {},
   "outputs": [],
   "source": [
    "#  analysis[analysis[\"cost_per_conv\"]<250].plot(y= \"cost_per_conv\", x= \"final\", kind = \"scatter\",figsize=(15,10))"
   ]
  },
  {
   "cell_type": "code",
   "execution_count": 37,
   "id": "4652ded0",
   "metadata": {},
   "outputs": [],
   "source": [
    "# import matplotlib.pyplot as plt\n",
    "# _,ax=plt.subplot(figsize = (18,3))\n",
    "# sns.boxplot(y= \"cost_per_conv\", x= \"final\", data =  analysis, width=.8 )"
   ]
  },
  {
   "cell_type": "code",
   "execution_count": 38,
   "id": "1b813b56",
   "metadata": {},
   "outputs": [],
   "source": [
    "\n",
    "# analysis[\"final\"].hist()\n"
   ]
  },
  {
   "cell_type": "markdown",
   "id": "c6d76ebd",
   "metadata": {},
   "source": [
    "# SEAONALITY ANALYSIS"
   ]
  },
  {
   "cell_type": "code",
   "execution_count": 15,
   "id": "3d37d5b9",
   "metadata": {},
   "outputs": [
    {
     "data": {
      "text/plain": [
       "<AxesSubplot:>"
      ]
     },
     "execution_count": 15,
     "metadata": {},
     "output_type": "execute_result"
    },
    {
     "data": {
      "image/png": "[encoded data removed]",
      "text/plain": [
       "<Figure size 1296x216 with 2 Axes>"
      ]
     },
     "metadata": {
      "needs_background": "light"
     },
     "output_type": "display_data"
    }
   ],
   "source": [
    "ax= analysis[(analysis[\"date\"]>\"22-04-01\") & (analysis[\"date\"]<\"22-07-06\")].plot(x=\"date\", y = \"tcpa\", figsize = (18,3))\n",
    "analysis[(analysis[\"date\"]>\"22-04-01\") & (analysis[\"date\"]<\"22-07-06\")].plot(x=\"date\", y = \"impression_share\",ax=ax, secondary_y =True) \n",
    "# analysis[(analysis[\"date\"]>\"22-04-01\") & (analysis[\"date\"]<\"22-07-06\")].plot(x=\"date\", y = \"Absolute top impression percentage\",ax=ax, secondary_y =True)\n",
    "# analysis[(analysis[\"date\"]>\"22-04-01\") & (analysis[\"date\"]<\"22-07-06\")].plot(x=\"date\", y = \"cost\",ax=ax, secondary_y =True)\n"
   ]
  },
  {
   "cell_type": "code",
   "execution_count": 16,
   "id": "cdd89211",
   "metadata": {},
   "outputs": [
    {
     "data": {
      "text/plain": [
       "<AxesSubplot:>"
      ]
     },
     "execution_count": 16,
     "metadata": {},
     "output_type": "execute_result"
    },
    {
     "data": {
      "image/png": "[encoded data removed]",
      "text/plain": [
       "<Figure size 1296x216 with 2 Axes>"
      ]
     },
     "metadata": {
      "needs_background": "light"
     },
     "output_type": "display_data"
    }
   ],
   "source": [
    "ax= analysis[(analysis[\"date\"]>\"22-04-01\") & (analysis[\"date\"]<\"22-07-06\")].plot(x=\"date\", y = \"tcpa\", figsize = (18,3))\n",
    "analysis[(analysis[\"date\"]>\"22-04-01\") & (analysis[\"date\"]<\"22-07-06\")].plot(x=\"date\", y = \"conversions\",ax=ax, secondary_y =True)"
   ]
  },
  {
   "cell_type": "code",
   "execution_count": 17,
   "id": "a735c66b",
   "metadata": {},
   "outputs": [
    {
     "data": {
      "text/plain": [
       "<AxesSubplot:xlabel='date'>"
      ]
     },
     "execution_count": 17,
     "metadata": {},
     "output_type": "execute_result"
    },
    {
     "data": {
      "image/png": "[encoded data removed]",
      "text/plain": [
       "<Figure size 1296x216 with 1 Axes>"
      ]
     },
     "metadata": {
      "needs_background": "light"
     },
     "output_type": "display_data"
    }
   ],
   "source": [
    "ax= analysis[(analysis[\"date\"]>\"22-04-01\")].plot(x=\"date\", y=\"tcpa\", figsize = (18,3))\n",
    "analysis[(analysis[\"date\"]>\"22-04-01\")].plot(x=\"date\", y=\"cost_per_conv\",ax=ax)"
   ]
  },
  {
   "cell_type": "code",
   "execution_count": 18,
   "id": "e4aee1e0",
   "metadata": {},
   "outputs": [
    {
     "data": {
      "image/png": "[encoded data removed]",
      "text/plain": [
       "<Figure size 1296x216 with 1 Axes>"
      ]
     },
     "metadata": {
      "needs_background": "light"
     },
     "output_type": "display_data"
    }
   ],
   "source": [
    "ax= analysis[analysis['diff']<200].plot(x=\"date\", y=\"diff\", figsize = (18,3))"
   ]
  },
  {
   "cell_type": "code",
   "execution_count": 19,
   "id": "1d562062",
   "metadata": {},
   "outputs": [
    {
     "data": {
      "text/plain": [
       "<AxesSubplot:>"
      ]
     },
     "execution_count": 19,
     "metadata": {},
     "output_type": "execute_result"
    },
    {
     "data": {
      "image/png": "[encoded data removed]",
      "text/plain": [
       "<Figure size 432x288 with 1 Axes>"
      ]
     },
     "metadata": {
      "needs_background": "light"
     },
     "output_type": "display_data"
    }
   ],
   "source": [
    "analysis[analysis['diff']<200]['diff'].hist()"
   ]
  },
  {
   "cell_type": "code",
   "execution_count": 54,
   "id": "fe68dbdd",
   "metadata": {},
   "outputs": [
    {
     "data": {
      "text/plain": [
       "779.9716166046371"
      ]
     },
     "execution_count": 54,
     "metadata": {},
     "output_type": "execute_result"
    }
   ],
   "source": [
    "analysis['diff'].var()"
   ]
  },
  {
   "cell_type": "code",
   "execution_count": 20,
   "id": "b704b034",
   "metadata": {},
   "outputs": [
    {
     "data": {
      "text/plain": [
       "[]"
      ]
     },
     "execution_count": 20,
     "metadata": {},
     "output_type": "execute_result"
    },
    {
     "data": {
      "image/png": "[encoded data removed]",
      "text/plain": [
       "<Figure size 1296x720 with 4 Axes>"
      ]
     },
     "metadata": {
      "needs_background": "light"
     },
     "output_type": "display_data"
    }
   ],
   "source": [
    " # analysis\n",
    "analysis1 = analysis['Conversion rate']\n",
    "analysis1.index = analysis.date\n",
    "decompose_result_mult = seasonal_decompose(analysis1, model=\"additive\",period =7)\n",
    "plt.rcParams.update({'figure.figsize': (18,10)})\n",
    "decompose_result_mult.plot()\n",
    "plt.plot()"
   ]
  },
  {
   "cell_type": "code",
   "execution_count": 58,
   "id": "5e1e9fc4",
   "metadata": {},
   "outputs": [
    {
     "data": {
      "text/plain": [
       "[]"
      ]
     },
     "execution_count": 58,
     "metadata": {},
     "output_type": "execute_result"
    },
    {
     "data": {
      "image/png": "[encoded data removed]",
      "text/plain": [
       "<Figure size 1296x720 with 4 Axes>"
      ]
     },
     "metadata": {
      "needs_background": "light"
     },
     "output_type": "display_data"
    }
   ],
   "source": [
    "# analysis\n",
    "analysis1 = analysis['cost_per_conv']\n",
    "analysis1.index = analysis.date\n",
    "decompose_result_mult = seasonal_decompose(analysis1, model=\"additive\",period =7)\n",
    "plt.rcParams.update({'figure.figsize': (18,10)})\n",
    "decompose_result_mult.plot()\n",
    "plt.plot()"
   ]
  },
  {
   "cell_type": "code",
   "execution_count": 88,
   "id": "60a5c640",
   "metadata": {},
   "outputs": [
    {
     "data": {
      "text/plain": [
       "<AxesSubplot:xlabel='date'>"
      ]
     },
     "execution_count": 88,
     "metadata": {},
     "output_type": "execute_result"
    },
    {
     "data": {
      "image/png": "[encoded data removed]",
      "text/plain": [
       "<Figure size 1296x216 with 1 Axes>"
      ]
     },
     "metadata": {
      "needs_background": "light"
     },
     "output_type": "display_data"
    }
   ],
   "source": [
    "ax= analysis.plot(x=\"date\", y=\"tcpa\", figsize = (18,3))\n",
    "analysis[analysis['cost_per_conv']<250].plot(x=\"date\", y=\"cost_per_conv\",ax=ax)"
   ]
  },
  {
   "cell_type": "code",
   "execution_count": 86,
   "id": "b26d6d85",
   "metadata": {},
   "outputs": [
    {
     "data": {
      "text/plain": [
       "<AxesSubplot:xlabel='date'>"
      ]
     },
     "execution_count": 86,
     "metadata": {},
     "output_type": "execute_result"
    },
    {
     "data": {
      "image/png": "[encoded data removed]",
      "text/plain": [
       "<Figure size 1296x216 with 1 Axes>"
      ]
     },
     "metadata": {
      "needs_background": "light"
     },
     "output_type": "display_data"
    }
   ],
   "source": [
    "ax=analysis.plot(x=\"date\", y = \"tcpa\", figsize = (18,3))\n",
    "decompose_result_mult.trend.plot()"
   ]
  },
  {
   "cell_type": "code",
   "execution_count": 74,
   "id": "4c5dbb5f",
   "metadata": {},
   "outputs": [
    {
     "data": {
      "text/plain": [
       "<AxesSubplot:xlabel='date'>"
      ]
     },
     "execution_count": 74,
     "metadata": {},
     "output_type": "execute_result"
    },
    {
     "data": {
      "image/png": "[encoded data removed]",
      "text/plain": [
       "<Figure size 1296x216 with 1 Axes>"
      ]
     },
     "metadata": {
      "needs_background": "light"
     },
     "output_type": "display_data"
    }
   ],
   "source": [
    "trend = decompose_result_mult.trend.reset_index()['trend']\n",
    "analysis['trend'] = trend\n",
    "analysis['diff_trend'] = analysis['trend'] - analysis['tcpa']\n",
    "ax=analysis.plot(x=\"date\", y = \"diff_trend\", figsize = (18,3))\n",
    "analysis[analysis['diff']<200].plot(x=\"date\", y=\"diff\", figsize = (18,3),ax=ax)"
   ]
  },
  {
   "cell_type": "code",
   "execution_count": 84,
   "id": "fdd9e7ca",
   "metadata": {},
   "outputs": [
    {
     "data": {
      "text/plain": [
       "<AxesSubplot:>"
      ]
     },
     "execution_count": 84,
     "metadata": {},
     "output_type": "execute_result"
    },
    {
     "data": {
      "image/png": "[encoded data removed]",
      "text/plain": [
       "<Figure size 576x360 with 1 Axes>"
      ]
     },
     "metadata": {
      "needs_background": "light"
     },
     "output_type": "display_data"
    }
   ],
   "source": [
    "from matplotlib import rcParams\n",
    "rcParams['figure.figsize'] = 8,5\n",
    "analysis['diff_trend'].hist()"
   ]
  },
  {
   "cell_type": "markdown",
   "id": "f425166a",
   "metadata": {},
   "source": [
    "# top keyword analysis "
   ]
  },
  {
   "cell_type": "code",
   "execution_count": 1191,
   "id": "a8e39bca",
   "metadata": {},
   "outputs": [
    {
     "data": {
      "text/plain": [
       "0.8277543417366947"
      ]
     },
     "execution_count": 1191,
     "metadata": {},
     "output_type": "execute_result"
    }
   ],
   "source": [
    "top = data1[data1[\"date\"]>=\"22-06-02\"].groupby([\"keyword_id\",\"Match type\",\"keyword\"])[['conversions','cost','impression_share','Absolute top impression percentage',\"final\"]].agg({\"conversions\":\"sum\",\"cost\":\"sum\",\"impression_share\":\"mean\",\"Absolute top impression percentage\":\"mean\",'final':\"mean\"}).reset_index().copy()\n",
    "\n",
    "top.sort_values([\"cost\"], ascending =False, inplace = True ,ignore_index=True)\n",
    "# print(top)\n",
    "# top\n",
    "top[\"cost_per_conv\"] = top[\"cost\"]/top[\"conversions\"]\n",
    "top['cost_cumsum'] = top['cost'].cumsum()/top['cost'].sum()\n",
    "top[:15][\"Absolute top impression percentage\"].mean()\n"
   ]
  },
  {
   "cell_type": "code",
   "execution_count": 1192,
   "id": "1e9785f2",
   "metadata": {},
   "outputs": [
    {
     "data": {
      "text/plain": [
       "0.787188256242668"
      ]
     },
     "execution_count": 1192,
     "metadata": {},
     "output_type": "execute_result"
    }
   ],
   "source": [
    "top[16:31][\"Absolute top impression percentage\"].mean()"
   ]
  },
  {
   "cell_type": "code",
   "execution_count": 1193,
   "id": "55498bef",
   "metadata": {},
   "outputs": [
    {
     "data": {
      "text/plain": [
       "0.7951999073189553"
      ]
     },
     "execution_count": 1193,
     "metadata": {},
     "output_type": "execute_result"
    }
   ],
   "source": [
    "top[\"Absolute top impression percentage\"].mean()"
   ]
  },
  {
   "cell_type": "code",
   "execution_count": 1194,
   "id": "b9959f33",
   "metadata": {},
   "outputs": [
    {
     "data": {
      "text/html": [
       "<div>\n",
       "<style scoped>\n",
       "    .dataframe tbody tr th:only-of-type {\n",
       "        vertical-align: middle;\n",
       "    }\n",
       "\n",
       "    .dataframe tbody tr th {\n",
       "        vertical-align: top;\n",
       "    }\n",
       "\n",
       "    .dataframe thead th {\n",
       "        text-align: right;\n",
       "    }\n",
       "</style>\n",
       "<table border=\"1\" class=\"dataframe\">\n",
       "  <thead>\n",
       "    <tr style=\"text-align: right;\">\n",
       "      <th></th>\n",
       "      <th>keyword_id</th>\n",
       "      <th>Match type</th>\n",
       "      <th>keyword</th>\n",
       "      <th>conversions</th>\n",
       "      <th>cost</th>\n",
       "      <th>impression_share</th>\n",
       "      <th>Absolute top impression percentage</th>\n",
       "      <th>final</th>\n",
       "      <th>cost_per_conv</th>\n",
       "      <th>cost_cumsum</th>\n",
       "    </tr>\n",
       "  </thead>\n",
       "  <tbody>\n",
       "    <tr>\n",
       "      <th>0</th>\n",
       "      <td>57112112094</td>\n",
       "      <td>Exact</td>\n",
       "      <td>hello fresh meals</td>\n",
       "      <td>1073.20</td>\n",
       "      <td>120749.78</td>\n",
       "      <td>0.986857</td>\n",
       "      <td>0.822222</td>\n",
       "      <td>108.305556</td>\n",
       "      <td>112.513772</td>\n",
       "      <td>0.569216</td>\n",
       "    </tr>\n",
       "    <tr>\n",
       "      <th>1</th>\n",
       "      <td>57112105614</td>\n",
       "      <td>Phrase</td>\n",
       "      <td>hello fresh meals</td>\n",
       "      <td>256.93</td>\n",
       "      <td>34494.23</td>\n",
       "      <td>0.672857</td>\n",
       "      <td>0.771389</td>\n",
       "      <td>108.305556</td>\n",
       "      <td>134.255361</td>\n",
       "      <td>0.731823</td>\n",
       "    </tr>\n",
       "    <tr>\n",
       "      <th>2</th>\n",
       "      <td>332557061257</td>\n",
       "      <td>Exact</td>\n",
       "      <td>hellofresh meal boxes</td>\n",
       "      <td>180.00</td>\n",
       "      <td>23406.24</td>\n",
       "      <td>0.993333</td>\n",
       "      <td>0.888529</td>\n",
       "      <td>107.823529</td>\n",
       "      <td>130.034667</td>\n",
       "      <td>0.842160</td>\n",
       "    </tr>\n",
       "    <tr>\n",
       "      <th>3</th>\n",
       "      <td>330678769349</td>\n",
       "      <td>Exact</td>\n",
       "      <td>hellofresh meal subscription</td>\n",
       "      <td>134.05</td>\n",
       "      <td>16647.36</td>\n",
       "      <td>0.995429</td>\n",
       "      <td>0.954444</td>\n",
       "      <td>108.305556</td>\n",
       "      <td>124.187691</td>\n",
       "      <td>0.920636</td>\n",
       "    </tr>\n",
       "    <tr>\n",
       "      <th>4</th>\n",
       "      <td>57112114014</td>\n",
       "      <td>Exact</td>\n",
       "      <td>hellofresh meals</td>\n",
       "      <td>22.71</td>\n",
       "      <td>3678.54</td>\n",
       "      <td>0.980286</td>\n",
       "      <td>0.799722</td>\n",
       "      <td>108.305556</td>\n",
       "      <td>161.978864</td>\n",
       "      <td>0.937977</td>\n",
       "    </tr>\n",
       "    <tr>\n",
       "      <th>5</th>\n",
       "      <td>442039701780</td>\n",
       "      <td>Exact</td>\n",
       "      <td>hello fresh meal deals</td>\n",
       "      <td>20.00</td>\n",
       "      <td>2807.17</td>\n",
       "      <td>0.986857</td>\n",
       "      <td>0.636571</td>\n",
       "      <td>107.800000</td>\n",
       "      <td>140.358500</td>\n",
       "      <td>0.951210</td>\n",
       "    </tr>\n",
       "    <tr>\n",
       "      <th>6</th>\n",
       "      <td>313662489250</td>\n",
       "      <td>Phrase</td>\n",
       "      <td>hello fresh meal kit</td>\n",
       "      <td>19.47</td>\n",
       "      <td>1608.18</td>\n",
       "      <td>0.869429</td>\n",
       "      <td>0.792000</td>\n",
       "      <td>107.800000</td>\n",
       "      <td>82.597843</td>\n",
       "      <td>0.958791</td>\n",
       "    </tr>\n",
       "    <tr>\n",
       "      <th>7</th>\n",
       "      <td>38825879769</td>\n",
       "      <td>Exact</td>\n",
       "      <td>hello fresh meal</td>\n",
       "      <td>9.00</td>\n",
       "      <td>1600.11</td>\n",
       "      <td>0.978857</td>\n",
       "      <td>0.793611</td>\n",
       "      <td>108.305556</td>\n",
       "      <td>177.790000</td>\n",
       "      <td>0.966334</td>\n",
       "    </tr>\n",
       "    <tr>\n",
       "      <th>8</th>\n",
       "      <td>413968861822</td>\n",
       "      <td>Phrase</td>\n",
       "      <td>hello fresh meal plans</td>\n",
       "      <td>11.41</td>\n",
       "      <td>1576.39</td>\n",
       "      <td>0.949429</td>\n",
       "      <td>0.866667</td>\n",
       "      <td>108.305556</td>\n",
       "      <td>138.158633</td>\n",
       "      <td>0.973765</td>\n",
       "    </tr>\n",
       "    <tr>\n",
       "      <th>9</th>\n",
       "      <td>329111730479</td>\n",
       "      <td>Exact</td>\n",
       "      <td>hello fresh meal kits</td>\n",
       "      <td>11.78</td>\n",
       "      <td>1013.54</td>\n",
       "      <td>0.969429</td>\n",
       "      <td>0.799167</td>\n",
       "      <td>108.305556</td>\n",
       "      <td>86.039049</td>\n",
       "      <td>0.978543</td>\n",
       "    </tr>\n",
       "    <tr>\n",
       "      <th>10</th>\n",
       "      <td>818169429266</td>\n",
       "      <td>Exact</td>\n",
       "      <td>average cost of hellofresh meals</td>\n",
       "      <td>4.41</td>\n",
       "      <td>918.71</td>\n",
       "      <td>0.920571</td>\n",
       "      <td>0.942500</td>\n",
       "      <td>108.305556</td>\n",
       "      <td>208.324263</td>\n",
       "      <td>0.982873</td>\n",
       "    </tr>\n",
       "    <tr>\n",
       "      <th>11</th>\n",
       "      <td>141669461333</td>\n",
       "      <td>Exact</td>\n",
       "      <td>hello fresh meal options</td>\n",
       "      <td>3.33</td>\n",
       "      <td>885.11</td>\n",
       "      <td>0.961143</td>\n",
       "      <td>0.857778</td>\n",
       "      <td>108.305556</td>\n",
       "      <td>265.798799</td>\n",
       "      <td>0.987046</td>\n",
       "    </tr>\n",
       "    <tr>\n",
       "      <th>12</th>\n",
       "      <td>313662494290</td>\n",
       "      <td>Exact</td>\n",
       "      <td>hello fresh meal plan</td>\n",
       "      <td>3.00</td>\n",
       "      <td>668.04</td>\n",
       "      <td>0.976000</td>\n",
       "      <td>0.850571</td>\n",
       "      <td>107.800000</td>\n",
       "      <td>222.680000</td>\n",
       "      <td>0.990195</td>\n",
       "    </tr>\n",
       "    <tr>\n",
       "      <th>13</th>\n",
       "      <td>147387652847</td>\n",
       "      <td>Exact</td>\n",
       "      <td>hello fresh meals cost</td>\n",
       "      <td>0.00</td>\n",
       "      <td>377.96</td>\n",
       "      <td>0.877143</td>\n",
       "      <td>0.776857</td>\n",
       "      <td>107.800000</td>\n",
       "      <td>inf</td>\n",
       "      <td>0.991977</td>\n",
       "    </tr>\n",
       "    <tr>\n",
       "      <th>14</th>\n",
       "      <td>330678769109</td>\n",
       "      <td>Exact</td>\n",
       "      <td>hello fresh meal subscription</td>\n",
       "      <td>4.00</td>\n",
       "      <td>329.63</td>\n",
       "      <td>0.953704</td>\n",
       "      <td>0.864286</td>\n",
       "      <td>108.142857</td>\n",
       "      <td>82.407500</td>\n",
       "      <td>0.993531</td>\n",
       "    </tr>\n",
       "    <tr>\n",
       "      <th>15</th>\n",
       "      <td>430602999045</td>\n",
       "      <td>Exact</td>\n",
       "      <td>meals hellofresh</td>\n",
       "      <td>0.00</td>\n",
       "      <td>238.94</td>\n",
       "      <td>0.980000</td>\n",
       "      <td>0.722258</td>\n",
       "      <td>108.096774</td>\n",
       "      <td>inf</td>\n",
       "      <td>0.994657</td>\n",
       "    </tr>\n",
       "    <tr>\n",
       "      <th>16</th>\n",
       "      <td>1170995176309</td>\n",
       "      <td>Phrase</td>\n",
       "      <td>hello fresh meal cost</td>\n",
       "      <td>2.49</td>\n",
       "      <td>234.36</td>\n",
       "      <td>0.468571</td>\n",
       "      <td>0.858000</td>\n",
       "      <td>107.800000</td>\n",
       "      <td>94.120482</td>\n",
       "      <td>0.995762</td>\n",
       "    </tr>\n",
       "    <tr>\n",
       "      <th>17</th>\n",
       "      <td>38026285494</td>\n",
       "      <td>Exact</td>\n",
       "      <td>hellofresh meal</td>\n",
       "      <td>1.00</td>\n",
       "      <td>224.78</td>\n",
       "      <td>0.989706</td>\n",
       "      <td>0.687714</td>\n",
       "      <td>107.800000</td>\n",
       "      <td>224.780000</td>\n",
       "      <td>0.996821</td>\n",
       "    </tr>\n",
       "    <tr>\n",
       "      <th>18</th>\n",
       "      <td>346691461151</td>\n",
       "      <td>Phrase</td>\n",
       "      <td>hello fresh meal subscription</td>\n",
       "      <td>2.00</td>\n",
       "      <td>147.75</td>\n",
       "      <td>0.800937</td>\n",
       "      <td>0.897500</td>\n",
       "      <td>107.468750</td>\n",
       "      <td>73.875000</td>\n",
       "      <td>0.997518</td>\n",
       "    </tr>\n",
       "    <tr>\n",
       "      <th>19</th>\n",
       "      <td>430543157704</td>\n",
       "      <td>Exact</td>\n",
       "      <td>meal plans hello fresh</td>\n",
       "      <td>0.00</td>\n",
       "      <td>138.90</td>\n",
       "      <td>0.968750</td>\n",
       "      <td>0.772692</td>\n",
       "      <td>108.807692</td>\n",
       "      <td>inf</td>\n",
       "      <td>0.998173</td>\n",
       "    </tr>\n",
       "    <tr>\n",
       "      <th>20</th>\n",
       "      <td>459206352647</td>\n",
       "      <td>Exact</td>\n",
       "      <td>hellofresh meal prep</td>\n",
       "      <td>3.00</td>\n",
       "      <td>92.24</td>\n",
       "      <td>0.912813</td>\n",
       "      <td>0.715625</td>\n",
       "      <td>107.875000</td>\n",
       "      <td>30.746667</td>\n",
       "      <td>0.998607</td>\n",
       "    </tr>\n",
       "    <tr>\n",
       "      <th>21</th>\n",
       "      <td>375389045500</td>\n",
       "      <td>Exact</td>\n",
       "      <td>meal kits hellofresh</td>\n",
       "      <td>1.00</td>\n",
       "      <td>83.94</td>\n",
       "      <td>0.936667</td>\n",
       "      <td>0.844118</td>\n",
       "      <td>109.764706</td>\n",
       "      <td>83.940000</td>\n",
       "      <td>0.999003</td>\n",
       "    </tr>\n",
       "    <tr>\n",
       "      <th>22</th>\n",
       "      <td>430543157264</td>\n",
       "      <td>Exact</td>\n",
       "      <td>meal kit hello fresh</td>\n",
       "      <td>1.00</td>\n",
       "      <td>53.96</td>\n",
       "      <td>1.000000</td>\n",
       "      <td>0.833333</td>\n",
       "      <td>108.133333</td>\n",
       "      <td>53.960000</td>\n",
       "      <td>0.999257</td>\n",
       "    </tr>\n",
       "    <tr>\n",
       "      <th>23</th>\n",
       "      <td>437388084647</td>\n",
       "      <td>Phrase</td>\n",
       "      <td>hello fresh meal options</td>\n",
       "      <td>0.00</td>\n",
       "      <td>45.38</td>\n",
       "      <td>0.888889</td>\n",
       "      <td>0.805556</td>\n",
       "      <td>107.000000</td>\n",
       "      <td>inf</td>\n",
       "      <td>0.999471</td>\n",
       "    </tr>\n",
       "    <tr>\n",
       "      <th>24</th>\n",
       "      <td>329119977766</td>\n",
       "      <td>Exact</td>\n",
       "      <td>meal plans hellofresh</td>\n",
       "      <td>0.00</td>\n",
       "      <td>43.22</td>\n",
       "      <td>1.000000</td>\n",
       "      <td>0.829000</td>\n",
       "      <td>108.200000</td>\n",
       "      <td>inf</td>\n",
       "      <td>0.999675</td>\n",
       "    </tr>\n",
       "    <tr>\n",
       "      <th>25</th>\n",
       "      <td>331204306221</td>\n",
       "      <td>Exact</td>\n",
       "      <td>hellofresh meal cost</td>\n",
       "      <td>0.00</td>\n",
       "      <td>30.58</td>\n",
       "      <td>0.910714</td>\n",
       "      <td>0.839286</td>\n",
       "      <td>108.000000</td>\n",
       "      <td>inf</td>\n",
       "      <td>0.999819</td>\n",
       "    </tr>\n",
       "    <tr>\n",
       "      <th>26</th>\n",
       "      <td>430543157464</td>\n",
       "      <td>Exact</td>\n",
       "      <td>meal kits hello fresh</td>\n",
       "      <td>1.00</td>\n",
       "      <td>17.60</td>\n",
       "      <td>0.937500</td>\n",
       "      <td>0.450000</td>\n",
       "      <td>110.800000</td>\n",
       "      <td>17.600000</td>\n",
       "      <td>0.999902</td>\n",
       "    </tr>\n",
       "    <tr>\n",
       "      <th>27</th>\n",
       "      <td>441855977027</td>\n",
       "      <td>Exact</td>\n",
       "      <td>hellofresh meal price</td>\n",
       "      <td>0.00</td>\n",
       "      <td>10.61</td>\n",
       "      <td>0.750000</td>\n",
       "      <td>0.805000</td>\n",
       "      <td>107.000000</td>\n",
       "      <td>inf</td>\n",
       "      <td>0.999952</td>\n",
       "    </tr>\n",
       "    <tr>\n",
       "      <th>28</th>\n",
       "      <td>431132400185</td>\n",
       "      <td>Exact</td>\n",
       "      <td>meal prep hellofresh</td>\n",
       "      <td>0.00</td>\n",
       "      <td>10.12</td>\n",
       "      <td>0.925556</td>\n",
       "      <td>0.470000</td>\n",
       "      <td>106.636364</td>\n",
       "      <td>inf</td>\n",
       "      <td>1.000000</td>\n",
       "    </tr>\n",
       "    <tr>\n",
       "      <th>29</th>\n",
       "      <td>429776484854</td>\n",
       "      <td>Exact</td>\n",
       "      <td>meal kit hellofresh</td>\n",
       "      <td>0.00</td>\n",
       "      <td>0.00</td>\n",
       "      <td>NaN</td>\n",
       "      <td>1.000000</td>\n",
       "      <td>126.000000</td>\n",
       "      <td>NaN</td>\n",
       "      <td>1.000000</td>\n",
       "    </tr>\n",
       "    <tr>\n",
       "      <th>30</th>\n",
       "      <td>442039701740</td>\n",
       "      <td>Exact</td>\n",
       "      <td>hello fresh meal deal</td>\n",
       "      <td>0.00</td>\n",
       "      <td>0.00</td>\n",
       "      <td>1.000000</td>\n",
       "      <td>1.000000</td>\n",
       "      <td>99.000000</td>\n",
       "      <td>NaN</td>\n",
       "      <td>1.000000</td>\n",
       "    </tr>\n",
       "    <tr>\n",
       "      <th>31</th>\n",
       "      <td>442263306853</td>\n",
       "      <td>Exact</td>\n",
       "      <td>hellofresh meal plans cost</td>\n",
       "      <td>0.00</td>\n",
       "      <td>0.00</td>\n",
       "      <td>1.000000</td>\n",
       "      <td>0.500000</td>\n",
       "      <td>107.000000</td>\n",
       "      <td>NaN</td>\n",
       "      <td>1.000000</td>\n",
       "    </tr>\n",
       "  </tbody>\n",
       "</table>\n",
       "</div>"
      ],
      "text/plain": [
       "       keyword_id Match type                           keyword  conversions  \\\n",
       "0     57112112094      Exact                 hello fresh meals      1073.20   \n",
       "1     57112105614     Phrase                 hello fresh meals       256.93   \n",
       "2    332557061257      Exact             hellofresh meal boxes       180.00   \n",
       "3    330678769349      Exact      hellofresh meal subscription       134.05   \n",
       "4     57112114014      Exact                  hellofresh meals        22.71   \n",
       "5    442039701780      Exact            hello fresh meal deals        20.00   \n",
       "6    313662489250     Phrase              hello fresh meal kit        19.47   \n",
       "7     38825879769      Exact                  hello fresh meal         9.00   \n",
       "8    413968861822     Phrase            hello fresh meal plans        11.41   \n",
       "9    329111730479      Exact             hello fresh meal kits        11.78   \n",
       "10   818169429266      Exact  average cost of hellofresh meals         4.41   \n",
       "11   141669461333      Exact          hello fresh meal options         3.33   \n",
       "12   313662494290      Exact             hello fresh meal plan         3.00   \n",
       "13   147387652847      Exact            hello fresh meals cost         0.00   \n",
       "14   330678769109      Exact     hello fresh meal subscription         4.00   \n",
       "15   430602999045      Exact                  meals hellofresh         0.00   \n",
       "16  1170995176309     Phrase             hello fresh meal cost         2.49   \n",
       "17    38026285494      Exact                   hellofresh meal         1.00   \n",
       "18   346691461151     Phrase     hello fresh meal subscription         2.00   \n",
       "19   430543157704      Exact            meal plans hello fresh         0.00   \n",
       "20   459206352647      Exact              hellofresh meal prep         3.00   \n",
       "21   375389045500      Exact              meal kits hellofresh         1.00   \n",
       "22   430543157264      Exact              meal kit hello fresh         1.00   \n",
       "23   437388084647     Phrase          hello fresh meal options         0.00   \n",
       "24   329119977766      Exact             meal plans hellofresh         0.00   \n",
       "25   331204306221      Exact              hellofresh meal cost         0.00   \n",
       "26   430543157464      Exact             meal kits hello fresh         1.00   \n",
       "27   441855977027      Exact             hellofresh meal price         0.00   \n",
       "28   431132400185      Exact              meal prep hellofresh         0.00   \n",
       "29   429776484854      Exact               meal kit hellofresh         0.00   \n",
       "30   442039701740      Exact             hello fresh meal deal         0.00   \n",
       "31   442263306853      Exact        hellofresh meal plans cost         0.00   \n",
       "\n",
       "         cost  impression_share  Absolute top impression percentage  \\\n",
       "0   120749.78          0.986857                            0.822222   \n",
       "1    34494.23          0.672857                            0.771389   \n",
       "2    23406.24          0.993333                            0.888529   \n",
       "3    16647.36          0.995429                            0.954444   \n",
       "4     3678.54          0.980286                            0.799722   \n",
       "5     2807.17          0.986857                            0.636571   \n",
       "6     1608.18          0.869429                            0.792000   \n",
       "7     1600.11          0.978857                            0.793611   \n",
       "8     1576.39          0.949429                            0.866667   \n",
       "9     1013.54          0.969429                            0.799167   \n",
       "10     918.71          0.920571                            0.942500   \n",
       "11     885.11          0.961143                            0.857778   \n",
       "12     668.04          0.976000                            0.850571   \n",
       "13     377.96          0.877143                            0.776857   \n",
       "14     329.63          0.953704                            0.864286   \n",
       "15     238.94          0.980000                            0.722258   \n",
       "16     234.36          0.468571                            0.858000   \n",
       "17     224.78          0.989706                            0.687714   \n",
       "18     147.75          0.800937                            0.897500   \n",
       "19     138.90          0.968750                            0.772692   \n",
       "20      92.24          0.912813                            0.715625   \n",
       "21      83.94          0.936667                            0.844118   \n",
       "22      53.96          1.000000                            0.833333   \n",
       "23      45.38          0.888889                            0.805556   \n",
       "24      43.22          1.000000                            0.829000   \n",
       "25      30.58          0.910714                            0.839286   \n",
       "26      17.60          0.937500                            0.450000   \n",
       "27      10.61          0.750000                            0.805000   \n",
       "28      10.12          0.925556                            0.470000   \n",
       "29       0.00               NaN                            1.000000   \n",
       "30       0.00          1.000000                            1.000000   \n",
       "31       0.00          1.000000                            0.500000   \n",
       "\n",
       "         final  cost_per_conv  cost_cumsum  \n",
       "0   108.305556     112.513772     0.569216  \n",
       "1   108.305556     134.255361     0.731823  \n",
       "2   107.823529     130.034667     0.842160  \n",
       "3   108.305556     124.187691     0.920636  \n",
       "4   108.305556     161.978864     0.937977  \n",
       "5   107.800000     140.358500     0.951210  \n",
       "6   107.800000      82.597843     0.958791  \n",
       "7   108.305556     177.790000     0.966334  \n",
       "8   108.305556     138.158633     0.973765  \n",
       "9   108.305556      86.039049     0.978543  \n",
       "10  108.305556     208.324263     0.982873  \n",
       "11  108.305556     265.798799     0.987046  \n",
       "12  107.800000     222.680000     0.990195  \n",
       "13  107.800000            inf     0.991977  \n",
       "14  108.142857      82.407500     0.993531  \n",
       "15  108.096774            inf     0.994657  \n",
       "16  107.800000      94.120482     0.995762  \n",
       "17  107.800000     224.780000     0.996821  \n",
       "18  107.468750      73.875000     0.997518  \n",
       "19  108.807692            inf     0.998173  \n",
       "20  107.875000      30.746667     0.998607  \n",
       "21  109.764706      83.940000     0.999003  \n",
       "22  108.133333      53.960000     0.999257  \n",
       "23  107.000000            inf     0.999471  \n",
       "24  108.200000            inf     0.999675  \n",
       "25  108.000000            inf     0.999819  \n",
       "26  110.800000      17.600000     0.999902  \n",
       "27  107.000000            inf     0.999952  \n",
       "28  106.636364            inf     1.000000  \n",
       "29  126.000000            NaN     1.000000  \n",
       "30   99.000000            NaN     1.000000  \n",
       "31  107.000000            NaN     1.000000  "
      ]
     },
     "execution_count": 1194,
     "metadata": {},
     "output_type": "execute_result"
    }
   ],
   "source": [
    "top"
   ]
  },
  {
   "cell_type": "markdown",
   "id": "af3ea255",
   "metadata": {},
   "source": [
    "# ANALYSIS ON WEEK DAYS "
   ]
  },
  {
   "cell_type": "code",
   "execution_count": 10,
   "id": "3fd45fa9",
   "metadata": {},
   "outputs": [
    {
     "data": {
      "text/plain": [
       "Exact     2717\n",
       "Phrase     824\n",
       "Name: Match type, dtype: int64"
      ]
     },
     "execution_count": 10,
     "metadata": {},
     "output_type": "execute_result"
    }
   ],
   "source": [
    "data1[\"Match type\"].value_counts()"
   ]
  },
  {
   "cell_type": "code",
   "execution_count": 11,
   "id": "202d7adf",
   "metadata": {},
   "outputs": [],
   "source": [
    "# data1['date'] = pd.to_datetime(data1['date']).dt.strftime(\"%y-%m-%d\")\n",
    "# data1"
   ]
  },
  {
   "cell_type": "code",
   "execution_count": 12,
   "id": "3653d395",
   "metadata": {},
   "outputs": [],
   "source": [
    "# data1['weekday'] = pd.to_datetime(data1['date']).dt.day_name()\n",
    "# cats = ['Monday', 'Tuesday', 'Wednesday', 'Thursday', 'Friday', 'Saturday', 'Sunday']\n",
    "# data1['weekday'] = pd.Categorical(data1['weekday'], categories=cats, ordered= True)"
   ]
  },
  {
   "cell_type": "code",
   "execution_count": 13,
   "id": "519a4336",
   "metadata": {},
   "outputs": [],
   "source": [
    "## for every action we have thing about impression shaare \n",
    "# data1.info()\n",
    "# data1[\"Estimated total conversion rate\"].unique()"
   ]
  },
  {
   "cell_type": "code",
   "execution_count": 14,
   "id": "71a2c19c",
   "metadata": {},
   "outputs": [],
   "source": [
    "# data1.info()\n",
    "# data1[\"Conversion rate\"].unique()"
   ]
  },
  {
   "cell_type": "code",
   "execution_count": 15,
   "id": "139de585",
   "metadata": {},
   "outputs": [],
   "source": [
    "analysis = data1[data1[\"date\"]>=\"22-05-26\"].groupby([\"ad_group_id\",\"date\"])[['conversions','cost','impression_share','Absolute top impression percentage',\"final\",\"Conversion rate\"]].agg({\"conversions\":\"sum\",\"cost\":\"sum\",\"impression_share\":\"mean\",\"Absolute top impression percentage\":\"mean\",'final':\"mean\",\"Conversion rate\":\"mean\"}).reset_index()\n",
    "analysis = pd.merge(analysis,data1[['date','weekday']],how='left',on='date')\n",
    "analysis = analysis.drop_duplicates()\n",
    "# analysis['weekday'] = pd.to_datetime(analysis['date']).dt.day_name()\n",
    "# cats = ['Monday', 'Tuesday', 'Wednesday', 'Thursday', 'Friday', 'Saturday', 'Sunday']\n",
    "# analysis['weekday'] = pd.Categorical(analysis['weekday'], categories=cats, ordered=True)\n",
    "# df['weekday'] = analysis[['date']].apply(lambda x: dt.datetime.strftime(analy['date'], '%A'), axis=1)\n"
   ]
  },
  {
   "cell_type": "code",
   "execution_count": 16,
   "id": "2bb4eb3b",
   "metadata": {},
   "outputs": [],
   "source": [
    "# analysis"
   ]
  },
  {
   "cell_type": "code",
   "execution_count": 17,
   "id": "f61388b1",
   "metadata": {},
   "outputs": [],
   "source": [
    "analysis[\"cost_per_conv\"] = analysis[\"cost\"]/analysis[\"conversions\"]\n",
    "# analysis"
   ]
  },
  {
   "cell_type": "code",
   "execution_count": 18,
   "id": "027d1de1",
   "metadata": {},
   "outputs": [
    {
     "data": {
      "text/html": [
       "<div>\n",
       "<style scoped>\n",
       "    .dataframe tbody tr th:only-of-type {\n",
       "        vertical-align: middle;\n",
       "    }\n",
       "\n",
       "    .dataframe tbody tr th {\n",
       "        vertical-align: top;\n",
       "    }\n",
       "\n",
       "    .dataframe thead th {\n",
       "        text-align: right;\n",
       "    }\n",
       "</style>\n",
       "<table border=\"1\" class=\"dataframe\">\n",
       "  <thead>\n",
       "    <tr style=\"text-align: right;\">\n",
       "      <th></th>\n",
       "      <th>ad_group_id</th>\n",
       "      <th>date</th>\n",
       "      <th>conversions</th>\n",
       "      <th>cost</th>\n",
       "      <th>impression_share</th>\n",
       "      <th>Absolute top impression percentage</th>\n",
       "      <th>final</th>\n",
       "      <th>Conversion rate</th>\n",
       "      <th>weekday</th>\n",
       "      <th>cost_per_conv</th>\n",
       "    </tr>\n",
       "  </thead>\n",
       "  <tbody>\n",
       "    <tr>\n",
       "      <th>20</th>\n",
       "      <td>104499295183</td>\n",
       "      <td>22-05-27</td>\n",
       "      <td>54.29</td>\n",
       "      <td>4902.19</td>\n",
       "      <td>0.921667</td>\n",
       "      <td>0.841250</td>\n",
       "      <td>99.0</td>\n",
       "      <td>8.928125</td>\n",
       "      <td>Friday</td>\n",
       "      <td>90.296371</td>\n",
       "    </tr>\n",
       "    <tr>\n",
       "      <th>183</th>\n",
       "      <td>104499295183</td>\n",
       "      <td>22-06-03</td>\n",
       "      <td>123.60</td>\n",
       "      <td>11897.90</td>\n",
       "      <td>0.913750</td>\n",
       "      <td>0.811250</td>\n",
       "      <td>109.0</td>\n",
       "      <td>5.047500</td>\n",
       "      <td>Friday</td>\n",
       "      <td>96.261327</td>\n",
       "    </tr>\n",
       "    <tr>\n",
       "      <th>383</th>\n",
       "      <td>104499295183</td>\n",
       "      <td>22-06-10</td>\n",
       "      <td>57.95</td>\n",
       "      <td>6235.89</td>\n",
       "      <td>0.919200</td>\n",
       "      <td>0.800400</td>\n",
       "      <td>107.0</td>\n",
       "      <td>6.567222</td>\n",
       "      <td>Friday</td>\n",
       "      <td>107.608110</td>\n",
       "    </tr>\n",
       "    <tr>\n",
       "      <th>546</th>\n",
       "      <td>104499295183</td>\n",
       "      <td>22-06-17</td>\n",
       "      <td>46.27</td>\n",
       "      <td>6053.99</td>\n",
       "      <td>0.879167</td>\n",
       "      <td>0.766250</td>\n",
       "      <td>107.0</td>\n",
       "      <td>12.415000</td>\n",
       "      <td>Friday</td>\n",
       "      <td>130.840501</td>\n",
       "    </tr>\n",
       "    <tr>\n",
       "      <th>701</th>\n",
       "      <td>104499295183</td>\n",
       "      <td>22-06-24</td>\n",
       "      <td>38.05</td>\n",
       "      <td>4335.68</td>\n",
       "      <td>0.914783</td>\n",
       "      <td>0.816957</td>\n",
       "      <td>107.0</td>\n",
       "      <td>6.250000</td>\n",
       "      <td>Friday</td>\n",
       "      <td>113.946912</td>\n",
       "    </tr>\n",
       "    <tr>\n",
       "      <th>865</th>\n",
       "      <td>104499295183</td>\n",
       "      <td>22-07-01</td>\n",
       "      <td>32.00</td>\n",
       "      <td>4384.07</td>\n",
       "      <td>0.905833</td>\n",
       "      <td>0.832083</td>\n",
       "      <td>107.0</td>\n",
       "      <td>2.531875</td>\n",
       "      <td>Friday</td>\n",
       "      <td>137.002187</td>\n",
       "    </tr>\n",
       "  </tbody>\n",
       "</table>\n",
       "</div>"
      ],
      "text/plain": [
       "      ad_group_id      date  conversions      cost  impression_share  \\\n",
       "20   104499295183  22-05-27        54.29   4902.19          0.921667   \n",
       "183  104499295183  22-06-03       123.60  11897.90          0.913750   \n",
       "383  104499295183  22-06-10        57.95   6235.89          0.919200   \n",
       "546  104499295183  22-06-17        46.27   6053.99          0.879167   \n",
       "701  104499295183  22-06-24        38.05   4335.68          0.914783   \n",
       "865  104499295183  22-07-01        32.00   4384.07          0.905833   \n",
       "\n",
       "     Absolute top impression percentage  final  Conversion rate weekday  \\\n",
       "20                             0.841250   99.0         8.928125  Friday   \n",
       "183                            0.811250  109.0         5.047500  Friday   \n",
       "383                            0.800400  107.0         6.567222  Friday   \n",
       "546                            0.766250  107.0        12.415000  Friday   \n",
       "701                            0.816957  107.0         6.250000  Friday   \n",
       "865                            0.832083  107.0         2.531875  Friday   \n",
       "\n",
       "     cost_per_conv  \n",
       "20       90.296371  \n",
       "183      96.261327  \n",
       "383     107.608110  \n",
       "546     130.840501  \n",
       "701     113.946912  \n",
       "865     137.002187  "
      ]
     },
     "execution_count": 18,
     "metadata": {},
     "output_type": "execute_result"
    }
   ],
   "source": [
    "analysis[analysis[\"weekday\"]==\"Friday\"]\n"
   ]
  },
  {
   "cell_type": "code",
   "execution_count": 19,
   "id": "e576e912",
   "metadata": {},
   "outputs": [
    {
     "data": {
      "text/html": [
       "<div>\n",
       "<style scoped>\n",
       "    .dataframe tbody tr th:only-of-type {\n",
       "        vertical-align: middle;\n",
       "    }\n",
       "\n",
       "    .dataframe tbody tr th {\n",
       "        vertical-align: top;\n",
       "    }\n",
       "\n",
       "    .dataframe thead th {\n",
       "        text-align: right;\n",
       "    }\n",
       "</style>\n",
       "<table border=\"1\" class=\"dataframe\">\n",
       "  <thead>\n",
       "    <tr style=\"text-align: right;\">\n",
       "      <th></th>\n",
       "      <th>date</th>\n",
       "      <th>conversions</th>\n",
       "      <th>cost</th>\n",
       "      <th>impression_share</th>\n",
       "      <th>Absolute top impression percentage</th>\n",
       "      <th>final</th>\n",
       "      <th>Conversion rate</th>\n",
       "      <th>cost_per_conv</th>\n",
       "    </tr>\n",
       "  </thead>\n",
       "  <tbody>\n",
       "    <tr>\n",
       "      <th>0</th>\n",
       "      <td>22-06-24</td>\n",
       "      <td>38.05</td>\n",
       "      <td>4335.68</td>\n",
       "      <td>0.914783</td>\n",
       "      <td>0.816957</td>\n",
       "      <td>107.0</td>\n",
       "      <td>6.250000</td>\n",
       "      <td>113.946912</td>\n",
       "    </tr>\n",
       "    <tr>\n",
       "      <th>1</th>\n",
       "      <td>22-06-25</td>\n",
       "      <td>43.06</td>\n",
       "      <td>4349.83</td>\n",
       "      <td>0.927826</td>\n",
       "      <td>0.827500</td>\n",
       "      <td>107.0</td>\n",
       "      <td>1.234000</td>\n",
       "      <td>101.017882</td>\n",
       "    </tr>\n",
       "    <tr>\n",
       "      <th>2</th>\n",
       "      <td>22-06-26</td>\n",
       "      <td>59.18</td>\n",
       "      <td>6423.13</td>\n",
       "      <td>0.950833</td>\n",
       "      <td>0.852083</td>\n",
       "      <td>107.0</td>\n",
       "      <td>4.319444</td>\n",
       "      <td>108.535485</td>\n",
       "    </tr>\n",
       "    <tr>\n",
       "      <th>3</th>\n",
       "      <td>22-06-27</td>\n",
       "      <td>53.56</td>\n",
       "      <td>6205.27</td>\n",
       "      <td>0.908400</td>\n",
       "      <td>0.796000</td>\n",
       "      <td>107.0</td>\n",
       "      <td>12.654706</td>\n",
       "      <td>115.856423</td>\n",
       "    </tr>\n",
       "    <tr>\n",
       "      <th>4</th>\n",
       "      <td>22-06-28</td>\n",
       "      <td>47.71</td>\n",
       "      <td>6289.11</td>\n",
       "      <td>0.886522</td>\n",
       "      <td>0.905652</td>\n",
       "      <td>107.0</td>\n",
       "      <td>4.178125</td>\n",
       "      <td>131.819535</td>\n",
       "    </tr>\n",
       "    <tr>\n",
       "      <th>5</th>\n",
       "      <td>22-06-29</td>\n",
       "      <td>34.75</td>\n",
       "      <td>5711.80</td>\n",
       "      <td>0.920455</td>\n",
       "      <td>0.895909</td>\n",
       "      <td>107.0</td>\n",
       "      <td>3.105333</td>\n",
       "      <td>164.368345</td>\n",
       "    </tr>\n",
       "    <tr>\n",
       "      <th>6</th>\n",
       "      <td>22-06-30</td>\n",
       "      <td>52.44</td>\n",
       "      <td>6654.00</td>\n",
       "      <td>0.938696</td>\n",
       "      <td>0.881304</td>\n",
       "      <td>107.0</td>\n",
       "      <td>6.873500</td>\n",
       "      <td>126.887872</td>\n",
       "    </tr>\n",
       "  </tbody>\n",
       "</table>\n",
       "</div>"
      ],
      "text/plain": [
       "       date  conversions     cost  impression_share  \\\n",
       "0  22-06-24        38.05  4335.68          0.914783   \n",
       "1  22-06-25        43.06  4349.83          0.927826   \n",
       "2  22-06-26        59.18  6423.13          0.950833   \n",
       "3  22-06-27        53.56  6205.27          0.908400   \n",
       "4  22-06-28        47.71  6289.11          0.886522   \n",
       "5  22-06-29        34.75  5711.80          0.920455   \n",
       "6  22-06-30        52.44  6654.00          0.938696   \n",
       "\n",
       "   Absolute top impression percentage  final  Conversion rate  cost_per_conv  \n",
       "0                            0.816957  107.0         6.250000     113.946912  \n",
       "1                            0.827500  107.0         1.234000     101.017882  \n",
       "2                            0.852083  107.0         4.319444     108.535485  \n",
       "3                            0.796000  107.0        12.654706     115.856423  \n",
       "4                            0.905652  107.0         4.178125     131.819535  \n",
       "5                            0.895909  107.0         3.105333     164.368345  \n",
       "6                            0.881304  107.0         6.873500     126.887872  "
      ]
     },
     "execution_count": 19,
     "metadata": {},
     "output_type": "execute_result"
    }
   ],
   "source": [
    "week = analysis[(analysis[\"date\"]<=\"22-06-30\") & (analysis[\"date\"]>=\"22-06-24\")].groupby(\"date\")[['conversions','cost','impression_share','Absolute top impression percentage',\"final\",\"Conversion rate\"]].mean().reset_index()\n",
    "week[\"cost_per_conv\"]= week['cost']/week[\"conversions\"]\n",
    "week"
   ]
  },
  {
   "cell_type": "markdown",
   "id": "cb28da17",
   "metadata": {},
   "source": [
    "# delta avg calculation \n",
    "\n"
   ]
  },
  {
   "cell_type": "code",
   "execution_count": 20,
   "id": "9984af05",
   "metadata": {},
   "outputs": [
    {
     "data": {
      "text/plain": [
       "(113.95624112682512, numpy.float64)"
      ]
     },
     "execution_count": 20,
     "metadata": {},
     "output_type": "execute_result"
    }
   ],
   "source": [
    "day_avg= analysis[analysis[\"weekday\"]==\"Friday\"][\"cost_per_conv\"][:5].mean()\n",
    "day_avg = .6*day_avg\n",
    "week_avg = week[\"cost_per_conv\"].mean()\n",
    "week_avg = 0.4*week_avg\n",
    "avg_cpa = day_avg + week_avg\n",
    "avg_cpa, type(avg_cpa)"
   ]
  },
  {
   "cell_type": "code",
   "execution_count": 21,
   "id": "1a00f8fe",
   "metadata": {},
   "outputs": [
    {
     "data": {
      "text/plain": [
       "6    126.887872\n",
       "Name: cost_per_conv, dtype: float64"
      ]
     },
     "execution_count": 21,
     "metadata": {},
     "output_type": "execute_result"
    }
   ],
   "source": [
    "current_cpa = week[\"cost_per_conv\"][6:7]\n",
    "current_cpa "
   ]
  },
  {
   "cell_type": "code",
   "execution_count": 22,
   "id": "4cc97ebd",
   "metadata": {},
   "outputs": [
    {
     "data": {
      "text/plain": [
       "6    7.199549\n",
       "Name: cost_per_conv, dtype: float64"
      ]
     },
     "execution_count": 22,
     "metadata": {},
     "output_type": "execute_result"
    }
   ],
   "source": [
    "delta_avg = .5*((current_cpa-avg_cpa)/avg_cpa)*current_cpa\n",
    "delta_avg "
   ]
  },
  {
   "cell_type": "code",
   "execution_count": 23,
   "id": "e1f3b1d4",
   "metadata": {},
   "outputs": [
    {
     "data": {
      "text/plain": [
       "865    137.002187\n",
       "Name: cost_per_conv, dtype: float64"
      ]
     },
     "execution_count": 23,
     "metadata": {},
     "output_type": "execute_result"
    }
   ],
   "source": [
    "actual_cpa = analysis[analysis[\"weekday\"]==\"Friday\"][\"cost_per_conv\"][5:6]\n",
    "actual_cpa "
   ]
  },
  {
   "cell_type": "code",
   "execution_count": null,
   "id": "7ed4d7fb",
   "metadata": {},
   "outputs": [],
   "source": []
  },
  {
   "cell_type": "markdown",
   "id": "2b113248",
   "metadata": {},
   "source": [
    "# delta impression share "
   ]
  },
  {
   "cell_type": "code",
   "execution_count": 24,
   "id": "286461b9",
   "metadata": {},
   "outputs": [
    {
     "data": {
      "text/plain": [
       "0.9142572825145868"
      ]
     },
     "execution_count": 24,
     "metadata": {},
     "output_type": "execute_result"
    }
   ],
   "source": [
    "day_avg= analysis[analysis[\"weekday\"]==\"Friday\"][\"impression_share\"][:5].mean()\n",
    "day_avg = .6*day_avg\n",
    "week_avg = week[\"impression_share\"].mean()\n",
    "week_avg = 0.4*week_avg\n",
    "avg_impression_share = day_avg + week_avg\n",
    "avg_impression_share"
   ]
  },
  {
   "cell_type": "code",
   "execution_count": 25,
   "id": "b0b1796b",
   "metadata": {},
   "outputs": [
    {
     "data": {
      "text/plain": [
       "6    0.938696\n",
       "Name: impression_share, dtype: float64"
      ]
     },
     "execution_count": 25,
     "metadata": {},
     "output_type": "execute_result"
    }
   ],
   "source": [
    "current_impression_share = week[\"impression_share\"][6:7]\n",
    "current_impression_share"
   ]
  },
  {
   "cell_type": "code",
   "execution_count": 26,
   "id": "125d5fa0",
   "metadata": {},
   "outputs": [
    {
     "data": {
      "text/plain": [
       "6    3.391751\n",
       "dtype: float64"
      ]
     },
     "execution_count": 26,
     "metadata": {},
     "output_type": "execute_result"
    }
   ],
   "source": [
    "delta_impression_share = ((current_impression_share-avg_impression_share)/avg_impression_share)*current_cpa \n",
    "delta_impression_share"
   ]
  },
  {
   "cell_type": "markdown",
   "id": "9c13498b",
   "metadata": {},
   "source": [
    "# delta coversion_rate "
   ]
  },
  {
   "cell_type": "code",
   "execution_count": 27,
   "id": "49e9d85d",
   "metadata": {},
   "outputs": [
    {
     "data": {
      "text/plain": [
       "6.911519304388421"
      ]
     },
     "execution_count": 27,
     "metadata": {},
     "output_type": "execute_result"
    }
   ],
   "source": [
    "day_avg= analysis[analysis[\"weekday\"]==\"Friday\"][\"Conversion rate\"][:5].mean()\n",
    "day_avg = .6*day_avg\n",
    "week_avg = week[\"Conversion rate\"].mean()\n",
    "week_avg = 0.4*week_avg\n",
    "avg_conversion_rate = day_avg + week_avg\n",
    "avg_conversion_rate"
   ]
  },
  {
   "cell_type": "code",
   "execution_count": 28,
   "id": "cfb85c53",
   "metadata": {},
   "outputs": [
    {
     "data": {
      "text/plain": [
       "6    6.8735\n",
       "Name: Conversion rate, dtype: float64"
      ]
     },
     "execution_count": 28,
     "metadata": {},
     "output_type": "execute_result"
    }
   ],
   "source": [
    "current_conversion_rate = week[\"Conversion rate\"][6:7]\n",
    "current_conversion_rate"
   ]
  },
  {
   "cell_type": "code",
   "execution_count": 29,
   "id": "de87701a",
   "metadata": {},
   "outputs": [
    {
     "data": {
      "text/plain": [
       "6   -0.038019\n",
       "Name: Conversion rate, dtype: float64"
      ]
     },
     "execution_count": 29,
     "metadata": {},
     "output_type": "execute_result"
    }
   ],
   "source": [
    "current_conversion_rate-avg_conversion_rate"
   ]
  },
  {
   "cell_type": "code",
   "execution_count": 30,
   "id": "d6e4bad6",
   "metadata": {},
   "outputs": [
    {
     "data": {
      "text/plain": [
       "6   -0.0349\n",
       "dtype: float64"
      ]
     },
     "execution_count": 30,
     "metadata": {},
     "output_type": "execute_result"
    }
   ],
   "source": [
    "delta_conversion_rate = ((current_conversion_rate-avg_conversion_rate)/avg_conversion_rate)*current_cpa*.05\n",
    "delta_conversion_rate "
   ]
  },
  {
   "cell_type": "markdown",
   "id": "dfe7db0f",
   "metadata": {},
   "source": [
    "# recommendation tcpa \n"
   ]
  },
  {
   "cell_type": "code",
   "execution_count": 31,
   "id": "86867156",
   "metadata": {},
   "outputs": [
    {
     "data": {
      "text/plain": [
       "6    10.626199\n",
       "dtype: float64"
      ]
     },
     "execution_count": 31,
     "metadata": {},
     "output_type": "execute_result"
    }
   ],
   "source": [
    "total_delta_cpa = abs(delta_conversion_rate)+ abs(delta_impression_share)+ abs(delta_avg)\n",
    "total_delta_cpa "
   ]
  },
  {
   "cell_type": "code",
   "execution_count": 32,
   "id": "19bf2039",
   "metadata": {},
   "outputs": [
    {
     "ename": "SyntaxError",
     "evalue": "invalid syntax (4241792916.py, line 3)",
     "output_type": "error",
     "traceback": [
      "\u001b[0;36m  Input \u001b[0;32mIn [32]\u001b[0;36m\u001b[0m\n\u001b[0;31m    graph say\u001b[0m\n\u001b[0m          ^\u001b[0m\n\u001b[0;31mSyntaxError\u001b[0m\u001b[0;31m:\u001b[0m invalid syntax\n"
     ]
    }
   ],
   "source": [
    "Experiments\n",
    "#Monday \n",
    "graph say \n",
    "increase if client need otherwise keep constant \n",
    "current_cpa = 105.131073 (previous day)\n",
    "actual_cpa =  121.136907 (google used)\n",
    "recommended_tcpa = 120.767983\n",
    "\n",
    "#Sunday\n",
    "graph say increse tcpa \n",
    "current_cpa =  98.105014 (previous day)\n",
    "actual_cpa =  105.131073 (google used)\n",
    "recommended_tcpa = 110.363382\n",
    "\n",
    "#Saturday\n",
    "graph say keep constant tcpa\n",
    "current_cpa =  137.002187 (previous day)\n",
    "actual_cpa =    98.105014 (google used)\n",
    "recommended_tcpa = 121.845155\n",
    "\n",
    "\n",
    "#friday\n",
    "\n",
    "graph say decrease tcpa\n",
    "current_cpa =  126.887872 (previous day)\n",
    "actual_cpa =    137.002187 (google used)\n",
    "recommended_tcpa = 116.261673"
   ]
  },
  {
   "cell_type": "code",
   "execution_count": 33,
   "id": "a7f5c484",
   "metadata": {},
   "outputs": [
    {
     "data": {
      "text/plain": [
       "6    116.261673\n",
       "dtype: float64"
      ]
     },
     "execution_count": 33,
     "metadata": {},
     "output_type": "execute_result"
    }
   ],
   "source": [
    "recommended_tcpa = current_cpa - total_delta_cpa\n",
    "recommended_tcpa = recommended_tcpa\n",
    "recommended_tcpa\n"
   ]
  },
  {
   "cell_type": "code",
   "execution_count": 34,
   "id": "0e638192",
   "metadata": {},
   "outputs": [
    {
     "data": {
      "text/plain": [
       "865    137.002187\n",
       "Name: cost_per_conv, dtype: float64"
      ]
     },
     "execution_count": 34,
     "metadata": {},
     "output_type": "execute_result"
    }
   ],
   "source": [
    "actual_cpa "
   ]
  },
  {
   "cell_type": "code",
   "execution_count": 35,
   "id": "b830f8b0",
   "metadata": {},
   "outputs": [
    {
     "data": {
      "text/plain": [
       "6    126.887872\n",
       "Name: cost_per_conv, dtype: float64"
      ]
     },
     "execution_count": 35,
     "metadata": {},
     "output_type": "execute_result"
    }
   ],
   "source": [
    "current_cpa "
   ]
  },
  {
   "cell_type": "markdown",
   "id": "2a195bf6",
   "metadata": {},
   "source": [
    "# testing Algo "
   ]
  },
  {
   "cell_type": "code",
   "execution_count": null,
   "id": "0db18525",
   "metadata": {},
   "outputs": [],
   "source": [
    "# calculate "
   ]
  },
  {
   "cell_type": "code",
   "execution_count": 325,
   "id": "9efa6229",
   "metadata": {},
   "outputs": [
    {
     "data": {
      "text/plain": [
       "['Friday', 'Saturday', 'Sunday', 'Monday', 'Tuesday', 'Wednesday', 'Thursday']\n",
       "Categories (7, object): ['Monday' < 'Tuesday' < 'Wednesday' < 'Thursday' < 'Friday' < 'Saturday' < 'Sunday']"
      ]
     },
     "execution_count": 325,
     "metadata": {},
     "output_type": "execute_result"
    }
   ],
   "source": [
    "analysis = data1[data1[\"date\"]>=\"22-04-22\"].groupby([\"ad_group_id\",\"date\"])[['conversions','cost','impression_share','Absolute top impression percentage',\"final\",\"Conversion rate\"]].agg({\"conversions\":\"sum\",\"cost\":\"sum\",\"impression_share\":\"mean\",\"Absolute top impression percentage\":\"mean\",'final':\"mean\",\"Conversion rate\":\"mean\"}).reset_index()\n",
    "analysis = pd.merge(analysis,data1[['date','weekday']],how='left',on='date')\n",
    "analysis = analysis.drop_duplicates()\n",
    "analysis[\"cost_per_conv\"] = analysis[\"cost\"]/analysis[\"conversions\"]\n",
    "analysis[\"weekday\"].unique()"
   ]
  },
  {
   "cell_type": "code",
   "execution_count": 326,
   "id": "dcc64715",
   "metadata": {},
   "outputs": [
    {
     "data": {
      "text/plain": [
       "['Monday', 'Tuesday', 'Wednesday', 'Thurday', 'Friday', 'Saturday', 'Sunday']"
      ]
     },
     "execution_count": 326,
     "metadata": {},
     "output_type": "execute_result"
    }
   ],
   "source": [
    "days = [\"Monday\",\"Tuesday\", \"Wednesday\", \"Thurday\",\"Friday\",\"Saturday\",\"Sunday\"]\n",
    "days\n"
   ]
  },
  {
   "cell_type": "code",
   "execution_count": 327,
   "id": "9c06e8b0",
   "metadata": {},
   "outputs": [],
   "source": [
    "# for i in days:\n",
    "#     day = analysis[analysis[\"weekday\"]== i][:6]\n",
    "# #     print(day)\n",
    "# i = 2\n",
    "count =0\n",
    "vaars = [\"Monday\",\"Tuesday\", \"Wednesday\", \"Thurday\",\"Friday\",\"Saturday\",\"Sunday\"]\n",
    "for vaar in vaars:\n",
    "    count = count+1\n",
    "    n=len(analysis[analysis[\"weekday\"]== vaar])\n",
    "    for i in range(n-5):\n",
    "        day = analysis[analysis[\"weekday\"]== vaar][0+i:6+i]\n",
    "        day_min = day[\"date\"].iloc[4]\n",
    "        day_max = day[\"date\"].iloc[5]\n",
    "\n",
    "        week = analysis[(analysis[\"date\"]<day_max) & (analysis[\"date\"]>=day_min)].groupby(\"date\")[['conversions','cost','impression_share','Absolute top impression percentage',\"final\",\"Conversion rate\"]].mean().reset_index()\n",
    "        week[\"cost_per_conv\"]= week['cost']/week[\"conversions\"]\n",
    "\n",
    "\n",
    "        day_avg= day[\"cost_per_conv\"][:5].mean()\n",
    "        day_avg = .6*day_avg\n",
    "        week_avg = week[\"cost_per_conv\"].mean()\n",
    "        week_avg = 0.4*week_avg\n",
    "        avg_cpa = day_avg + week_avg\n",
    "        current_cpa = week[\"cost_per_conv\"][6:7].iloc[0]\n",
    "\n",
    "\n",
    "        day_avg= day[\"Conversion rate\"][:5].mean()\n",
    "        day_avg = .6*day_avg\n",
    "        week_avg = week[\"Conversion rate\"].mean()\n",
    "        week_avg = 0.4*week_avg\n",
    "        avg_conversion_rate = day_avg + week_avg\n",
    "        current_conversion_rate = week[\"Conversion rate\"][6:7].iloc[0]\n",
    "\n",
    "\n",
    "        day_avg= day[\"impression_share\"][:5].mean()\n",
    "        day_avg = .6*day_avg\n",
    "        week_avg = week[\"impression_share\"].mean()\n",
    "        week_avg = 0.4*week_avg\n",
    "        avg_impression_share = day_avg + week_avg\n",
    "\n",
    "        current_impression_share = week[\"impression_share\"][6:7].iloc[0]\n",
    "\n",
    "        input_matrix = {\"current_cpa\": current_cpa ,   \n",
    "                   \"avg_cpa\":avg_cpa,\n",
    "                   \"current_conversion_rate\":current_conversion_rate,\n",
    "                    \"avg_conversion_rate\":avg_conversion_rate,\n",
    "                    \"current_impression_share\":current_impression_share,\n",
    "                    \"avg_impression_share\":avg_impression_share\n",
    "                    }\n",
    "        input_matrix\n",
    "\n",
    "\n",
    "\n",
    "        delta_avg = .5*((current_cpa-avg_cpa)/avg_cpa)*current_cpa\n",
    "        delta_impression_share = ((current_impression_share-avg_impression_share)/avg_impression_share)*current_cpa \n",
    "        delta_conversion_rate = ((current_conversion_rate-avg_conversion_rate)/avg_conversion_rate)*current_cpa*.05\n",
    "\n",
    "\n",
    "        total_delta_cpa = abs(delta_conversion_rate)+ abs(delta_impression_share)+ abs(delta_avg)\n",
    "        level = get_tcpa_graph_level(input_matrix)\n",
    "\n",
    "\n",
    "        min_limit = day[\"cost_per_conv\"][:5].min()\n",
    "        max_limit = day[\"cost_per_conv\"][:5].max()\n",
    "        min_limit, max_limit\n",
    "\n",
    "\n",
    "\n",
    "        if level == \"increase\":\n",
    "            recommended_tcpa = current_cpa + total_delta_cpa\n",
    "            if recommended_tcpa > max_limit:\n",
    "                recommended_tcpa = max_limit\n",
    "\n",
    "        elif level == \"decrease\":\n",
    "            recommended_tcpa = current_cpa - total_delta_cpa\n",
    "            if recommended_tcpa < min_limit:\n",
    "                recommended_tcpa = min_limit      \n",
    "        else:\n",
    "            recommended_tcpa = current_cpa \n",
    "\n",
    "    #     print(recommended_tcpa)\n",
    "\n",
    "        google_used_cpa = day[\"cost_per_conv\"].iloc[5]\n",
    "    #     print(google_used_cpa)\n",
    "\n",
    "    #     print(current_cpa)\n",
    "#         print(vaar)\n",
    "        df= pd.DataFrame()\n",
    "        df[\"day\"]= [vaar]\n",
    "       \n",
    "        df[\"current_conversion_rate\"] = [current_conversion_rate]\n",
    "        df[\"current_impression_share\"] = [current_impression_share]\n",
    "        df[\"action\"] = [level]\n",
    "        df[\"min_limit\"] = [min_limit] \n",
    "        df[\"max_limit\"] = [max_limit]\n",
    "        df[\"current_cpa\"] = [current_cpa]\n",
    "        df[\"recommended_tcpa\"]= [recommended_tcpa] \n",
    "        df[\"total_delta_cpa\"]=  total_delta_cpa\n",
    "        df[\"google_used_cpa\"] = [google_used_cpa]\n",
    "\n",
    "        if i == 0 and count ==1:\n",
    "            final_df = pd.DataFrame()\n",
    "        frames = [final_df, df]\n",
    "\n",
    "        final_df = pd.concat(frames)\n",
    "    #     print(final_df)\n",
    "\n",
    "    #     print(day)"
   ]
  },
  {
   "cell_type": "code",
   "execution_count": 328,
   "id": "55c6bb33",
   "metadata": {},
   "outputs": [
    {
     "data": {
      "text/html": [
       "<div>\n",
       "<style scoped>\n",
       "    .dataframe tbody tr th:only-of-type {\n",
       "        vertical-align: middle;\n",
       "    }\n",
       "\n",
       "    .dataframe tbody tr th {\n",
       "        vertical-align: top;\n",
       "    }\n",
       "\n",
       "    .dataframe thead th {\n",
       "        text-align: right;\n",
       "    }\n",
       "</style>\n",
       "<table border=\"1\" class=\"dataframe\">\n",
       "  <thead>\n",
       "    <tr style=\"text-align: right;\">\n",
       "      <th></th>\n",
       "      <th>day</th>\n",
       "      <th>current_conversion_rate</th>\n",
       "      <th>current_impression_share</th>\n",
       "      <th>action</th>\n",
       "      <th>min_limit</th>\n",
       "      <th>max_limit</th>\n",
       "      <th>current_cpa</th>\n",
       "      <th>recommended_tcpa</th>\n",
       "      <th>total_delta_cpa</th>\n",
       "      <th>google_used_cpa</th>\n",
       "    </tr>\n",
       "  </thead>\n",
       "  <tbody>\n",
       "    <tr>\n",
       "      <th>0</th>\n",
       "      <td>Monday</td>\n",
       "      <td>2.938333</td>\n",
       "      <td>0.937826</td>\n",
       "      <td>constant</td>\n",
       "      <td>94.867790</td>\n",
       "      <td>113.380801</td>\n",
       "      <td>102.212078</td>\n",
       "      <td>102.212078</td>\n",
       "      <td>5.645498</td>\n",
       "      <td>76.579148</td>\n",
       "    </tr>\n",
       "    <tr>\n",
       "      <th>0</th>\n",
       "      <td>Monday</td>\n",
       "      <td>4.701111</td>\n",
       "      <td>0.938800</td>\n",
       "      <td>decrease</td>\n",
       "      <td>76.579148</td>\n",
       "      <td>105.835552</td>\n",
       "      <td>126.324570</td>\n",
       "      <td>108.840627</td>\n",
       "      <td>17.483943</td>\n",
       "      <td>126.122250</td>\n",
       "    </tr>\n",
       "    <tr>\n",
       "      <th>0</th>\n",
       "      <td>Monday</td>\n",
       "      <td>8.222353</td>\n",
       "      <td>0.883636</td>\n",
       "      <td>increase</td>\n",
       "      <td>76.579148</td>\n",
       "      <td>126.122250</td>\n",
       "      <td>109.886713</td>\n",
       "      <td>116.442996</td>\n",
       "      <td>6.556283</td>\n",
       "      <td>127.514323</td>\n",
       "    </tr>\n",
       "    <tr>\n",
       "      <th>0</th>\n",
       "      <td>Monday</td>\n",
       "      <td>6.157500</td>\n",
       "      <td>0.924783</td>\n",
       "      <td>decrease</td>\n",
       "      <td>76.579148</td>\n",
       "      <td>127.514323</td>\n",
       "      <td>132.650093</td>\n",
       "      <td>119.143068</td>\n",
       "      <td>13.507024</td>\n",
       "      <td>121.994862</td>\n",
       "    </tr>\n",
       "    <tr>\n",
       "      <th>0</th>\n",
       "      <td>Monday</td>\n",
       "      <td>4.319444</td>\n",
       "      <td>0.950833</td>\n",
       "      <td>constant</td>\n",
       "      <td>76.579148</td>\n",
       "      <td>127.514323</td>\n",
       "      <td>108.535485</td>\n",
       "      <td>108.535485</td>\n",
       "      <td>4.442255</td>\n",
       "      <td>115.856423</td>\n",
       "    </tr>\n",
       "    <tr>\n",
       "      <th>0</th>\n",
       "      <td>Monday</td>\n",
       "      <td>2.015556</td>\n",
       "      <td>0.874500</td>\n",
       "      <td>constant</td>\n",
       "      <td>76.579148</td>\n",
       "      <td>127.514323</td>\n",
       "      <td>105.131073</td>\n",
       "      <td>105.131073</td>\n",
       "      <td>14.441187</td>\n",
       "      <td>121.136907</td>\n",
       "    </tr>\n",
       "    <tr>\n",
       "      <th>0</th>\n",
       "      <td>Tuesday</td>\n",
       "      <td>9.074118</td>\n",
       "      <td>0.940000</td>\n",
       "      <td>constant</td>\n",
       "      <td>76.940255</td>\n",
       "      <td>100.401657</td>\n",
       "      <td>76.579148</td>\n",
       "      <td>76.579148</td>\n",
       "      <td>12.978041</td>\n",
       "      <td>111.457079</td>\n",
       "    </tr>\n",
       "    <tr>\n",
       "      <th>0</th>\n",
       "      <td>Tuesday</td>\n",
       "      <td>5.102857</td>\n",
       "      <td>0.896538</td>\n",
       "      <td>constant</td>\n",
       "      <td>76.940255</td>\n",
       "      <td>111.457079</td>\n",
       "      <td>126.122250</td>\n",
       "      <td>126.122250</td>\n",
       "      <td>14.702639</td>\n",
       "      <td>125.785105</td>\n",
       "    </tr>\n",
       "    <tr>\n",
       "      <th>0</th>\n",
       "      <td>Tuesday</td>\n",
       "      <td>6.215294</td>\n",
       "      <td>0.933750</td>\n",
       "      <td>decrease</td>\n",
       "      <td>76.940255</td>\n",
       "      <td>125.785105</td>\n",
       "      <td>127.514323</td>\n",
       "      <td>114.488096</td>\n",
       "      <td>13.026227</td>\n",
       "      <td>98.310345</td>\n",
       "    </tr>\n",
       "    <tr>\n",
       "      <th>0</th>\n",
       "      <td>Tuesday</td>\n",
       "      <td>2.968750</td>\n",
       "      <td>0.937917</td>\n",
       "      <td>decrease</td>\n",
       "      <td>76.940255</td>\n",
       "      <td>125.785105</td>\n",
       "      <td>121.994862</td>\n",
       "      <td>109.598276</td>\n",
       "      <td>12.396585</td>\n",
       "      <td>111.966124</td>\n",
       "    </tr>\n",
       "    <tr>\n",
       "      <th>0</th>\n",
       "      <td>Tuesday</td>\n",
       "      <td>12.654706</td>\n",
       "      <td>0.908400</td>\n",
       "      <td>increase</td>\n",
       "      <td>98.310345</td>\n",
       "      <td>125.785105</td>\n",
       "      <td>115.856423</td>\n",
       "      <td>125.736502</td>\n",
       "      <td>9.880079</td>\n",
       "      <td>131.819535</td>\n",
       "    </tr>\n",
       "    <tr>\n",
       "      <th>0</th>\n",
       "      <td>Tuesday</td>\n",
       "      <td>1.628125</td>\n",
       "      <td>0.920435</td>\n",
       "      <td>decrease</td>\n",
       "      <td>98.310345</td>\n",
       "      <td>131.819535</td>\n",
       "      <td>121.136907</td>\n",
       "      <td>114.966623</td>\n",
       "      <td>6.170284</td>\n",
       "      <td>137.431389</td>\n",
       "    </tr>\n",
       "    <tr>\n",
       "      <th>0</th>\n",
       "      <td>Wednesday</td>\n",
       "      <td>8.210000</td>\n",
       "      <td>0.928696</td>\n",
       "      <td>decrease</td>\n",
       "      <td>84.913646</td>\n",
       "      <td>123.565741</td>\n",
       "      <td>111.457079</td>\n",
       "      <td>104.951280</td>\n",
       "      <td>6.505799</td>\n",
       "      <td>117.369718</td>\n",
       "    </tr>\n",
       "    <tr>\n",
       "      <th>0</th>\n",
       "      <td>Wednesday</td>\n",
       "      <td>2.690952</td>\n",
       "      <td>0.906400</td>\n",
       "      <td>constant</td>\n",
       "      <td>84.913646</td>\n",
       "      <td>123.565741</td>\n",
       "      <td>125.785105</td>\n",
       "      <td>125.785105</td>\n",
       "      <td>10.586974</td>\n",
       "      <td>158.765669</td>\n",
       "    </tr>\n",
       "    <tr>\n",
       "      <th>0</th>\n",
       "      <td>Wednesday</td>\n",
       "      <td>10.705882</td>\n",
       "      <td>0.933182</td>\n",
       "      <td>constant</td>\n",
       "      <td>84.913646</td>\n",
       "      <td>158.765669</td>\n",
       "      <td>98.310345</td>\n",
       "      <td>98.310345</td>\n",
       "      <td>16.062188</td>\n",
       "      <td>122.013636</td>\n",
       "    </tr>\n",
       "    <tr>\n",
       "      <th>0</th>\n",
       "      <td>Wednesday</td>\n",
       "      <td>2.163333</td>\n",
       "      <td>0.887727</td>\n",
       "      <td>constant</td>\n",
       "      <td>84.913646</td>\n",
       "      <td>158.765669</td>\n",
       "      <td>111.966124</td>\n",
       "      <td>111.966124</td>\n",
       "      <td>10.890788</td>\n",
       "      <td>99.571729</td>\n",
       "    </tr>\n",
       "    <tr>\n",
       "      <th>0</th>\n",
       "      <td>Wednesday</td>\n",
       "      <td>4.178125</td>\n",
       "      <td>0.886522</td>\n",
       "      <td>constant</td>\n",
       "      <td>99.571729</td>\n",
       "      <td>158.765669</td>\n",
       "      <td>131.819535</td>\n",
       "      <td>131.819535</td>\n",
       "      <td>14.785433</td>\n",
       "      <td>164.368345</td>\n",
       "    </tr>\n",
       "    <tr>\n",
       "      <th>0</th>\n",
       "      <td>Wednesday</td>\n",
       "      <td>12.597222</td>\n",
       "      <td>0.933043</td>\n",
       "      <td>decrease</td>\n",
       "      <td>99.571729</td>\n",
       "      <td>164.368345</td>\n",
       "      <td>137.431389</td>\n",
       "      <td>122.155925</td>\n",
       "      <td>15.275464</td>\n",
       "      <td>508.120000</td>\n",
       "    </tr>\n",
       "    <tr>\n",
       "      <th>0</th>\n",
       "      <td>Friday</td>\n",
       "      <td>1.503125</td>\n",
       "      <td>0.891500</td>\n",
       "      <td>constant</td>\n",
       "      <td>96.003462</td>\n",
       "      <td>147.079735</td>\n",
       "      <td>110.492431</td>\n",
       "      <td>110.492431</td>\n",
       "      <td>10.221637</td>\n",
       "      <td>90.296371</td>\n",
       "    </tr>\n",
       "    <tr>\n",
       "      <th>0</th>\n",
       "      <td>Friday</td>\n",
       "      <td>1.812000</td>\n",
       "      <td>0.919600</td>\n",
       "      <td>constant</td>\n",
       "      <td>90.296371</td>\n",
       "      <td>147.079735</td>\n",
       "      <td>149.707261</td>\n",
       "      <td>149.707261</td>\n",
       "      <td>31.541899</td>\n",
       "      <td>96.261327</td>\n",
       "    </tr>\n",
       "    <tr>\n",
       "      <th>0</th>\n",
       "      <td>Friday</td>\n",
       "      <td>2.660476</td>\n",
       "      <td>0.949231</td>\n",
       "      <td>decrease</td>\n",
       "      <td>90.296371</td>\n",
       "      <td>147.079735</td>\n",
       "      <td>134.312014</td>\n",
       "      <td>119.834887</td>\n",
       "      <td>14.477127</td>\n",
       "      <td>107.608110</td>\n",
       "    </tr>\n",
       "    <tr>\n",
       "      <th>0</th>\n",
       "      <td>Friday</td>\n",
       "      <td>2.753500</td>\n",
       "      <td>0.923913</td>\n",
       "      <td>decrease</td>\n",
       "      <td>90.296371</td>\n",
       "      <td>147.079735</td>\n",
       "      <td>131.954405</td>\n",
       "      <td>118.364823</td>\n",
       "      <td>13.589582</td>\n",
       "      <td>130.840501</td>\n",
       "    </tr>\n",
       "    <tr>\n",
       "      <th>0</th>\n",
       "      <td>Friday</td>\n",
       "      <td>4.420000</td>\n",
       "      <td>0.927500</td>\n",
       "      <td>constant</td>\n",
       "      <td>90.296371</td>\n",
       "      <td>147.079735</td>\n",
       "      <td>112.818208</td>\n",
       "      <td>112.818208</td>\n",
       "      <td>4.838237</td>\n",
       "      <td>113.946912</td>\n",
       "    </tr>\n",
       "    <tr>\n",
       "      <th>0</th>\n",
       "      <td>Friday</td>\n",
       "      <td>6.873500</td>\n",
       "      <td>0.938696</td>\n",
       "      <td>decrease</td>\n",
       "      <td>90.296371</td>\n",
       "      <td>130.840501</td>\n",
       "      <td>126.887872</td>\n",
       "      <td>116.261673</td>\n",
       "      <td>10.626199</td>\n",
       "      <td>137.002187</td>\n",
       "    </tr>\n",
       "    <tr>\n",
       "      <th>0</th>\n",
       "      <td>Saturday</td>\n",
       "      <td>8.928125</td>\n",
       "      <td>0.921667</td>\n",
       "      <td>constant</td>\n",
       "      <td>104.759074</td>\n",
       "      <td>115.871987</td>\n",
       "      <td>90.296371</td>\n",
       "      <td>90.296371</td>\n",
       "      <td>8.226824</td>\n",
       "      <td>124.214394</td>\n",
       "    </tr>\n",
       "    <tr>\n",
       "      <th>0</th>\n",
       "      <td>Saturday</td>\n",
       "      <td>5.047500</td>\n",
       "      <td>0.913750</td>\n",
       "      <td>increase</td>\n",
       "      <td>106.979645</td>\n",
       "      <td>124.214394</td>\n",
       "      <td>96.261327</td>\n",
       "      <td>104.575002</td>\n",
       "      <td>8.313675</td>\n",
       "      <td>129.217237</td>\n",
       "    </tr>\n",
       "    <tr>\n",
       "      <th>0</th>\n",
       "      <td>Saturday</td>\n",
       "      <td>6.567222</td>\n",
       "      <td>0.919200</td>\n",
       "      <td>constant</td>\n",
       "      <td>106.979645</td>\n",
       "      <td>129.217237</td>\n",
       "      <td>107.608110</td>\n",
       "      <td>107.608110</td>\n",
       "      <td>7.924329</td>\n",
       "      <td>101.789236</td>\n",
       "    </tr>\n",
       "    <tr>\n",
       "      <th>0</th>\n",
       "      <td>Saturday</td>\n",
       "      <td>12.415000</td>\n",
       "      <td>0.879167</td>\n",
       "      <td>increase</td>\n",
       "      <td>101.789236</td>\n",
       "      <td>129.217237</td>\n",
       "      <td>130.840501</td>\n",
       "      <td>129.217237</td>\n",
       "      <td>19.228134</td>\n",
       "      <td>114.887206</td>\n",
       "    </tr>\n",
       "    <tr>\n",
       "      <th>0</th>\n",
       "      <td>Saturday</td>\n",
       "      <td>6.250000</td>\n",
       "      <td>0.914783</td>\n",
       "      <td>increase</td>\n",
       "      <td>101.789236</td>\n",
       "      <td>129.217237</td>\n",
       "      <td>113.946912</td>\n",
       "      <td>115.513789</td>\n",
       "      <td>1.566877</td>\n",
       "      <td>101.017882</td>\n",
       "    </tr>\n",
       "    <tr>\n",
       "      <th>0</th>\n",
       "      <td>Saturday</td>\n",
       "      <td>2.531875</td>\n",
       "      <td>0.905833</td>\n",
       "      <td>constant</td>\n",
       "      <td>101.017882</td>\n",
       "      <td>129.217237</td>\n",
       "      <td>137.002187</td>\n",
       "      <td>137.002187</td>\n",
       "      <td>14.618548</td>\n",
       "      <td>98.105014</td>\n",
       "    </tr>\n",
       "    <tr>\n",
       "      <th>0</th>\n",
       "      <td>Sunday</td>\n",
       "      <td>2.383333</td>\n",
       "      <td>0.903500</td>\n",
       "      <td>constant</td>\n",
       "      <td>96.942924</td>\n",
       "      <td>110.702131</td>\n",
       "      <td>124.214394</td>\n",
       "      <td>124.214394</td>\n",
       "      <td>17.095740</td>\n",
       "      <td>102.212078</td>\n",
       "    </tr>\n",
       "    <tr>\n",
       "      <th>0</th>\n",
       "      <td>Sunday</td>\n",
       "      <td>8.285294</td>\n",
       "      <td>0.883913</td>\n",
       "      <td>increase</td>\n",
       "      <td>96.942924</td>\n",
       "      <td>110.129757</td>\n",
       "      <td>129.217237</td>\n",
       "      <td>110.129757</td>\n",
       "      <td>23.478877</td>\n",
       "      <td>126.324570</td>\n",
       "    </tr>\n",
       "    <tr>\n",
       "      <th>0</th>\n",
       "      <td>Sunday</td>\n",
       "      <td>2.281765</td>\n",
       "      <td>0.917826</td>\n",
       "      <td>constant</td>\n",
       "      <td>96.942924</td>\n",
       "      <td>126.324570</td>\n",
       "      <td>101.789236</td>\n",
       "      <td>101.789236</td>\n",
       "      <td>9.435812</td>\n",
       "      <td>109.886713</td>\n",
       "    </tr>\n",
       "    <tr>\n",
       "      <th>0</th>\n",
       "      <td>Sunday</td>\n",
       "      <td>6.227895</td>\n",
       "      <td>0.927368</td>\n",
       "      <td>decrease</td>\n",
       "      <td>96.942924</td>\n",
       "      <td>126.324570</td>\n",
       "      <td>114.887206</td>\n",
       "      <td>112.057236</td>\n",
       "      <td>2.829971</td>\n",
       "      <td>132.650093</td>\n",
       "    </tr>\n",
       "    <tr>\n",
       "      <th>0</th>\n",
       "      <td>Sunday</td>\n",
       "      <td>1.234000</td>\n",
       "      <td>0.927826</td>\n",
       "      <td>constant</td>\n",
       "      <td>96.942924</td>\n",
       "      <td>132.650093</td>\n",
       "      <td>101.017882</td>\n",
       "      <td>101.017882</td>\n",
       "      <td>10.062279</td>\n",
       "      <td>108.535485</td>\n",
       "    </tr>\n",
       "    <tr>\n",
       "      <th>0</th>\n",
       "      <td>Sunday</td>\n",
       "      <td>9.028667</td>\n",
       "      <td>0.920909</td>\n",
       "      <td>increase</td>\n",
       "      <td>102.212078</td>\n",
       "      <td>132.650093</td>\n",
       "      <td>98.105014</td>\n",
       "      <td>110.363382</td>\n",
       "      <td>12.258368</td>\n",
       "      <td>105.131073</td>\n",
       "    </tr>\n",
       "  </tbody>\n",
       "</table>\n",
       "</div>"
      ],
      "text/plain": [
       "         day  current_conversion_rate  current_impression_share    action  \\\n",
       "0     Monday                 2.938333                  0.937826  constant   \n",
       "0     Monday                 4.701111                  0.938800  decrease   \n",
       "0     Monday                 8.222353                  0.883636  increase   \n",
       "0     Monday                 6.157500                  0.924783  decrease   \n",
       "0     Monday                 4.319444                  0.950833  constant   \n",
       "0     Monday                 2.015556                  0.874500  constant   \n",
       "0    Tuesday                 9.074118                  0.940000  constant   \n",
       "0    Tuesday                 5.102857                  0.896538  constant   \n",
       "0    Tuesday                 6.215294                  0.933750  decrease   \n",
       "0    Tuesday                 2.968750                  0.937917  decrease   \n",
       "0    Tuesday                12.654706                  0.908400  increase   \n",
       "0    Tuesday                 1.628125                  0.920435  decrease   \n",
       "0  Wednesday                 8.210000                  0.928696  decrease   \n",
       "0  Wednesday                 2.690952                  0.906400  constant   \n",
       "0  Wednesday                10.705882                  0.933182  constant   \n",
       "0  Wednesday                 2.163333                  0.887727  constant   \n",
       "0  Wednesday                 4.178125                  0.886522  constant   \n",
       "0  Wednesday                12.597222                  0.933043  decrease   \n",
       "0     Friday                 1.503125                  0.891500  constant   \n",
       "0     Friday                 1.812000                  0.919600  constant   \n",
       "0     Friday                 2.660476                  0.949231  decrease   \n",
       "0     Friday                 2.753500                  0.923913  decrease   \n",
       "0     Friday                 4.420000                  0.927500  constant   \n",
       "0     Friday                 6.873500                  0.938696  decrease   \n",
       "0   Saturday                 8.928125                  0.921667  constant   \n",
       "0   Saturday                 5.047500                  0.913750  increase   \n",
       "0   Saturday                 6.567222                  0.919200  constant   \n",
       "0   Saturday                12.415000                  0.879167  increase   \n",
       "0   Saturday                 6.250000                  0.914783  increase   \n",
       "0   Saturday                 2.531875                  0.905833  constant   \n",
       "0     Sunday                 2.383333                  0.903500  constant   \n",
       "0     Sunday                 8.285294                  0.883913  increase   \n",
       "0     Sunday                 2.281765                  0.917826  constant   \n",
       "0     Sunday                 6.227895                  0.927368  decrease   \n",
       "0     Sunday                 1.234000                  0.927826  constant   \n",
       "0     Sunday                 9.028667                  0.920909  increase   \n",
       "\n",
       "    min_limit   max_limit  current_cpa  recommended_tcpa  total_delta_cpa  \\\n",
       "0   94.867790  113.380801   102.212078        102.212078         5.645498   \n",
       "0   76.579148  105.835552   126.324570        108.840627        17.483943   \n",
       "0   76.579148  126.122250   109.886713        116.442996         6.556283   \n",
       "0   76.579148  127.514323   132.650093        119.143068        13.507024   \n",
       "0   76.579148  127.514323   108.535485        108.535485         4.442255   \n",
       "0   76.579148  127.514323   105.131073        105.131073        14.441187   \n",
       "0   76.940255  100.401657    76.579148         76.579148        12.978041   \n",
       "0   76.940255  111.457079   126.122250        126.122250        14.702639   \n",
       "0   76.940255  125.785105   127.514323        114.488096        13.026227   \n",
       "0   76.940255  125.785105   121.994862        109.598276        12.396585   \n",
       "0   98.310345  125.785105   115.856423        125.736502         9.880079   \n",
       "0   98.310345  131.819535   121.136907        114.966623         6.170284   \n",
       "0   84.913646  123.565741   111.457079        104.951280         6.505799   \n",
       "0   84.913646  123.565741   125.785105        125.785105        10.586974   \n",
       "0   84.913646  158.765669    98.310345         98.310345        16.062188   \n",
       "0   84.913646  158.765669   111.966124        111.966124        10.890788   \n",
       "0   99.571729  158.765669   131.819535        131.819535        14.785433   \n",
       "0   99.571729  164.368345   137.431389        122.155925        15.275464   \n",
       "0   96.003462  147.079735   110.492431        110.492431        10.221637   \n",
       "0   90.296371  147.079735   149.707261        149.707261        31.541899   \n",
       "0   90.296371  147.079735   134.312014        119.834887        14.477127   \n",
       "0   90.296371  147.079735   131.954405        118.364823        13.589582   \n",
       "0   90.296371  147.079735   112.818208        112.818208         4.838237   \n",
       "0   90.296371  130.840501   126.887872        116.261673        10.626199   \n",
       "0  104.759074  115.871987    90.296371         90.296371         8.226824   \n",
       "0  106.979645  124.214394    96.261327        104.575002         8.313675   \n",
       "0  106.979645  129.217237   107.608110        107.608110         7.924329   \n",
       "0  101.789236  129.217237   130.840501        129.217237        19.228134   \n",
       "0  101.789236  129.217237   113.946912        115.513789         1.566877   \n",
       "0  101.017882  129.217237   137.002187        137.002187        14.618548   \n",
       "0   96.942924  110.702131   124.214394        124.214394        17.095740   \n",
       "0   96.942924  110.129757   129.217237        110.129757        23.478877   \n",
       "0   96.942924  126.324570   101.789236        101.789236         9.435812   \n",
       "0   96.942924  126.324570   114.887206        112.057236         2.829971   \n",
       "0   96.942924  132.650093   101.017882        101.017882        10.062279   \n",
       "0  102.212078  132.650093    98.105014        110.363382        12.258368   \n",
       "\n",
       "   google_used_cpa  \n",
       "0        76.579148  \n",
       "0       126.122250  \n",
       "0       127.514323  \n",
       "0       121.994862  \n",
       "0       115.856423  \n",
       "0       121.136907  \n",
       "0       111.457079  \n",
       "0       125.785105  \n",
       "0        98.310345  \n",
       "0       111.966124  \n",
       "0       131.819535  \n",
       "0       137.431389  \n",
       "0       117.369718  \n",
       "0       158.765669  \n",
       "0       122.013636  \n",
       "0        99.571729  \n",
       "0       164.368345  \n",
       "0       508.120000  \n",
       "0        90.296371  \n",
       "0        96.261327  \n",
       "0       107.608110  \n",
       "0       130.840501  \n",
       "0       113.946912  \n",
       "0       137.002187  \n",
       "0       124.214394  \n",
       "0       129.217237  \n",
       "0       101.789236  \n",
       "0       114.887206  \n",
       "0       101.017882  \n",
       "0        98.105014  \n",
       "0       102.212078  \n",
       "0       126.324570  \n",
       "0       109.886713  \n",
       "0       132.650093  \n",
       "0       108.535485  \n",
       "0       105.131073  "
      ]
     },
     "execution_count": 328,
     "metadata": {},
     "output_type": "execute_result"
    }
   ],
   "source": [
    "final_df"
   ]
  },
  {
   "cell_type": "code",
   "execution_count": null,
   "id": "65cde1d1",
   "metadata": {},
   "outputs": [],
   "source": []
  },
  {
   "cell_type": "code",
   "execution_count": 333,
   "id": "293c9183",
   "metadata": {},
   "outputs": [
    {
     "data": {
      "text/plain": [
       "day                         18\n",
       "current_conversion_rate     18\n",
       "current_impression_share    18\n",
       "action                      18\n",
       "min_limit                   18\n",
       "max_limit                   18\n",
       "current_cpa                 18\n",
       "recommended_tcpa            18\n",
       "total_delta_cpa             18\n",
       "google_used_cpa             18\n",
       "dtype: int64"
      ]
     },
     "execution_count": 333,
     "metadata": {},
     "output_type": "execute_result"
    }
   ],
   "source": [
    "final_df[final_df[\"action\"]==\"constant\"].count()"
   ]
  },
  {
   "cell_type": "code",
   "execution_count": 335,
   "id": "f51dbae0",
   "metadata": {},
   "outputs": [
    {
     "data": {
      "text/plain": [
       "36"
      ]
     },
     "execution_count": 335,
     "metadata": {},
     "output_type": "execute_result"
    }
   ],
   "source": [
    "final_df[\"action\"].count()"
   ]
  },
  {
   "cell_type": "code",
   "execution_count": 330,
   "id": "f7c18ae8",
   "metadata": {},
   "outputs": [
    {
     "data": {
      "text/plain": [
       "('22-06-26', '22-07-03')"
      ]
     },
     "execution_count": 330,
     "metadata": {},
     "output_type": "execute_result"
    }
   ],
   "source": [
    "day_min = day[\"date\"].iloc[4]\n",
    "day_max = day[\"date\"].iloc[5]\n",
    "day_min,  day_max "
   ]
  },
  {
   "cell_type": "code",
   "execution_count": null,
   "id": "8995963c",
   "metadata": {},
   "outputs": [],
   "source": []
  },
  {
   "cell_type": "code",
   "execution_count": 214,
   "id": "164d8362",
   "metadata": {},
   "outputs": [
    {
     "data": {
      "text/html": [
       "<div>\n",
       "<style scoped>\n",
       "    .dataframe tbody tr th:only-of-type {\n",
       "        vertical-align: middle;\n",
       "    }\n",
       "\n",
       "    .dataframe tbody tr th {\n",
       "        vertical-align: top;\n",
       "    }\n",
       "\n",
       "    .dataframe thead th {\n",
       "        text-align: right;\n",
       "    }\n",
       "</style>\n",
       "<table border=\"1\" class=\"dataframe\">\n",
       "  <thead>\n",
       "    <tr style=\"text-align: right;\">\n",
       "      <th></th>\n",
       "      <th>date</th>\n",
       "      <th>conversions</th>\n",
       "      <th>cost</th>\n",
       "      <th>impression_share</th>\n",
       "      <th>Absolute top impression percentage</th>\n",
       "      <th>final</th>\n",
       "      <th>Conversion rate</th>\n",
       "      <th>cost_per_conv</th>\n",
       "    </tr>\n",
       "  </thead>\n",
       "  <tbody>\n",
       "    <tr>\n",
       "      <th>0</th>\n",
       "      <td>22-06-10</td>\n",
       "      <td>57.95</td>\n",
       "      <td>6235.89</td>\n",
       "      <td>0.919200</td>\n",
       "      <td>0.800400</td>\n",
       "      <td>107.0</td>\n",
       "      <td>6.567222</td>\n",
       "      <td>107.608110</td>\n",
       "    </tr>\n",
       "    <tr>\n",
       "      <th>1</th>\n",
       "      <td>22-06-11</td>\n",
       "      <td>57.60</td>\n",
       "      <td>5863.06</td>\n",
       "      <td>0.917826</td>\n",
       "      <td>0.710870</td>\n",
       "      <td>107.0</td>\n",
       "      <td>2.281765</td>\n",
       "      <td>101.789236</td>\n",
       "    </tr>\n",
       "    <tr>\n",
       "      <th>2</th>\n",
       "      <td>22-06-12</td>\n",
       "      <td>66.91</td>\n",
       "      <td>7352.52</td>\n",
       "      <td>0.883636</td>\n",
       "      <td>0.705217</td>\n",
       "      <td>107.0</td>\n",
       "      <td>8.222353</td>\n",
       "      <td>109.886713</td>\n",
       "    </tr>\n",
       "    <tr>\n",
       "      <th>3</th>\n",
       "      <td>22-06-13</td>\n",
       "      <td>53.06</td>\n",
       "      <td>6765.91</td>\n",
       "      <td>0.933750</td>\n",
       "      <td>0.767500</td>\n",
       "      <td>107.0</td>\n",
       "      <td>6.215294</td>\n",
       "      <td>127.514323</td>\n",
       "    </tr>\n",
       "    <tr>\n",
       "      <th>4</th>\n",
       "      <td>22-06-14</td>\n",
       "      <td>46.40</td>\n",
       "      <td>4561.60</td>\n",
       "      <td>0.933182</td>\n",
       "      <td>0.794545</td>\n",
       "      <td>107.0</td>\n",
       "      <td>10.705882</td>\n",
       "      <td>98.310345</td>\n",
       "    </tr>\n",
       "    <tr>\n",
       "      <th>5</th>\n",
       "      <td>22-06-15</td>\n",
       "      <td>39.60</td>\n",
       "      <td>4831.74</td>\n",
       "      <td>0.894348</td>\n",
       "      <td>0.813913</td>\n",
       "      <td>107.0</td>\n",
       "      <td>8.306111</td>\n",
       "      <td>122.013636</td>\n",
       "    </tr>\n",
       "    <tr>\n",
       "      <th>6</th>\n",
       "      <td>22-06-16</td>\n",
       "      <td>42.11</td>\n",
       "      <td>5556.60</td>\n",
       "      <td>0.923913</td>\n",
       "      <td>0.832174</td>\n",
       "      <td>107.0</td>\n",
       "      <td>2.753500</td>\n",
       "      <td>131.954405</td>\n",
       "    </tr>\n",
       "  </tbody>\n",
       "</table>\n",
       "</div>"
      ],
      "text/plain": [
       "       date  conversions     cost  impression_share  \\\n",
       "0  22-06-10        57.95  6235.89          0.919200   \n",
       "1  22-06-11        57.60  5863.06          0.917826   \n",
       "2  22-06-12        66.91  7352.52          0.883636   \n",
       "3  22-06-13        53.06  6765.91          0.933750   \n",
       "4  22-06-14        46.40  4561.60          0.933182   \n",
       "5  22-06-15        39.60  4831.74          0.894348   \n",
       "6  22-06-16        42.11  5556.60          0.923913   \n",
       "\n",
       "   Absolute top impression percentage  final  Conversion rate  cost_per_conv  \n",
       "0                            0.800400  107.0         6.567222     107.608110  \n",
       "1                            0.710870  107.0         2.281765     101.789236  \n",
       "2                            0.705217  107.0         8.222353     109.886713  \n",
       "3                            0.767500  107.0         6.215294     127.514323  \n",
       "4                            0.794545  107.0        10.705882      98.310345  \n",
       "5                            0.813913  107.0         8.306111     122.013636  \n",
       "6                            0.832174  107.0         2.753500     131.954405  "
      ]
     },
     "execution_count": 214,
     "metadata": {},
     "output_type": "execute_result"
    }
   ],
   "source": [
    "\n",
    "week = analysis[(analysis[\"date\"]<day_max) & (analysis[\"date\"]>=day_min)].groupby(\"date\")[['conversions','cost','impression_share','Absolute top impression percentage',\"final\",\"Conversion rate\"]].mean().reset_index()\n",
    "week[\"cost_per_conv\"]= week['cost']/week[\"conversions\"]\n",
    "week"
   ]
  },
  {
   "cell_type": "code",
   "execution_count": 215,
   "id": "f48e57fd",
   "metadata": {},
   "outputs": [
    {
     "data": {
      "text/plain": [
       "(114.40857566298371, 131.95440512942295)"
      ]
     },
     "execution_count": 215,
     "metadata": {},
     "output_type": "execute_result"
    }
   ],
   "source": [
    "day_avg= day[\"cost_per_conv\"][:5].mean()\n",
    "day_avg = .6*day_avg\n",
    "week_avg = week[\"cost_per_conv\"].mean()\n",
    "week_avg = 0.4*week_avg\n",
    "avg_cpa = day_avg + week_avg\n",
    "current_cpa = week[\"cost_per_conv\"][6:7].iloc[0]\n",
    "\n",
    "avg_cpa, current_cpa "
   ]
  },
  {
   "cell_type": "code",
   "execution_count": 217,
   "id": "2836f041",
   "metadata": {},
   "outputs": [
    {
     "data": {
      "text/plain": [
       "(5.2497023330384796, 2.7535000000000003)"
      ]
     },
     "execution_count": 217,
     "metadata": {},
     "output_type": "execute_result"
    }
   ],
   "source": [
    "day_avg= day[\"Conversion rate\"][:5].mean()\n",
    "day_avg = .6*day_avg\n",
    "week_avg = week[\"Conversion rate\"].mean()\n",
    "week_avg = 0.4*week_avg\n",
    "avg_conversion_rate = day_avg + week_avg\n",
    "current_conversion_rate = week[\"Conversion rate\"][6:7].iloc[0]\n",
    "avg_conversion_rate,current_conversion_rate"
   ]
  },
  {
   "cell_type": "code",
   "execution_count": 218,
   "id": "5e32445d",
   "metadata": {},
   "outputs": [
    {
     "data": {
      "text/plain": [
       "(0.9215798985408186, 0.9239130434782609)"
      ]
     },
     "execution_count": 218,
     "metadata": {},
     "output_type": "execute_result"
    }
   ],
   "source": [
    "day_avg= day[\"impression_share\"][:5].mean()\n",
    "day_avg = .6*day_avg\n",
    "week_avg = week[\"impression_share\"].mean()\n",
    "week_avg = 0.4*week_avg\n",
    "avg_impression_share = day_avg + week_avg\n",
    "\n",
    "current_impression_share = week[\"impression_share\"][6:7].iloc[0]\n",
    "avg_impression_share, current_impression_share"
   ]
  },
  {
   "cell_type": "code",
   "execution_count": 219,
   "id": "d0636cf7",
   "metadata": {},
   "outputs": [
    {
     "data": {
      "text/plain": [
       "{'current_cpa': 131.95440512942295,\n",
       " 'avg_cpa': 114.40857566298371,\n",
       " 'current_conversion_rate': 2.7535000000000003,\n",
       " 'avg_conversion_rate': 5.2497023330384796,\n",
       " 'current_impression_share': 0.9239130434782609,\n",
       " 'avg_impression_share': 0.9215798985408186}"
      ]
     },
     "execution_count": 219,
     "metadata": {},
     "output_type": "execute_result"
    }
   ],
   "source": [
    "input_matrix = {\"current_cpa\": current_cpa ,   \n",
    "               \"avg_cpa\":avg_cpa,\n",
    "               \"current_conversion_rate\":current_conversion_rate,\n",
    "                \"avg_conversion_rate\":avg_conversion_rate,\n",
    "                \"current_impression_share\":current_impression_share,\n",
    "                \"avg_impression_share\":avg_impression_share\n",
    "                }\n",
    "input_matrix "
   ]
  },
  {
   "cell_type": "code",
   "execution_count": 220,
   "id": "2a564c08",
   "metadata": {},
   "outputs": [
    {
     "data": {
      "text/plain": [
       "(10.118338928396334, -3.1371768630177295, 0.33406626250028526)"
      ]
     },
     "execution_count": 220,
     "metadata": {},
     "output_type": "execute_result"
    }
   ],
   "source": [
    "delta_avg = .5*((current_cpa-avg_cpa)/avg_cpa)*current_cpa\n",
    "delta_impression_share = ((current_impression_share-avg_impression_share)/avg_impression_share)*current_cpa \n",
    "delta_conversion_rate = ((current_conversion_rate-avg_conversion_rate)/avg_conversion_rate)*current_cpa*.05\n",
    "\n",
    "delta_avg ,delta_conversion_rate ,delta_impression_share "
   ]
  },
  {
   "cell_type": "code",
   "execution_count": 221,
   "id": "4c7e0262",
   "metadata": {},
   "outputs": [
    {
     "data": {
      "text/plain": [
       "13.589582053914349"
      ]
     },
     "execution_count": 221,
     "metadata": {},
     "output_type": "execute_result"
    }
   ],
   "source": [
    "total_delta_cpa = abs(delta_conversion_rate)+ abs(delta_impression_share)+ abs(delta_avg)\n",
    "total_delta_cpa "
   ]
  },
  {
   "cell_type": "code",
   "execution_count": 223,
   "id": "92c28fed",
   "metadata": {},
   "outputs": [
    {
     "data": {
      "text/plain": [
       "'decrease'"
      ]
     },
     "execution_count": 223,
     "metadata": {},
     "output_type": "execute_result"
    }
   ],
   "source": [
    "level = get_tcpa_graph_level(input_matrix)\n",
    "level"
   ]
  },
  {
   "cell_type": "code",
   "execution_count": 224,
   "id": "f85e158f",
   "metadata": {},
   "outputs": [
    {
     "data": {
      "text/plain": [
       "(90.2963713391048, 147.07973537604457)"
      ]
     },
     "execution_count": 224,
     "metadata": {},
     "output_type": "execute_result"
    }
   ],
   "source": [
    "min_limit = day[\"cost_per_conv\"][:5].min()\n",
    "max_limit = day[\"cost_per_conv\"][:5].max()\n",
    "min_limit, max_limit"
   ]
  },
  {
   "cell_type": "code",
   "execution_count": 252,
   "id": "081ebdfa",
   "metadata": {},
   "outputs": [
    {
     "data": {
      "text/plain": [
       "116.26167251207274"
      ]
     },
     "execution_count": 252,
     "metadata": {},
     "output_type": "execute_result"
    }
   ],
   "source": [
    "if level == \"increase\":\n",
    "    recommended_tcpa= current_cpa + total_delta_cpa\n",
    "    if recommended_tcpa > max_limit:\n",
    "        recommended_tcpa = max_limit\n",
    "    \n",
    "elif level == \"decrease\":\n",
    "    recommended_tcpa = current_cpa - total_delta_cpa\n",
    "    if recommended_tcpa < min_limit:\n",
    "        recommended_tcpa = min_limit      \n",
    "else:\n",
    "    recommended_tcpa = current_cpa \n",
    "     \n",
    "recommended_tcpa  "
   ]
  },
  {
   "cell_type": "code",
   "execution_count": 253,
   "id": "1d581c5c",
   "metadata": {},
   "outputs": [
    {
     "data": {
      "text/plain": [
       "137.0021875"
      ]
     },
     "execution_count": 253,
     "metadata": {},
     "output_type": "execute_result"
    }
   ],
   "source": [
    "google_used = day[\"cost_per_conv\"].iloc[5]\n",
    "google_used"
   ]
  },
  {
   "cell_type": "code",
   "execution_count": 254,
   "id": "94c22692",
   "metadata": {},
   "outputs": [
    {
     "data": {
      "text/plain": [
       "126.88787185354691"
      ]
     },
     "execution_count": 254,
     "metadata": {},
     "output_type": "execute_result"
    }
   ],
   "source": [
    "current_cpa"
   ]
  },
  {
   "cell_type": "code",
   "execution_count": 259,
   "id": "2d57c780",
   "metadata": {},
   "outputs": [
    {
     "data": {
      "text/html": [
       "<div>\n",
       "<style scoped>\n",
       "    .dataframe tbody tr th:only-of-type {\n",
       "        vertical-align: middle;\n",
       "    }\n",
       "\n",
       "    .dataframe tbody tr th {\n",
       "        vertical-align: top;\n",
       "    }\n",
       "\n",
       "    .dataframe thead th {\n",
       "        text-align: right;\n",
       "    }\n",
       "</style>\n",
       "<table border=\"1\" class=\"dataframe\">\n",
       "  <thead>\n",
       "    <tr style=\"text-align: right;\">\n",
       "      <th></th>\n",
       "      <th>current_cpa</th>\n",
       "      <th>recommended_tcpa</th>\n",
       "      <th>google_used_cpa</th>\n",
       "    </tr>\n",
       "  </thead>\n",
       "  <tbody>\n",
       "    <tr>\n",
       "      <th>0</th>\n",
       "      <td>126.887872</td>\n",
       "      <td>116.261673</td>\n",
       "      <td>137.002187</td>\n",
       "    </tr>\n",
       "  </tbody>\n",
       "</table>\n",
       "</div>"
      ],
      "text/plain": [
       "   current_cpa  recommended_tcpa  google_used_cpa\n",
       "0   126.887872        116.261673       137.002187"
      ]
     },
     "execution_count": 259,
     "metadata": {},
     "output_type": "execute_result"
    }
   ],
   "source": [
    "df= pd.DataFrame()\n",
    "df[\"current_cpa\"] = [current_cpa]\n",
    "df[\"recommended_tcpa\"]= [recommended_tcpa] \n",
    "df[\"google_used_cpa\"] = [google_used_cpa]\n",
    "\n",
    "    \n",
    "df  \n",
    "# final_df = pd.concat(dfs, ignore_index=True)"
   ]
  },
  {
   "cell_type": "code",
   "execution_count": 261,
   "id": "ca3a97f4",
   "metadata": {},
   "outputs": [],
   "source": [
    "final_df =  pd.DataFrame()"
   ]
  },
  {
   "cell_type": "code",
   "execution_count": 262,
   "id": "b4af5316",
   "metadata": {},
   "outputs": [
    {
     "ename": "TypeError",
     "evalue": "first argument must be an iterable of pandas objects, you passed an object of type \"DataFrame\"",
     "output_type": "error",
     "traceback": [
      "\u001b[0;31m---------------------------------------------------------------------------\u001b[0m",
      "\u001b[0;31mTypeError\u001b[0m                                 Traceback (most recent call last)",
      "Input \u001b[0;32mIn [262]\u001b[0m, in \u001b[0;36m<cell line: 1>\u001b[0;34m()\u001b[0m\n\u001b[0;32m----> 1\u001b[0m final_df \u001b[38;5;241m=\u001b[39m \u001b[43mpd\u001b[49m\u001b[38;5;241;43m.\u001b[39;49m\u001b[43mconcat\u001b[49m\u001b[43m(\u001b[49m\u001b[43mdf\u001b[49m\u001b[43m,\u001b[49m\u001b[43m \u001b[49m\u001b[43mignore_index\u001b[49m\u001b[38;5;241;43m=\u001b[39;49m\u001b[38;5;28;43;01mTrue\u001b[39;49;00m\u001b[43m)\u001b[49m\n",
      "File \u001b[0;32m/Library/Frameworks/Python.framework/Versions/3.8/lib/python3.8/site-packages/pandas/util/_decorators.py:311\u001b[0m, in \u001b[0;36mdeprecate_nonkeyword_arguments.<locals>.decorate.<locals>.wrapper\u001b[0;34m(*args, **kwargs)\u001b[0m\n\u001b[1;32m    305\u001b[0m \u001b[38;5;28;01mif\u001b[39;00m \u001b[38;5;28mlen\u001b[39m(args) \u001b[38;5;241m>\u001b[39m num_allow_args:\n\u001b[1;32m    306\u001b[0m     warnings\u001b[38;5;241m.\u001b[39mwarn(\n\u001b[1;32m    307\u001b[0m         msg\u001b[38;5;241m.\u001b[39mformat(arguments\u001b[38;5;241m=\u001b[39marguments),\n\u001b[1;32m    308\u001b[0m         \u001b[38;5;167;01mFutureWarning\u001b[39;00m,\n\u001b[1;32m    309\u001b[0m         stacklevel\u001b[38;5;241m=\u001b[39mstacklevel,\n\u001b[1;32m    310\u001b[0m     )\n\u001b[0;32m--> 311\u001b[0m \u001b[38;5;28;01mreturn\u001b[39;00m \u001b[43mfunc\u001b[49m\u001b[43m(\u001b[49m\u001b[38;5;241;43m*\u001b[39;49m\u001b[43margs\u001b[49m\u001b[43m,\u001b[49m\u001b[43m \u001b[49m\u001b[38;5;241;43m*\u001b[39;49m\u001b[38;5;241;43m*\u001b[39;49m\u001b[43mkwargs\u001b[49m\u001b[43m)\u001b[49m\n",
      "File \u001b[0;32m/Library/Frameworks/Python.framework/Versions/3.8/lib/python3.8/site-packages/pandas/core/reshape/concat.py:347\u001b[0m, in \u001b[0;36mconcat\u001b[0;34m(objs, axis, join, ignore_index, keys, levels, names, verify_integrity, sort, copy)\u001b[0m\n\u001b[1;32m    143\u001b[0m \u001b[38;5;129m@deprecate_nonkeyword_arguments\u001b[39m(version\u001b[38;5;241m=\u001b[39m\u001b[38;5;28;01mNone\u001b[39;00m, allowed_args\u001b[38;5;241m=\u001b[39m[\u001b[38;5;124m\"\u001b[39m\u001b[38;5;124mobjs\u001b[39m\u001b[38;5;124m\"\u001b[39m])\n\u001b[1;32m    144\u001b[0m \u001b[38;5;28;01mdef\u001b[39;00m \u001b[38;5;21mconcat\u001b[39m(\n\u001b[1;32m    145\u001b[0m     objs: Iterable[NDFrame] \u001b[38;5;241m|\u001b[39m Mapping[Hashable, NDFrame],\n\u001b[0;32m   (...)\u001b[0m\n\u001b[1;32m    154\u001b[0m     copy: \u001b[38;5;28mbool\u001b[39m \u001b[38;5;241m=\u001b[39m \u001b[38;5;28;01mTrue\u001b[39;00m,\n\u001b[1;32m    155\u001b[0m ) \u001b[38;5;241m-\u001b[39m\u001b[38;5;241m>\u001b[39m DataFrame \u001b[38;5;241m|\u001b[39m Series:\n\u001b[1;32m    156\u001b[0m     \u001b[38;5;124;03m\"\"\"\u001b[39;00m\n\u001b[1;32m    157\u001b[0m \u001b[38;5;124;03m    Concatenate pandas objects along a particular axis with optional set logic\u001b[39;00m\n\u001b[1;32m    158\u001b[0m \u001b[38;5;124;03m    along the other axes.\u001b[39;00m\n\u001b[0;32m   (...)\u001b[0m\n\u001b[1;32m    345\u001b[0m \u001b[38;5;124;03m    ValueError: Indexes have overlapping values: ['a']\u001b[39;00m\n\u001b[1;32m    346\u001b[0m \u001b[38;5;124;03m    \"\"\"\u001b[39;00m\n\u001b[0;32m--> 347\u001b[0m     op \u001b[38;5;241m=\u001b[39m \u001b[43m_Concatenator\u001b[49m\u001b[43m(\u001b[49m\n\u001b[1;32m    348\u001b[0m \u001b[43m        \u001b[49m\u001b[43mobjs\u001b[49m\u001b[43m,\u001b[49m\n\u001b[1;32m    349\u001b[0m \u001b[43m        \u001b[49m\u001b[43maxis\u001b[49m\u001b[38;5;241;43m=\u001b[39;49m\u001b[43maxis\u001b[49m\u001b[43m,\u001b[49m\n\u001b[1;32m    350\u001b[0m \u001b[43m        \u001b[49m\u001b[43mignore_index\u001b[49m\u001b[38;5;241;43m=\u001b[39;49m\u001b[43mignore_index\u001b[49m\u001b[43m,\u001b[49m\n\u001b[1;32m    351\u001b[0m \u001b[43m        \u001b[49m\u001b[43mjoin\u001b[49m\u001b[38;5;241;43m=\u001b[39;49m\u001b[43mjoin\u001b[49m\u001b[43m,\u001b[49m\n\u001b[1;32m    352\u001b[0m \u001b[43m        \u001b[49m\u001b[43mkeys\u001b[49m\u001b[38;5;241;43m=\u001b[39;49m\u001b[43mkeys\u001b[49m\u001b[43m,\u001b[49m\n\u001b[1;32m    353\u001b[0m \u001b[43m        \u001b[49m\u001b[43mlevels\u001b[49m\u001b[38;5;241;43m=\u001b[39;49m\u001b[43mlevels\u001b[49m\u001b[43m,\u001b[49m\n\u001b[1;32m    354\u001b[0m \u001b[43m        \u001b[49m\u001b[43mnames\u001b[49m\u001b[38;5;241;43m=\u001b[39;49m\u001b[43mnames\u001b[49m\u001b[43m,\u001b[49m\n\u001b[1;32m    355\u001b[0m \u001b[43m        \u001b[49m\u001b[43mverify_integrity\u001b[49m\u001b[38;5;241;43m=\u001b[39;49m\u001b[43mverify_integrity\u001b[49m\u001b[43m,\u001b[49m\n\u001b[1;32m    356\u001b[0m \u001b[43m        \u001b[49m\u001b[43mcopy\u001b[49m\u001b[38;5;241;43m=\u001b[39;49m\u001b[43mcopy\u001b[49m\u001b[43m,\u001b[49m\n\u001b[1;32m    357\u001b[0m \u001b[43m        \u001b[49m\u001b[43msort\u001b[49m\u001b[38;5;241;43m=\u001b[39;49m\u001b[43msort\u001b[49m\u001b[43m,\u001b[49m\n\u001b[1;32m    358\u001b[0m \u001b[43m    \u001b[49m\u001b[43m)\u001b[49m\n\u001b[1;32m    360\u001b[0m     \u001b[38;5;28;01mreturn\u001b[39;00m op\u001b[38;5;241m.\u001b[39mget_result()\n",
      "File \u001b[0;32m/Library/Frameworks/Python.framework/Versions/3.8/lib/python3.8/site-packages/pandas/core/reshape/concat.py:382\u001b[0m, in \u001b[0;36m_Concatenator.__init__\u001b[0;34m(self, objs, axis, join, keys, levels, names, ignore_index, verify_integrity, copy, sort)\u001b[0m\n\u001b[1;32m    368\u001b[0m \u001b[38;5;28;01mdef\u001b[39;00m \u001b[38;5;21m__init__\u001b[39m(\n\u001b[1;32m    369\u001b[0m     \u001b[38;5;28mself\u001b[39m,\n\u001b[1;32m    370\u001b[0m     objs: Iterable[NDFrame] \u001b[38;5;241m|\u001b[39m Mapping[Hashable, NDFrame],\n\u001b[0;32m   (...)\u001b[0m\n\u001b[1;32m    379\u001b[0m     sort\u001b[38;5;241m=\u001b[39m\u001b[38;5;28;01mFalse\u001b[39;00m,\n\u001b[1;32m    380\u001b[0m ):\n\u001b[1;32m    381\u001b[0m     \u001b[38;5;28;01mif\u001b[39;00m \u001b[38;5;28misinstance\u001b[39m(objs, (ABCSeries, ABCDataFrame, \u001b[38;5;28mstr\u001b[39m)):\n\u001b[0;32m--> 382\u001b[0m         \u001b[38;5;28;01mraise\u001b[39;00m \u001b[38;5;167;01mTypeError\u001b[39;00m(\n\u001b[1;32m    383\u001b[0m             \u001b[38;5;124m\"\u001b[39m\u001b[38;5;124mfirst argument must be an iterable of pandas \u001b[39m\u001b[38;5;124m\"\u001b[39m\n\u001b[1;32m    384\u001b[0m             \u001b[38;5;124mf\u001b[39m\u001b[38;5;124m'\u001b[39m\u001b[38;5;124mobjects, you passed an object of type \u001b[39m\u001b[38;5;124m\"\u001b[39m\u001b[38;5;132;01m{\u001b[39;00m\u001b[38;5;28mtype\u001b[39m(objs)\u001b[38;5;241m.\u001b[39m\u001b[38;5;18m__name__\u001b[39m\u001b[38;5;132;01m}\u001b[39;00m\u001b[38;5;124m\"\u001b[39m\u001b[38;5;124m'\u001b[39m\n\u001b[1;32m    385\u001b[0m         )\n\u001b[1;32m    387\u001b[0m     \u001b[38;5;28;01mif\u001b[39;00m join \u001b[38;5;241m==\u001b[39m \u001b[38;5;124m\"\u001b[39m\u001b[38;5;124mouter\u001b[39m\u001b[38;5;124m\"\u001b[39m:\n\u001b[1;32m    388\u001b[0m         \u001b[38;5;28mself\u001b[39m\u001b[38;5;241m.\u001b[39mintersect \u001b[38;5;241m=\u001b[39m \u001b[38;5;28;01mFalse\u001b[39;00m\n",
      "\u001b[0;31mTypeError\u001b[0m: first argument must be an iterable of pandas objects, you passed an object of type \"DataFrame\""
     ]
    }
   ],
   "source": [
    "final_df = pd.concat(df, ignore_index=True)"
   ]
  },
  {
   "cell_type": "code",
   "execution_count": 320,
   "id": "6e9d09c2",
   "metadata": {},
   "outputs": [],
   "source": [
    "\n",
    "def cpa_node(current_cpa, avg_cpa):\n",
    "    if current_cpa<avg_cpa:\n",
    "        return True\n",
    "    else:\n",
    "        return False\n",
    "        "
   ]
  },
  {
   "cell_type": "code",
   "execution_count": 321,
   "id": "84d8de63",
   "metadata": {},
   "outputs": [],
   "source": [
    "def conversion_rate_node(current_conversion_rate, avg_conversion_rate):\n",
    "    if current_conversion_rate> avg_conversion_rate:\n",
    "         return True\n",
    "    else:\n",
    "         return False"
   ]
  },
  {
   "cell_type": "code",
   "execution_count": 322,
   "id": "80b6f17e",
   "metadata": {},
   "outputs": [],
   "source": [
    "def impression_share_node(current_impression_share, avg_impression_share):\n",
    "    if current_impression_share>avg_impression_share:\n",
    "         return True\n",
    "    else:\n",
    "        return False"
   ]
  },
  {
   "cell_type": "code",
   "execution_count": 323,
   "id": "f4b8189f",
   "metadata": {},
   "outputs": [],
   "source": [
    "def condition_check(cpa_node,conversion_rate_node,impression_share_node):\n",
    "#     print(cpa_node)\n",
    "    if cpa_node:\n",
    "#         print(\"a\")\n",
    "        if conversion_rate_node:\n",
    "            if impression_share_node:\n",
    "                return(\"constant\")\n",
    "            else:\n",
    "                return(\"increase\")\n",
    "\n",
    "        else:\n",
    "             if impression_share_node:\n",
    "                return(\"constant\")\n",
    "             else:\n",
    "                return(\"constant\")\n",
    "            \n",
    "    else:\n",
    "#         print(\"b\")\n",
    "        if conversion_rate_node:\n",
    "            if impression_share_node:\n",
    "                return(\"decrease\")\n",
    "\n",
    "            else:\n",
    "                return(\"increase\")\n",
    "        else:\n",
    "            if impression_share_node:\n",
    "                return(\"decrease\")\n",
    "\n",
    "            else:\n",
    "                return(\"constant\")"
   ]
  },
  {
   "cell_type": "code",
   "execution_count": 324,
   "id": "63cf0244",
   "metadata": {},
   "outputs": [],
   "source": [
    "def get_tcpa_graph_level(input_matrix):\n",
    "    current_cpa = input_matrix['current_cpa']\n",
    "    avg_cpa    = input_matrix['avg_cpa']\n",
    "        \n",
    "    current_conversion_rate = input_matrix['current_conversion_rate']\n",
    "    avg_conversion_rate = input_matrix['avg_conversion_rate']\n",
    "    \n",
    "    current_impression_share = input_matrix['current_impression_share']\n",
    "    avg_impression_share = input_matrix['avg_impression_share']\n",
    "    \n",
    "        \n",
    "    a = (cpa_node(current_cpa, avg_cpa))\n",
    "    b = conversion_rate_node(current_conversion_rate, avg_conversion_rate)\n",
    "    c = impression_share_node(current_impression_share, avg_impression_share)\n",
    "    \n",
    "    action_level = condition_check(a,b, c)\n",
    "    \n",
    "    return action_level"
   ]
  },
  {
   "cell_type": "code",
   "execution_count": 122,
   "id": "7304cb7c",
   "metadata": {},
   "outputs": [],
   "source": [
    "input_matrix = {\"current_cpa\":126.887872,   \n",
    "               \"avg_cpa\":113.95624112682512,\n",
    "               \"current_conversion_rate\":6.8735,\n",
    "                \"avg_conversion_rate\":6.911519304388421,\n",
    "                \"current_impression_share\":0.908696,\n",
    "                \"avg_impression_share\":0.9142572825145868\n",
    "                }"
   ]
  },
  {
   "cell_type": "code",
   "execution_count": 123,
   "id": "9ea1d99a",
   "metadata": {},
   "outputs": [
    {
     "name": "stdout",
     "output_type": "stream",
     "text": [
      "False\n"
     ]
    },
    {
     "data": {
      "text/plain": [
       "'constant'"
      ]
     },
     "execution_count": 123,
     "metadata": {},
     "output_type": "execute_result"
    }
   ],
   "source": [
    "get_tcpa_graph_level(input_matrix)"
   ]
  },
  {
   "cell_type": "code",
   "execution_count": 67,
   "id": "326cbef8",
   "metadata": {},
   "outputs": [],
   "source": [
    "### graph coding\n",
    "# positive or negative = def cpa_node(current_cpa, avg_cpa)\n",
    "# positive or negative = def conversion_rate_node(current_conversion_rate, avg_conversion_rate)\n",
    "# positive or negative = def impression_share_node(current_impression_share, avg_impression_share)\n",
    "\n"
   ]
  },
  {
   "cell_type": "code",
   "execution_count": null,
   "id": "6ed69d83",
   "metadata": {},
   "outputs": [],
   "source": []
  },
  {
   "cell_type": "code",
   "execution_count": null,
   "id": "5dcd1287",
   "metadata": {},
   "outputs": [],
   "source": []
  },
  {
   "cell_type": "code",
   "execution_count": null,
   "id": "9312d508",
   "metadata": {},
   "outputs": [],
   "source": []
  },
  {
   "cell_type": "code",
   "execution_count": 37,
   "id": "10590a2a",
   "metadata": {},
   "outputs": [
    {
     "data": {
      "text/plain": [
       "<AxesSubplot:xlabel='cost_per_conv', ylabel='conversions'>"
      ]
     },
     "execution_count": 37,
     "metadata": {},
     "output_type": "execute_result"
    },
    {
     "data": {
      "image/png": "[encoded data removed]",
      "text/plain": [
       "<Figure size 432x288 with 1 Axes>"
      ]
     },
     "metadata": {
      "needs_background": "light"
     },
     "output_type": "display_data"
    }
   ],
   "source": [
    "analysis[analysis[\"weekday\"]==\"Friday\"].plot(x= \"cost_per_conv\", y = \"conversions\", kind = \"scatter\")\n"
   ]
  },
  {
   "cell_type": "code",
   "execution_count": 60,
   "id": "fbf515e7",
   "metadata": {},
   "outputs": [
    {
     "data": {
      "text/html": [
       "<div>\n",
       "<style scoped>\n",
       "    .dataframe tbody tr th:only-of-type {\n",
       "        vertical-align: middle;\n",
       "    }\n",
       "\n",
       "    .dataframe tbody tr th {\n",
       "        vertical-align: top;\n",
       "    }\n",
       "\n",
       "    .dataframe thead th {\n",
       "        text-align: right;\n",
       "    }\n",
       "</style>\n",
       "<table border=\"1\" class=\"dataframe\">\n",
       "  <thead>\n",
       "    <tr style=\"text-align: right;\">\n",
       "      <th></th>\n",
       "      <th>date</th>\n",
       "      <th>conversions</th>\n",
       "      <th>cost</th>\n",
       "      <th>impression_share</th>\n",
       "      <th>Absolute top impression percentage</th>\n",
       "      <th>final</th>\n",
       "      <th>Conversion rate</th>\n",
       "      <th>cost_per_conv</th>\n",
       "    </tr>\n",
       "  </thead>\n",
       "  <tbody>\n",
       "    <tr>\n",
       "      <th>0</th>\n",
       "      <td>22-06-23</td>\n",
       "      <td>35.26</td>\n",
       "      <td>3977.97</td>\n",
       "      <td>0.927500</td>\n",
       "      <td>0.728000</td>\n",
       "      <td>107.0</td>\n",
       "      <td>4.420000</td>\n",
       "      <td>112.818208</td>\n",
       "    </tr>\n",
       "    <tr>\n",
       "      <th>1</th>\n",
       "      <td>22-06-24</td>\n",
       "      <td>38.05</td>\n",
       "      <td>4335.68</td>\n",
       "      <td>0.914783</td>\n",
       "      <td>0.816957</td>\n",
       "      <td>107.0</td>\n",
       "      <td>6.250000</td>\n",
       "      <td>113.946912</td>\n",
       "    </tr>\n",
       "    <tr>\n",
       "      <th>2</th>\n",
       "      <td>22-06-25</td>\n",
       "      <td>43.06</td>\n",
       "      <td>4349.83</td>\n",
       "      <td>0.927826</td>\n",
       "      <td>0.827500</td>\n",
       "      <td>107.0</td>\n",
       "      <td>1.234000</td>\n",
       "      <td>101.017882</td>\n",
       "    </tr>\n",
       "    <tr>\n",
       "      <th>3</th>\n",
       "      <td>22-06-26</td>\n",
       "      <td>59.18</td>\n",
       "      <td>6423.13</td>\n",
       "      <td>0.950833</td>\n",
       "      <td>0.852083</td>\n",
       "      <td>107.0</td>\n",
       "      <td>4.319444</td>\n",
       "      <td>108.535485</td>\n",
       "    </tr>\n",
       "    <tr>\n",
       "      <th>4</th>\n",
       "      <td>22-06-27</td>\n",
       "      <td>53.56</td>\n",
       "      <td>6205.27</td>\n",
       "      <td>0.908400</td>\n",
       "      <td>0.796000</td>\n",
       "      <td>107.0</td>\n",
       "      <td>12.654706</td>\n",
       "      <td>115.856423</td>\n",
       "    </tr>\n",
       "    <tr>\n",
       "      <th>5</th>\n",
       "      <td>22-06-28</td>\n",
       "      <td>47.71</td>\n",
       "      <td>6289.11</td>\n",
       "      <td>0.886522</td>\n",
       "      <td>0.905652</td>\n",
       "      <td>107.0</td>\n",
       "      <td>4.178125</td>\n",
       "      <td>131.819535</td>\n",
       "    </tr>\n",
       "    <tr>\n",
       "      <th>6</th>\n",
       "      <td>22-06-29</td>\n",
       "      <td>34.75</td>\n",
       "      <td>5711.80</td>\n",
       "      <td>0.920455</td>\n",
       "      <td>0.895909</td>\n",
       "      <td>107.0</td>\n",
       "      <td>3.105333</td>\n",
       "      <td>164.368345</td>\n",
       "    </tr>\n",
       "  </tbody>\n",
       "</table>\n",
       "</div>"
      ],
      "text/plain": [
       "       date  conversions     cost  impression_share  \\\n",
       "0  22-06-23        35.26  3977.97          0.927500   \n",
       "1  22-06-24        38.05  4335.68          0.914783   \n",
       "2  22-06-25        43.06  4349.83          0.927826   \n",
       "3  22-06-26        59.18  6423.13          0.950833   \n",
       "4  22-06-27        53.56  6205.27          0.908400   \n",
       "5  22-06-28        47.71  6289.11          0.886522   \n",
       "6  22-06-29        34.75  5711.80          0.920455   \n",
       "\n",
       "   Absolute top impression percentage  final  Conversion rate  cost_per_conv  \n",
       "0                            0.728000  107.0         4.420000     112.818208  \n",
       "1                            0.816957  107.0         6.250000     113.946912  \n",
       "2                            0.827500  107.0         1.234000     101.017882  \n",
       "3                            0.852083  107.0         4.319444     108.535485  \n",
       "4                            0.796000  107.0        12.654706     115.856423  \n",
       "5                            0.905652  107.0         4.178125     131.819535  \n",
       "6                            0.895909  107.0         3.105333     164.368345  "
      ]
     },
     "execution_count": 60,
     "metadata": {},
     "output_type": "execute_result"
    }
   ],
   "source": [
    "week = analysis[(analysis[\"date\"]<\"22-06-30\") & (analysis[\"date\"]>=\"22-06-23\")].groupby(\"date\")[['conversions','cost','impression_share','Absolute top impression percentage',\"final\",\"Conversion rate\"]].mean().reset_index()\n",
    "week[\"cost_per_conv\"]= week['cost']/week[\"conversions\"]\n",
    "week\n"
   ]
  },
  {
   "cell_type": "code",
   "execution_count": 61,
   "id": "8d7bf581",
   "metadata": {},
   "outputs": [
    {
     "data": {
      "text/plain": [
       "121.19468418012045"
      ]
     },
     "execution_count": 61,
     "metadata": {},
     "output_type": "execute_result"
    }
   ],
   "source": [
    "week[\"cost_per_conv\"].mean()\n"
   ]
  },
  {
   "cell_type": "code",
   "execution_count": 21,
   "id": "2df5847d",
   "metadata": {},
   "outputs": [
    {
     "data": {
      "text/plain": [
       "1     2.79\n",
       "2     5.01\n",
       "3    16.12\n",
       "4    -5.62\n",
       "5    -5.85\n",
       "6   -12.96\n",
       "Name: conversions, dtype: float64"
      ]
     },
     "execution_count": 21,
     "metadata": {},
     "output_type": "execute_result"
    }
   ],
   "source": [
    "rate= rate[1:]\n",
    "rate"
   ]
  },
  {
   "cell_type": "code",
   "execution_count": 22,
   "id": "8811fb7e",
   "metadata": {},
   "outputs": [
    {
     "data": {
      "text/plain": [
       "(121.19468418012045,\n",
       " conversions                             44.510000\n",
       " cost                                  5327.541429\n",
       " impression_share                         0.919474\n",
       " Absolute top impression percentage       0.831729\n",
       " final                                  107.000000\n",
       " dtype: float64)"
      ]
     },
     "execution_count": 22,
     "metadata": {},
     "output_type": "execute_result"
    }
   ],
   "source": [
    "week[\"cost_per_conv\"].mean(),analysis[(analysis[\"date\"]<\"22-06-30\") & (analysis[\"date\"]>=\"22-06-23\")][['conversions','cost','impression_share','Absolute top impression percentage',\"final\"]].mean()\n",
    "\n"
   ]
  },
  {
   "cell_type": "code",
   "execution_count": 155,
   "id": "5a49bd6c",
   "metadata": {},
   "outputs": [
    {
     "data": {
      "text/plain": [
       "<AxesSubplot:>"
      ]
     },
     "execution_count": 155,
     "metadata": {},
     "output_type": "execute_result"
    },
    {
     "data": {
      "image/png": "[encoded data removed]",
      "text/plain": [
       "<Figure size 432x288 with 2 Axes>"
      ]
     },
     "metadata": {
      "needs_background": "light"
     },
     "output_type": "display_data"
    }
   ],
   "source": [
    "ax = week.plot(x= \"date\", y = \"cost_per_conv\",)\n",
    "week.plot(x= \"date\", y = \"conversions\",ax = ax , secondary_y = True)"
   ]
  },
  {
   "cell_type": "code",
   "execution_count": 59,
   "id": "98c26bad",
   "metadata": {},
   "outputs": [
    {
     "data": {
      "text/plain": [
       "96.26132686084144"
      ]
     },
     "execution_count": 59,
     "metadata": {},
     "output_type": "execute_result"
    }
   ],
   "source": [
    "k = analysis\n",
    "k =k[k['weekday']==\"Friday\"][\"cost_per_conv\"].min()\n",
    "k\n"
   ]
  },
  {
   "cell_type": "code",
   "execution_count": 39,
   "id": "04965229",
   "metadata": {},
   "outputs": [],
   "source": [
    "analysis = analysis.groupby('weekday')[['conversions','cost','impression_share','Absolute top impression percentage',\"final\",\"Conversion rate\"]].mean()\n",
    "analysis['cost_per_conv'] = analysis['cost']/analysis['conversions']"
   ]
  },
  {
   "cell_type": "code",
   "execution_count": 40,
   "id": "2d66ebf6",
   "metadata": {},
   "outputs": [
    {
     "data": {
      "text/html": [
       "<div>\n",
       "<style scoped>\n",
       "    .dataframe tbody tr th:only-of-type {\n",
       "        vertical-align: middle;\n",
       "    }\n",
       "\n",
       "    .dataframe tbody tr th {\n",
       "        vertical-align: top;\n",
       "    }\n",
       "\n",
       "    .dataframe thead th {\n",
       "        text-align: right;\n",
       "    }\n",
       "</style>\n",
       "<table border=\"1\" class=\"dataframe\">\n",
       "  <thead>\n",
       "    <tr style=\"text-align: right;\">\n",
       "      <th></th>\n",
       "      <th>conversions</th>\n",
       "      <th>cost</th>\n",
       "      <th>impression_share</th>\n",
       "      <th>Absolute top impression percentage</th>\n",
       "      <th>final</th>\n",
       "      <th>Conversion rate</th>\n",
       "      <th>cost_per_conv</th>\n",
       "    </tr>\n",
       "    <tr>\n",
       "      <th>weekday</th>\n",
       "      <th></th>\n",
       "      <th></th>\n",
       "      <th></th>\n",
       "      <th></th>\n",
       "      <th></th>\n",
       "      <th></th>\n",
       "      <th></th>\n",
       "    </tr>\n",
       "  </thead>\n",
       "  <tbody>\n",
       "    <tr>\n",
       "      <th>Monday</th>\n",
       "      <td>54.612</td>\n",
       "      <td>6718.270</td>\n",
       "      <td>0.919408</td>\n",
       "      <td>0.762477</td>\n",
       "      <td>109.6</td>\n",
       "      <td>5.713946</td>\n",
       "      <td>123.018201</td>\n",
       "    </tr>\n",
       "    <tr>\n",
       "      <th>Tuesday</th>\n",
       "      <td>48.724</td>\n",
       "      <td>5890.022</td>\n",
       "      <td>0.909375</td>\n",
       "      <td>0.829320</td>\n",
       "      <td>110.8</td>\n",
       "      <td>6.467103</td>\n",
       "      <td>120.885436</td>\n",
       "    </tr>\n",
       "    <tr>\n",
       "      <th>Wednesday</th>\n",
       "      <td>34.470</td>\n",
       "      <td>4727.570</td>\n",
       "      <td>0.909115</td>\n",
       "      <td>0.850947</td>\n",
       "      <td>110.8</td>\n",
       "      <td>5.150016</td>\n",
       "      <td>137.150276</td>\n",
       "    </tr>\n",
       "    <tr>\n",
       "      <th>Thursday</th>\n",
       "      <td>49.758</td>\n",
       "      <td>6594.098</td>\n",
       "      <td>0.931788</td>\n",
       "      <td>0.823206</td>\n",
       "      <td>105.4</td>\n",
       "      <td>3.703895</td>\n",
       "      <td>132.523373</td>\n",
       "    </tr>\n",
       "    <tr>\n",
       "      <th>Friday</th>\n",
       "      <td>59.574</td>\n",
       "      <td>6581.506</td>\n",
       "      <td>0.906547</td>\n",
       "      <td>0.805388</td>\n",
       "      <td>107.4</td>\n",
       "      <td>6.562319</td>\n",
       "      <td>110.476147</td>\n",
       "    </tr>\n",
       "    <tr>\n",
       "      <th>Saturday</th>\n",
       "      <td>50.114</td>\n",
       "      <td>5448.676</td>\n",
       "      <td>0.915569</td>\n",
       "      <td>0.773703</td>\n",
       "      <td>107.0</td>\n",
       "      <td>5.411524</td>\n",
       "      <td>108.725626</td>\n",
       "    </tr>\n",
       "    <tr>\n",
       "      <th>Sunday</th>\n",
       "      <td>55.704</td>\n",
       "      <td>6466.532</td>\n",
       "      <td>0.914510</td>\n",
       "      <td>0.804340</td>\n",
       "      <td>107.0</td>\n",
       "      <td>5.083193</td>\n",
       "      <td>116.087390</td>\n",
       "    </tr>\n",
       "  </tbody>\n",
       "</table>\n",
       "</div>"
      ],
      "text/plain": [
       "           conversions      cost  impression_share  \\\n",
       "weekday                                              \n",
       "Monday          54.612  6718.270          0.919408   \n",
       "Tuesday         48.724  5890.022          0.909375   \n",
       "Wednesday       34.470  4727.570          0.909115   \n",
       "Thursday        49.758  6594.098          0.931788   \n",
       "Friday          59.574  6581.506          0.906547   \n",
       "Saturday        50.114  5448.676          0.915569   \n",
       "Sunday          55.704  6466.532          0.914510   \n",
       "\n",
       "           Absolute top impression percentage  final  Conversion rate  \\\n",
       "weekday                                                                 \n",
       "Monday                               0.762477  109.6         5.713946   \n",
       "Tuesday                              0.829320  110.8         6.467103   \n",
       "Wednesday                            0.850947  110.8         5.150016   \n",
       "Thursday                             0.823206  105.4         3.703895   \n",
       "Friday                               0.805388  107.4         6.562319   \n",
       "Saturday                             0.773703  107.0         5.411524   \n",
       "Sunday                               0.804340  107.0         5.083193   \n",
       "\n",
       "           cost_per_conv  \n",
       "weekday                   \n",
       "Monday        123.018201  \n",
       "Tuesday       120.885436  \n",
       "Wednesday     137.150276  \n",
       "Thursday      132.523373  \n",
       "Friday        110.476147  \n",
       "Saturday      108.725626  \n",
       "Sunday        116.087390  "
      ]
     },
     "execution_count": 40,
     "metadata": {},
     "output_type": "execute_result"
    }
   ],
   "source": [
    "analysis"
   ]
  },
  {
   "cell_type": "code",
   "execution_count": 92,
   "id": "8f5a0bf6",
   "metadata": {},
   "outputs": [
    {
     "data": {
      "text/html": [
       "<div>\n",
       "<style scoped>\n",
       "    .dataframe tbody tr th:only-of-type {\n",
       "        vertical-align: middle;\n",
       "    }\n",
       "\n",
       "    .dataframe tbody tr th {\n",
       "        vertical-align: top;\n",
       "    }\n",
       "\n",
       "    .dataframe thead th {\n",
       "        text-align: right;\n",
       "    }\n",
       "</style>\n",
       "<table border=\"1\" class=\"dataframe\">\n",
       "  <thead>\n",
       "    <tr style=\"text-align: right;\">\n",
       "      <th></th>\n",
       "      <th>weekday</th>\n",
       "      <th>conversions</th>\n",
       "      <th>cost</th>\n",
       "      <th>impression_share</th>\n",
       "      <th>final</th>\n",
       "      <th>Absolute top impression percentage</th>\n",
       "      <th>cost_per_conv</th>\n",
       "    </tr>\n",
       "  </thead>\n",
       "  <tbody>\n",
       "    <tr>\n",
       "      <th>0</th>\n",
       "      <td>Monday</td>\n",
       "      <td>0.0</td>\n",
       "      <td>0.00</td>\n",
       "      <td>NaN</td>\n",
       "      <td>NaN</td>\n",
       "      <td>NaN</td>\n",
       "      <td>NaN</td>\n",
       "    </tr>\n",
       "    <tr>\n",
       "      <th>1</th>\n",
       "      <td>Tuesday</td>\n",
       "      <td>0.0</td>\n",
       "      <td>0.00</td>\n",
       "      <td>NaN</td>\n",
       "      <td>NaN</td>\n",
       "      <td>NaN</td>\n",
       "      <td>NaN</td>\n",
       "    </tr>\n",
       "    <tr>\n",
       "      <th>2</th>\n",
       "      <td>Wednesday</td>\n",
       "      <td>0.0</td>\n",
       "      <td>0.00</td>\n",
       "      <td>NaN</td>\n",
       "      <td>NaN</td>\n",
       "      <td>NaN</td>\n",
       "      <td>NaN</td>\n",
       "    </tr>\n",
       "    <tr>\n",
       "      <th>3</th>\n",
       "      <td>Thursday</td>\n",
       "      <td>0.0</td>\n",
       "      <td>0.00</td>\n",
       "      <td>NaN</td>\n",
       "      <td>NaN</td>\n",
       "      <td>NaN</td>\n",
       "      <td>NaN</td>\n",
       "    </tr>\n",
       "    <tr>\n",
       "      <th>4</th>\n",
       "      <td>Friday</td>\n",
       "      <td>32.0</td>\n",
       "      <td>4384.07</td>\n",
       "      <td>0.905833</td>\n",
       "      <td>107.0</td>\n",
       "      <td>0.832083</td>\n",
       "      <td>137.002187</td>\n",
       "    </tr>\n",
       "    <tr>\n",
       "      <th>5</th>\n",
       "      <td>Saturday</td>\n",
       "      <td>0.0</td>\n",
       "      <td>0.00</td>\n",
       "      <td>NaN</td>\n",
       "      <td>NaN</td>\n",
       "      <td>NaN</td>\n",
       "      <td>NaN</td>\n",
       "    </tr>\n",
       "    <tr>\n",
       "      <th>6</th>\n",
       "      <td>Sunday</td>\n",
       "      <td>0.0</td>\n",
       "      <td>0.00</td>\n",
       "      <td>NaN</td>\n",
       "      <td>NaN</td>\n",
       "      <td>NaN</td>\n",
       "      <td>NaN</td>\n",
       "    </tr>\n",
       "  </tbody>\n",
       "</table>\n",
       "</div>"
      ],
      "text/plain": [
       "     weekday  conversions     cost  impression_share  final  \\\n",
       "0     Monday          0.0     0.00               NaN    NaN   \n",
       "1    Tuesday          0.0     0.00               NaN    NaN   \n",
       "2  Wednesday          0.0     0.00               NaN    NaN   \n",
       "3   Thursday          0.0     0.00               NaN    NaN   \n",
       "4     Friday         32.0  4384.07          0.905833  107.0   \n",
       "5   Saturday          0.0     0.00               NaN    NaN   \n",
       "6     Sunday          0.0     0.00               NaN    NaN   \n",
       "\n",
       "   Absolute top impression percentage  cost_per_conv  \n",
       "0                                 NaN            NaN  \n",
       "1                                 NaN            NaN  \n",
       "2                                 NaN            NaN  \n",
       "3                                 NaN            NaN  \n",
       "4                            0.832083     137.002187  \n",
       "5                                 NaN            NaN  \n",
       "6                                 NaN            NaN  "
      ]
     },
     "execution_count": 92,
     "metadata": {},
     "output_type": "execute_result"
    }
   ],
   "source": [
    "temp =data1[data1[\"date\"]=='22-07-01'].groupby([\"weekday\"])[[\"conversions\", \"cost\", \"impression_share\",\"final\",\"Absolute top impression percentage\"]].agg({\"conversions\":\"sum\",\"cost\":\"sum\",\"impression_share\":\"mean\", \"final\":\"mean\",\"Absolute top impression percentage\":\"mean\"}).reset_index()\n",
    "temp[\"cost_per_conv\"]= temp[\"cost\"]/temp[\"conversions\"]                                                                                                                                                              \n",
    "temp\n",
    "                       "
   ]
  },
  {
   "cell_type": "code",
   "execution_count": 83,
   "id": "b93d969b",
   "metadata": {},
   "outputs": [
    {
     "data": {
      "text/html": [
       "<div>\n",
       "<style scoped>\n",
       "    .dataframe tbody tr th:only-of-type {\n",
       "        vertical-align: middle;\n",
       "    }\n",
       "\n",
       "    .dataframe tbody tr th {\n",
       "        vertical-align: top;\n",
       "    }\n",
       "\n",
       "    .dataframe thead th {\n",
       "        text-align: right;\n",
       "    }\n",
       "</style>\n",
       "<table border=\"1\" class=\"dataframe\">\n",
       "  <thead>\n",
       "    <tr style=\"text-align: right;\">\n",
       "      <th></th>\n",
       "      <th>weekday</th>\n",
       "      <th>conversions</th>\n",
       "      <th>cost</th>\n",
       "      <th>impression_share</th>\n",
       "      <th>final</th>\n",
       "      <th>Absolute top impression percentage</th>\n",
       "      <th>cost_per_conv</th>\n",
       "    </tr>\n",
       "  </thead>\n",
       "  <tbody>\n",
       "    <tr>\n",
       "      <th>0</th>\n",
       "      <td>Monday</td>\n",
       "      <td>0.00</td>\n",
       "      <td>0.0</td>\n",
       "      <td>NaN</td>\n",
       "      <td>NaN</td>\n",
       "      <td>NaN</td>\n",
       "      <td>NaN</td>\n",
       "    </tr>\n",
       "    <tr>\n",
       "      <th>1</th>\n",
       "      <td>Tuesday</td>\n",
       "      <td>0.00</td>\n",
       "      <td>0.0</td>\n",
       "      <td>NaN</td>\n",
       "      <td>NaN</td>\n",
       "      <td>NaN</td>\n",
       "      <td>NaN</td>\n",
       "    </tr>\n",
       "    <tr>\n",
       "      <th>2</th>\n",
       "      <td>Wednesday</td>\n",
       "      <td>0.00</td>\n",
       "      <td>0.0</td>\n",
       "      <td>NaN</td>\n",
       "      <td>NaN</td>\n",
       "      <td>NaN</td>\n",
       "      <td>NaN</td>\n",
       "    </tr>\n",
       "    <tr>\n",
       "      <th>3</th>\n",
       "      <td>Thursday</td>\n",
       "      <td>52.44</td>\n",
       "      <td>6654.0</td>\n",
       "      <td>0.938696</td>\n",
       "      <td>107.0</td>\n",
       "      <td>0.881304</td>\n",
       "      <td>126.887872</td>\n",
       "    </tr>\n",
       "    <tr>\n",
       "      <th>4</th>\n",
       "      <td>Friday</td>\n",
       "      <td>0.00</td>\n",
       "      <td>0.0</td>\n",
       "      <td>NaN</td>\n",
       "      <td>NaN</td>\n",
       "      <td>NaN</td>\n",
       "      <td>NaN</td>\n",
       "    </tr>\n",
       "    <tr>\n",
       "      <th>5</th>\n",
       "      <td>Saturday</td>\n",
       "      <td>0.00</td>\n",
       "      <td>0.0</td>\n",
       "      <td>NaN</td>\n",
       "      <td>NaN</td>\n",
       "      <td>NaN</td>\n",
       "      <td>NaN</td>\n",
       "    </tr>\n",
       "    <tr>\n",
       "      <th>6</th>\n",
       "      <td>Sunday</td>\n",
       "      <td>0.00</td>\n",
       "      <td>0.0</td>\n",
       "      <td>NaN</td>\n",
       "      <td>NaN</td>\n",
       "      <td>NaN</td>\n",
       "      <td>NaN</td>\n",
       "    </tr>\n",
       "  </tbody>\n",
       "</table>\n",
       "</div>"
      ],
      "text/plain": [
       "     weekday  conversions    cost  impression_share  final  \\\n",
       "0     Monday         0.00     0.0               NaN    NaN   \n",
       "1    Tuesday         0.00     0.0               NaN    NaN   \n",
       "2  Wednesday         0.00     0.0               NaN    NaN   \n",
       "3   Thursday        52.44  6654.0          0.938696  107.0   \n",
       "4     Friday         0.00     0.0               NaN    NaN   \n",
       "5   Saturday         0.00     0.0               NaN    NaN   \n",
       "6     Sunday         0.00     0.0               NaN    NaN   \n",
       "\n",
       "   Absolute top impression percentage  cost_per_conv  \n",
       "0                                 NaN            NaN  \n",
       "1                                 NaN            NaN  \n",
       "2                                 NaN            NaN  \n",
       "3                            0.881304     126.887872  \n",
       "4                                 NaN            NaN  \n",
       "5                                 NaN            NaN  \n",
       "6                                 NaN            NaN  "
      ]
     },
     "execution_count": 83,
     "metadata": {},
     "output_type": "execute_result"
    }
   ],
   "source": [
    "temp =data1[data1[\"date\"]=='22-06-30'].groupby([\"weekday\"])[[\"conversions\", \"cost\", \"impression_share\",\"final\",\"Absolute top impression percentage\"]].agg({\"conversions\":\"sum\",\"cost\":\"sum\",\"impression_share\":\"mean\", \"final\":\"mean\",\"Absolute top impression percentage\":\"mean\"}).reset_index()\n",
    "temp[\"cost_per_conv\"] = temp[\"cost\"]/temp[\"conversions\"]                                                                                                                                                              \n",
    "temp"
   ]
  },
  {
   "cell_type": "code",
   "execution_count": 613,
   "id": "680312dd",
   "metadata": {},
   "outputs": [],
   "source": [
    "# data1[data1[\"date\"]==\"22-07-06\"]"
   ]
  },
  {
   "cell_type": "code",
   "execution_count": null,
   "id": "17afe4ff",
   "metadata": {},
   "outputs": [],
   "source": []
  },
  {
   "cell_type": "code",
   "execution_count": null,
   "id": "34439766",
   "metadata": {},
   "outputs": [],
   "source": []
  },
  {
   "cell_type": "code",
   "execution_count": 680,
   "id": "8b33d409",
   "metadata": {},
   "outputs": [
    {
     "data": {
      "text/plain": [
       "'31-05-22'"
      ]
     },
     "execution_count": 680,
     "metadata": {},
     "output_type": "execute_result"
    }
   ],
   "source": [
    "data1[\"date\"].max()"
   ]
  },
  {
   "cell_type": "code",
   "execution_count": 415,
   "id": "a76ed715",
   "metadata": {},
   "outputs": [],
   "source": [
    "# data1[\"final\"]"
   ]
  },
  {
   "cell_type": "code",
   "execution_count": 342,
   "id": "3ee51365",
   "metadata": {},
   "outputs": [
    {
     "data": {
      "text/plain": [
       "conversions      39.60\n",
       "cost           4831.74\n",
       "dtype: float64"
      ]
     },
     "execution_count": 342,
     "metadata": {},
     "output_type": "execute_result"
    }
   ],
   "source": [
    "data1[data1['date'] == '22-06-15'][['conversions','cost']].sum()"
   ]
  },
  {
   "cell_type": "code",
   "execution_count": 42,
   "id": "16891640",
   "metadata": {
    "id": "16891640"
   },
   "outputs": [
    {
     "ename": "NameError",
     "evalue": "name 'CPA1' is not defined",
     "output_type": "error",
     "traceback": [
      "\u001b[0;31m---------------------------------------------------------------------------\u001b[0m",
      "\u001b[0;31mNameError\u001b[0m                                 Traceback (most recent call last)",
      "Input \u001b[0;32mIn [42]\u001b[0m, in \u001b[0;36m<cell line: 1>\u001b[0;34m()\u001b[0m\n\u001b[0;32m----> 1\u001b[0m TCPA \u001b[38;5;241m=\u001b[39m \u001b[43mCPA1\u001b[49m\u001b[38;5;241m*\u001b[39m\u001b[38;5;241m1.1\u001b[39m\n",
      "\u001b[0;31mNameError\u001b[0m: name 'CPA1' is not defined"
     ]
    }
   ],
   "source": [
    "data requirement = latest one week data and 5 week day data \n",
    "\n",
    "avg_cpa = 0.4*(week average cpa value) + 0.6*(day average cpa value)\n",
    "similarly avg conversion rate, avg impression share \n",
    "current_cpa = latest cpa value we took 12pm(night) today for next day recommendation\n",
    "\n",
    "### from graph we know tcpa increase or decrease\n",
    "\n",
    "### deciding max and min value \n",
    "max_limit = max of (5 days value of that day)\n",
    "min_limit = min of (5 days value of that day)\n",
    "\n",
    "\n",
    "### tcpa calculation \n",
    "TCPA = CPA or (CPA*1.01)\n",
    "\n",
    "CPA(avg cpa, current cpa , avg day cpa , avg conversion rate, avg impression share, range limit of cpa value)\n",
    "\n",
    "CPA = current cpa (+ or -) total Delta change cpa\n",
    "\n",
    "total Delta change cpa = |delta_avg| + |delta_impression_share| + |delta_conversion_rate|\n",
    "\n",
    "\n",
    "delta_avg = c1*(current cpa - avg cpa)/avg cpa*[current cpa]\n",
    "[c1 = 0.5]\n",
    "\n",
    "delta_impression_share = (current impression share - avg impression share)/avg impression share*[current cpa]\n",
    "\n",
    "delta_conversion_rate = c2*(current conversion rate - avg conversion rate)/avg conversion rate*[current cpa]\n",
    "[c2 = 0.05]\n",
    "\n",
    "\n"
   ]
  },
  {
   "cell_type": "code",
   "execution_count": null,
   "id": "38c8e7f0",
   "metadata": {},
   "outputs": [],
   "source": []
  },
  {
   "cell_type": "code",
   "execution_count": null,
   "id": "128b6e61",
   "metadata": {},
   "outputs": [],
   "source": []
  },
  {
   "cell_type": "code",
   "execution_count": null,
   "id": "4d791c0f",
   "metadata": {},
   "outputs": [],
   "source": []
  },
  {
   "cell_type": "code",
   "execution_count": null,
   "id": "18945206",
   "metadata": {},
   "outputs": [],
   "source": []
  },
  {
   "cell_type": "code",
   "execution_count": null,
   "id": "3b37ffeb",
   "metadata": {},
   "outputs": [],
   "source": []
  }
 ],
 "metadata": {
  "colab": {
   "name": " GKB - TCPA.ipynb2",
   "provenance": []
  },
  "kernelspec": {
   "display_name": "Python 3 (ipykernel)",
   "language": "python",
   "name": "python3"
  },
  "language_info": {
   "codemirror_mode": {
    "name": "ipython",
    "version": 3
   },
   "file_extension": ".py",
   "mimetype": "text/x-python",
   "name": "python",
   "nbconvert_exporter": "python",
   "pygments_lexer": "ipython3",
   "version": "3.8.0"
  }
 },
 "nbformat": 4,
 "nbformat_minor": 5
}
